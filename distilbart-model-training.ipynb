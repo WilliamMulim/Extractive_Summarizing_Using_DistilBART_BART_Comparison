{
 "cells": [
  {
   "cell_type": "code",
   "execution_count": 1,
   "id": "8e98a9da",
   "metadata": {
    "execution": {
     "iopub.execute_input": "2022-01-30T04:28:33.311242Z",
     "iopub.status.busy": "2022-01-30T04:28:33.308106Z",
     "iopub.status.idle": "2022-01-30T04:28:33.314678Z",
     "shell.execute_reply": "2022-01-30T04:28:33.313948Z"
    },
    "papermill": {
     "duration": 0.049561,
     "end_time": "2022-01-30T04:28:33.314941",
     "exception": false,
     "start_time": "2022-01-30T04:28:33.265380",
     "status": "completed"
    },
    "tags": []
   },
   "outputs": [],
   "source": [
    "import numpy as np\n",
    "import pandas as pd"
   ]
  },
  {
   "cell_type": "code",
   "execution_count": 2,
   "id": "e76d76e7",
   "metadata": {
    "execution": {
     "iopub.execute_input": "2022-01-30T04:28:33.381366Z",
     "iopub.status.busy": "2022-01-30T04:28:33.380802Z",
     "iopub.status.idle": "2022-01-30T04:28:59.798596Z",
     "shell.execute_reply": "2022-01-30T04:28:59.798120Z",
     "shell.execute_reply.started": "2022-01-24T17:31:19.322143Z"
    },
    "papermill": {
     "duration": 26.451248,
     "end_time": "2022-01-30T04:28:59.798734",
     "exception": false,
     "start_time": "2022-01-30T04:28:33.347486",
     "status": "completed"
    },
    "tags": []
   },
   "outputs": [],
   "source": [
    "train_data = pd.read_csv('../input/newspaper-text-summarization-cnn-dailymail/cnn_dailymail/train.csv')\n",
    "validation_data = pd.read_csv('../input/newspaper-text-summarization-cnn-dailymail/cnn_dailymail/validation.csv')"
   ]
  },
  {
   "cell_type": "code",
   "execution_count": 3,
   "id": "e2d3688a",
   "metadata": {
    "execution": {
     "iopub.execute_input": "2022-01-30T04:28:59.845367Z",
     "iopub.status.busy": "2022-01-30T04:28:59.844399Z",
     "iopub.status.idle": "2022-01-30T04:28:59.858374Z",
     "shell.execute_reply": "2022-01-30T04:28:59.858772Z",
     "shell.execute_reply.started": "2022-01-24T17:31:46.45121Z"
    },
    "papermill": {
     "duration": 0.039639,
     "end_time": "2022-01-30T04:28:59.858946",
     "exception": false,
     "start_time": "2022-01-30T04:28:59.819307",
     "status": "completed"
    },
    "tags": []
   },
   "outputs": [
    {
     "name": "stdout",
     "output_type": "stream",
     "text": [
      "<bound method DataFrame.info of                                               id  \\\n",
      "0       0001d1afc246a7964130f43ae940af6bc6c57f01   \n",
      "1       0002095e55fcbd3a2f366d9bf92a95433dc305ef   \n",
      "2       00027e965c8264c35cc1bc55556db388da82b07f   \n",
      "3       0002c17436637c4fe1837c935c04de47adb18e9a   \n",
      "4       0003ad6ef0c37534f80b55b4235108024b407f0b   \n",
      "...                                          ...   \n",
      "287108  fffdfb56fdf1a12d364562cc2b9b1d4de7481dee   \n",
      "287109  fffeecb8690b85de8c3faed80adbc7a978f9ae2a   \n",
      "287110  ffff5231e4c71544bc6c97015cdb16c60e42b3f4   \n",
      "287111  ffff924b14a8d82058b6c1c5368ff1113c1632af   \n",
      "287112  ffffd563a96104f5cf4493cfa701a65f31b06abf   \n",
      "\n",
      "                                                  article  \\\n",
      "0       By . Associated Press . PUBLISHED: . 14:11 EST...   \n",
      "1       (CNN) -- Ralph Mata was an internal affairs li...   \n",
      "2       A drunk driver who killed a young woman in a h...   \n",
      "3       (CNN) -- With a breezy sweep of his pen Presid...   \n",
      "4       Fleetwood are the only team still to have a 10...   \n",
      "...                                                   ...   \n",
      "287108  By . James Rush . Former first daughter Chelse...   \n",
      "287109  An apologetic Vanilla Ice has given his first ...   \n",
      "287110  America's most lethal sniper claimed he wished...   \n",
      "287111  By . Sara Malm . PUBLISHED: . 12:19 EST, 8 Mar...   \n",
      "287112  (CNN)Former Florida Gov. Jeb Bush has decided ...   \n",
      "\n",
      "                                               highlights  \n",
      "0       Bishop John Folda, of North Dakota, is taking ...  \n",
      "1       Criminal complaint: Cop used his role to help ...  \n",
      "2       Craig Eccleston-Todd, 27, had drunk at least t...  \n",
      "3       Nina dos Santos says Europe must be ready to a...  \n",
      "4       Fleetwood top of League One after 2-0 win at S...  \n",
      "...                                                   ...  \n",
      "287108  Chelsea Clinton said question of running for o...  \n",
      "287109  Vanilla Ice, 47 - real name Robert Van Winkle ...  \n",
      "287110  America's most lethal sniper made comment in i...  \n",
      "287111  A swarm of more than one million has crossed b...  \n",
      "287112  Other 2016 hopefuls maintain that Bush's annou...  \n",
      "\n",
      "[287113 rows x 3 columns]>\n",
      "<bound method DataFrame.info of                                              id  \\\n",
      "0      61df4979ac5fcc2b71be46ed6fe5a46ce7f071c3   \n",
      "1      21c0bd69b7e7df285c3d1b1cf56d4da925980a68   \n",
      "2      56f340189cd128194b2e7cb8c26bb900e3a848b4   \n",
      "3      00a665151b89a53e5a08a389df8334f4106494c2   \n",
      "4      9f6fbd3c497c4d28879bebebea220884f03eb41a   \n",
      "...                                         ...   \n",
      "13363  e93f721ba4949f21f33549c4a21d55ff456af979   \n",
      "13364  8df19a570ad14119a7d00f3bbe864fedf8c1691d   \n",
      "13365  2fdd5f89aa26e91ceea9b0ef264abfcfc3e6fa2e   \n",
      "13366  530d7b18d7a715b368b0745f9dfebfe353adeda8   \n",
      "13367  42d6f6e10a45ff469fbe3ef7345838aa45dcdd61   \n",
      "\n",
      "                                                 article  \\\n",
      "0      Sally Forrest, an actress-dancer who graced th...   \n",
      "1      A middle-school teacher in China has inked hun...   \n",
      "2      A man convicted of killing the father and sist...   \n",
      "3      Avid rugby fan Prince Harry could barely watch...   \n",
      "4      A Triple M Radio producer has been inundated w...   \n",
      "...                                                  ...   \n",
      "13363  All shops will be allowed to offer ‘click and ...   \n",
      "13364  Mo Farah has had his nationality called into q...   \n",
      "13365  Wolves kept their promotion hopes alive with a...   \n",
      "13366  A Brown University graduate student  has died ...   \n",
      "13367  As thousands of young Australians look to buy ...   \n",
      "\n",
      "                                              highlights  \n",
      "0      Sally Forrest, an actress-dancer who graced th...  \n",
      "1      Works include pictures of Presidential Palace ...  \n",
      "2      Iftekhar Murtaza, 29, was convicted a year ago...  \n",
      "3      Prince Harry in attendance for England's crunc...  \n",
      "4      Nick Slater's colleagues uploaded a picture to...  \n",
      "...                                                  ...  \n",
      "13363  Shops won't have to apply for planning permiss...  \n",
      "13364  Mo Farah broke the European half-marathon reco...  \n",
      "13365  Wolves are three points off the play-off place...  \n",
      "13366  Hyoun Ju Sohn, a 25-year-old doctoral student,...  \n",
      "13367  60% of estate agents believe owning a home is ...  \n",
      "\n",
      "[13368 rows x 3 columns]>\n"
     ]
    }
   ],
   "source": [
    "print(train_data.info)\n",
    "print(validation_data.info)"
   ]
  },
  {
   "cell_type": "markdown",
   "id": "de4f0d78",
   "metadata": {
    "execution": {
     "iopub.execute_input": "2021-10-16T09:35:58.065301Z",
     "iopub.status.busy": "2021-10-16T09:35:58.064848Z",
     "iopub.status.idle": "2021-10-16T09:35:58.101141Z",
     "shell.execute_reply": "2021-10-16T09:35:58.100409Z",
     "shell.execute_reply.started": "2021-10-16T09:35:58.065268Z"
    },
    "papermill": {
     "duration": 0.020756,
     "end_time": "2022-01-30T04:28:59.901117",
     "exception": false,
     "start_time": "2022-01-30T04:28:59.880361",
     "status": "completed"
    },
    "tags": []
   },
   "source": [
    "No preprocessing was done to the article and highlights itself as news can lose some of its original message when all the letter is in lowercase"
   ]
  },
  {
   "cell_type": "markdown",
   "id": "51101a61",
   "metadata": {
    "papermill": {
     "duration": 0.02046,
     "end_time": "2022-01-30T04:28:59.942149",
     "exception": false,
     "start_time": "2022-01-30T04:28:59.921689",
     "status": "completed"
    },
    "tags": []
   },
   "source": [
    "take only 20.000 rows from training dataset and 900 rows from validation and testing dataset due to computation limitation,"
   ]
  },
  {
   "cell_type": "code",
   "execution_count": 4,
   "id": "ad76c884",
   "metadata": {
    "execution": {
     "iopub.execute_input": "2022-01-30T04:28:59.997704Z",
     "iopub.status.busy": "2022-01-30T04:28:59.990193Z",
     "iopub.status.idle": "2022-01-30T04:29:00.237788Z",
     "shell.execute_reply": "2022-01-30T04:29:00.237262Z",
     "shell.execute_reply.started": "2022-01-28T12:54:16.184048Z"
    },
    "papermill": {
     "duration": 0.275029,
     "end_time": "2022-01-30T04:29:00.237941",
     "exception": false,
     "start_time": "2022-01-30T04:28:59.962912",
     "status": "completed"
    },
    "tags": []
   },
   "outputs": [],
   "source": [
    "train_data = train_data.sample(n=20000, random_state=123)\n",
    "train_data = train_data.reset_index()\n",
    "validation_data = validation_data.sample(n=900, random_state=312)\n",
    "validation_data = validation_data.reset_index()"
   ]
  },
  {
   "cell_type": "code",
   "execution_count": 5,
   "id": "494153ca",
   "metadata": {
    "execution": {
     "iopub.execute_input": "2022-01-30T04:29:00.289290Z",
     "iopub.status.busy": "2022-01-30T04:29:00.288406Z",
     "iopub.status.idle": "2022-01-30T04:29:00.296970Z",
     "shell.execute_reply": "2022-01-30T04:29:00.296450Z",
     "shell.execute_reply.started": "2022-01-24T17:31:46.75024Z"
    },
    "papermill": {
     "duration": 0.038138,
     "end_time": "2022-01-30T04:29:00.297087",
     "exception": false,
     "start_time": "2022-01-30T04:29:00.258949",
     "status": "completed"
    },
    "tags": []
   },
   "outputs": [
    {
     "data": {
      "text/html": [
       "<div>\n",
       "<style scoped>\n",
       "    .dataframe tbody tr th:only-of-type {\n",
       "        vertical-align: middle;\n",
       "    }\n",
       "\n",
       "    .dataframe tbody tr th {\n",
       "        vertical-align: top;\n",
       "    }\n",
       "\n",
       "    .dataframe thead th {\n",
       "        text-align: right;\n",
       "    }\n",
       "</style>\n",
       "<table border=\"1\" class=\"dataframe\">\n",
       "  <thead>\n",
       "    <tr style=\"text-align: right;\">\n",
       "      <th></th>\n",
       "      <th>index</th>\n",
       "      <th>id</th>\n",
       "      <th>article</th>\n",
       "      <th>highlights</th>\n",
       "    </tr>\n",
       "  </thead>\n",
       "  <tbody>\n",
       "    <tr>\n",
       "      <th>0</th>\n",
       "      <td>252682</td>\n",
       "      <td>d303b222282ba8870fe997c030f8582ef8809ab8</td>\n",
       "      <td>A group of Brazilian convicts who tunnelled out of jail to freedom filmed the whole escape on a mobile phone ... before posting the videos online to taunt their hoodwinked guards. In a daring breakout that echoed 1994 Hollywood blockbuster The Shawshank Redemption, 13 prisoners dug a small hole under the wall between their cell and the prison yard in Rio Verde, Goias State, before darting to freedom under cover of darkness. But unlike the famous movie, starring Tim Robbins and Morgan Freeman, which is set in the 1940s, their escape had very modern twist. Rather than focus purely on getting out of jail without detection, they felt compelled to record the whole experience on a mobile phone and post it on the internet for all to see. Scroll down for video . Brazen: The thirteen prisoners filmed their escape on mobile phones, laughing as they did so, before later posting the video online . Like a movie: In a daring breakout that echoed 1994 Hollywood blockbuster The Shawshank Redemption, the prisoners dug a small hole under the wall that separated their cell and the prison yard in Rio Verde, Goias State, before darting to freedom under cover of darkness . Police deputy Jacqueline Camargo Machado admitted that the prisoners' cells had not been inspected for two months, blaming staff shortages. She said: 'The guard that was there on the day was looking after other things most of the time. 'We now know that there had not been an inspection of the cell for almost 60 days. They were able to dig a tunnel and it was easy to escape after that.' Ezequias Gonçalves Miranda and William Pereira Da Mata were two of the crooks that tunnelled out of jail to freedom. It is unclear if they appeared in the video . More than Freeman: It was a daring breakout that echoed 1994 Hollywood blockbuster The Shawshank Redemption, starring Morgan Freeman (left) and Tim Robbins (right) - but with a very modern twist . The prison guard on duty has been suspended for not managing to foil the secret plot. A manhunt has been launched resulting in the capture of two men. The other 11 remain at large. It is not the first escape from Brazilian jail. A year ago 54 prisoners staged a mass escape after a riot at the Fundação Casa youth detentionfacility in Sao Paulo, which houses more than 100 detainees. Dozens of the under-age offenders set fire to their mattresses, sparking a blaze in the prison's central yard.  Helicopter images showed plumes of smoke rising from the detention centre. Video footage also showed prisoners climbing over the prison walls and escaping down trees. Nearly 30 staff members were held hostage during the riot and the facility's director was admitted to hospital with cuts to his head and bruised ribs.</td>\n",
       "      <td>13 prisoners escaped from Rio Grande prison after digging hole under wall .\\nThe escape had shades of 1994 blockbuster The Shawshank Redemption .\\nBut in a modern twist, they filmed escape on smuggled mobile phones .\\nThey then posted the video online which showed them goading guards .</td>\n",
       "    </tr>\n",
       "  </tbody>\n",
       "</table>\n",
       "</div>"
      ],
      "text/plain": [
       "    index                                        id  \\\n",
       "0  252682  d303b222282ba8870fe997c030f8582ef8809ab8   \n",
       "\n",
       "                                                                                                                                                                                                                                                                                                                                                                                                                                                                                                                                                                                                                                                                                                                                                                                                                                                                                                                                                                                                                                                                                                                                                                                                                                                                                                                                                                                                                                                                                                                                                                                                                                                                                                                                                                                                                                                                                                                                                                                                                                                                                                                                                                                                                                                                                                                                                                                                                                                                                                                                                                                                                                                                                                                                                                                                                                        article  \\\n",
       "0  A group of Brazilian convicts who tunnelled out of jail to freedom filmed the whole escape on a mobile phone ... before posting the videos online to taunt their hoodwinked guards. In a daring breakout that echoed 1994 Hollywood blockbuster The Shawshank Redemption, 13 prisoners dug a small hole under the wall between their cell and the prison yard in Rio Verde, Goias State, before darting to freedom under cover of darkness. But unlike the famous movie, starring Tim Robbins and Morgan Freeman, which is set in the 1940s, their escape had very modern twist. Rather than focus purely on getting out of jail without detection, they felt compelled to record the whole experience on a mobile phone and post it on the internet for all to see. Scroll down for video . Brazen: The thirteen prisoners filmed their escape on mobile phones, laughing as they did so, before later posting the video online . Like a movie: In a daring breakout that echoed 1994 Hollywood blockbuster The Shawshank Redemption, the prisoners dug a small hole under the wall that separated their cell and the prison yard in Rio Verde, Goias State, before darting to freedom under cover of darkness . Police deputy Jacqueline Camargo Machado admitted that the prisoners' cells had not been inspected for two months, blaming staff shortages. She said: 'The guard that was there on the day was looking after other things most of the time. 'We now know that there had not been an inspection of the cell for almost 60 days. They were able to dig a tunnel and it was easy to escape after that.' Ezequias Gonçalves Miranda and William Pereira Da Mata were two of the crooks that tunnelled out of jail to freedom. It is unclear if they appeared in the video . More than Freeman: It was a daring breakout that echoed 1994 Hollywood blockbuster The Shawshank Redemption, starring Morgan Freeman (left) and Tim Robbins (right) - but with a very modern twist . The prison guard on duty has been suspended for not managing to foil the secret plot. A manhunt has been launched resulting in the capture of two men. The other 11 remain at large. It is not the first escape from Brazilian jail. A year ago 54 prisoners staged a mass escape after a riot at the Fundação Casa youth detentionfacility in Sao Paulo, which houses more than 100 detainees. Dozens of the under-age offenders set fire to their mattresses, sparking a blaze in the prison's central yard.  Helicopter images showed plumes of smoke rising from the detention centre. Video footage also showed prisoners climbing over the prison walls and escaping down trees. Nearly 30 staff members were held hostage during the riot and the facility's director was admitted to hospital with cuts to his head and bruised ribs.   \n",
       "\n",
       "                                                                                                                                                                                                                                                                                       highlights  \n",
       "0  13 prisoners escaped from Rio Grande prison after digging hole under wall .\\nThe escape had shades of 1994 blockbuster The Shawshank Redemption .\\nBut in a modern twist, they filmed escape on smuggled mobile phones .\\nThey then posted the video online which showed them goading guards .  "
      ]
     },
     "execution_count": 5,
     "metadata": {},
     "output_type": "execute_result"
    }
   ],
   "source": [
    "pd.set_option('display.max_colwidth',None)\n",
    "train_data.head(1)"
   ]
  },
  {
   "cell_type": "code",
   "execution_count": 6,
   "id": "ef91ec9a",
   "metadata": {
    "execution": {
     "iopub.execute_input": "2022-01-30T04:29:00.347647Z",
     "iopub.status.busy": "2022-01-30T04:29:00.346955Z",
     "iopub.status.idle": "2022-01-30T04:29:27.463152Z",
     "shell.execute_reply": "2022-01-30T04:29:27.462642Z",
     "shell.execute_reply.started": "2022-01-24T17:31:46.768309Z"
    },
    "papermill": {
     "duration": 27.143371,
     "end_time": "2022-01-30T04:29:27.463305",
     "exception": false,
     "start_time": "2022-01-30T04:29:00.319934",
     "status": "completed"
    },
    "tags": []
   },
   "outputs": [
    {
     "name": "stdout",
     "output_type": "stream",
     "text": [
      "\u001b[33mWARNING: Running pip as the 'root' user can result in broken permissions and conflicting behaviour with the system package manager. It is recommended to use a virtual environment instead: https://pip.pypa.io/warnings/venv\u001b[0m\r\n",
      "Collecting spacy-transformers\r\n",
      "  Downloading spacy_transformers-1.1.4-py2.py3-none-any.whl (51 kB)\r\n",
      "     |████████████████████████████████| 51 kB 88 kB/s             \r\n",
      "\u001b[?25hRequirement already satisfied: torch>=1.6.0 in /opt/conda/lib/python3.7/site-packages (from spacy-transformers) (1.9.1)\r\n",
      "Requirement already satisfied: srsly<3.0.0,>=2.4.0 in /opt/conda/lib/python3.7/site-packages (from spacy-transformers) (2.4.2)\r\n",
      "Requirement already satisfied: spacy<4.0.0,>=3.1.3 in /opt/conda/lib/python3.7/site-packages (from spacy-transformers) (3.1.4)\r\n",
      "Requirement already satisfied: transformers<4.16.0,>=3.4.0 in /opt/conda/lib/python3.7/site-packages (from spacy-transformers) (4.12.5)\r\n",
      "Collecting spacy-alignments<1.0.0,>=0.7.2\r\n",
      "  Downloading spacy_alignments-0.8.4-cp37-cp37m-manylinux_2_17_x86_64.manylinux2014_x86_64.whl (1.1 MB)\r\n",
      "     |████████████████████████████████| 1.1 MB 1.1 MB/s            \r\n",
      "\u001b[?25hRequirement already satisfied: numpy>=1.15.0 in /opt/conda/lib/python3.7/site-packages (from spacy<4.0.0,>=3.1.3->spacy-transformers) (1.19.5)\r\n",
      "Requirement already satisfied: typing-extensions<4.0.0.0,>=3.7.4 in /opt/conda/lib/python3.7/site-packages (from spacy<4.0.0,>=3.1.3->spacy-transformers) (3.10.0.2)\r\n",
      "Requirement already satisfied: setuptools in /opt/conda/lib/python3.7/site-packages (from spacy<4.0.0,>=3.1.3->spacy-transformers) (59.4.0)\r\n",
      "Requirement already satisfied: pydantic!=1.8,!=1.8.1,<1.9.0,>=1.7.4 in /opt/conda/lib/python3.7/site-packages (from spacy<4.0.0,>=3.1.3->spacy-transformers) (1.8.2)\r\n",
      "Requirement already satisfied: catalogue<2.1.0,>=2.0.6 in /opt/conda/lib/python3.7/site-packages (from spacy<4.0.0,>=3.1.3->spacy-transformers) (2.0.6)\r\n",
      "Requirement already satisfied: thinc<8.1.0,>=8.0.12 in /opt/conda/lib/python3.7/site-packages (from spacy<4.0.0,>=3.1.3->spacy-transformers) (8.0.13)\r\n",
      "Requirement already satisfied: cymem<2.1.0,>=2.0.2 in /opt/conda/lib/python3.7/site-packages (from spacy<4.0.0,>=3.1.3->spacy-transformers) (2.0.6)\r\n",
      "Requirement already satisfied: typer<0.5.0,>=0.3.0 in /opt/conda/lib/python3.7/site-packages (from spacy<4.0.0,>=3.1.3->spacy-transformers) (0.4.0)\r\n",
      "Requirement already satisfied: pathy>=0.3.5 in /opt/conda/lib/python3.7/site-packages (from spacy<4.0.0,>=3.1.3->spacy-transformers) (0.6.1)\r\n",
      "Requirement already satisfied: blis<0.8.0,>=0.4.0 in /opt/conda/lib/python3.7/site-packages (from spacy<4.0.0,>=3.1.3->spacy-transformers) (0.7.5)\r\n",
      "Requirement already satisfied: tqdm<5.0.0,>=4.38.0 in /opt/conda/lib/python3.7/site-packages (from spacy<4.0.0,>=3.1.3->spacy-transformers) (4.62.3)\r\n",
      "Requirement already satisfied: preshed<3.1.0,>=3.0.2 in /opt/conda/lib/python3.7/site-packages (from spacy<4.0.0,>=3.1.3->spacy-transformers) (3.0.6)\r\n",
      "Requirement already satisfied: requests<3.0.0,>=2.13.0 in /opt/conda/lib/python3.7/site-packages (from spacy<4.0.0,>=3.1.3->spacy-transformers) (2.26.0)\r\n",
      "Requirement already satisfied: spacy-legacy<3.1.0,>=3.0.8 in /opt/conda/lib/python3.7/site-packages (from spacy<4.0.0,>=3.1.3->spacy-transformers) (3.0.8)\r\n",
      "Requirement already satisfied: murmurhash<1.1.0,>=0.28.0 in /opt/conda/lib/python3.7/site-packages (from spacy<4.0.0,>=3.1.3->spacy-transformers) (1.0.6)\r\n",
      "Requirement already satisfied: jinja2 in /opt/conda/lib/python3.7/site-packages (from spacy<4.0.0,>=3.1.3->spacy-transformers) (3.0.3)\r\n",
      "Requirement already satisfied: packaging>=20.0 in /opt/conda/lib/python3.7/site-packages (from spacy<4.0.0,>=3.1.3->spacy-transformers) (21.3)\r\n",
      "Requirement already satisfied: wasabi<1.1.0,>=0.8.1 in /opt/conda/lib/python3.7/site-packages (from spacy<4.0.0,>=3.1.3->spacy-transformers) (0.9.0)\r\n",
      "Requirement already satisfied: importlib-metadata in /opt/conda/lib/python3.7/site-packages (from transformers<4.16.0,>=3.4.0->spacy-transformers) (4.10.0)\r\n",
      "Requirement already satisfied: sacremoses in /opt/conda/lib/python3.7/site-packages (from transformers<4.16.0,>=3.4.0->spacy-transformers) (0.0.46)\r\n",
      "Requirement already satisfied: regex!=2019.12.17 in /opt/conda/lib/python3.7/site-packages (from transformers<4.16.0,>=3.4.0->spacy-transformers) (2021.11.10)\r\n",
      "Requirement already satisfied: pyyaml>=5.1 in /opt/conda/lib/python3.7/site-packages (from transformers<4.16.0,>=3.4.0->spacy-transformers) (6.0)\r\n",
      "Requirement already satisfied: huggingface-hub<1.0,>=0.1.0 in /opt/conda/lib/python3.7/site-packages (from transformers<4.16.0,>=3.4.0->spacy-transformers) (0.1.2)\r\n",
      "Requirement already satisfied: tokenizers<0.11,>=0.10.1 in /opt/conda/lib/python3.7/site-packages (from transformers<4.16.0,>=3.4.0->spacy-transformers) (0.10.3)\r\n",
      "Requirement already satisfied: filelock in /opt/conda/lib/python3.7/site-packages (from transformers<4.16.0,>=3.4.0->spacy-transformers) (3.3.2)\r\n",
      "Requirement already satisfied: zipp>=0.5 in /opt/conda/lib/python3.7/site-packages (from catalogue<2.1.0,>=2.0.6->spacy<4.0.0,>=3.1.3->spacy-transformers) (3.6.0)\r\n",
      "Requirement already satisfied: pyparsing!=3.0.5,>=2.0.2 in /opt/conda/lib/python3.7/site-packages (from packaging>=20.0->spacy<4.0.0,>=3.1.3->spacy-transformers) (3.0.6)\r\n",
      "Requirement already satisfied: smart-open<6.0.0,>=5.0.0 in /opt/conda/lib/python3.7/site-packages (from pathy>=0.3.5->spacy<4.0.0,>=3.1.3->spacy-transformers) (5.2.1)\r\n",
      "Requirement already satisfied: charset-normalizer~=2.0.0 in /opt/conda/lib/python3.7/site-packages (from requests<3.0.0,>=2.13.0->spacy<4.0.0,>=3.1.3->spacy-transformers) (2.0.8)\r\n",
      "Requirement already satisfied: certifi>=2017.4.17 in /opt/conda/lib/python3.7/site-packages (from requests<3.0.0,>=2.13.0->spacy<4.0.0,>=3.1.3->spacy-transformers) (2021.10.8)\r\n",
      "Requirement already satisfied: idna<4,>=2.5 in /opt/conda/lib/python3.7/site-packages (from requests<3.0.0,>=2.13.0->spacy<4.0.0,>=3.1.3->spacy-transformers) (3.1)\r\n",
      "Requirement already satisfied: urllib3<1.27,>=1.21.1 in /opt/conda/lib/python3.7/site-packages (from requests<3.0.0,>=2.13.0->spacy<4.0.0,>=3.1.3->spacy-transformers) (1.26.7)\r\n",
      "Requirement already satisfied: click<9.0.0,>=7.1.1 in /opt/conda/lib/python3.7/site-packages (from typer<0.5.0,>=0.3.0->spacy<4.0.0,>=3.1.3->spacy-transformers) (8.0.3)\r\n",
      "Requirement already satisfied: MarkupSafe>=2.0 in /opt/conda/lib/python3.7/site-packages (from jinja2->spacy<4.0.0,>=3.1.3->spacy-transformers) (2.0.1)\r\n",
      "Requirement already satisfied: six in /opt/conda/lib/python3.7/site-packages (from sacremoses->transformers<4.16.0,>=3.4.0->spacy-transformers) (1.16.0)\r\n",
      "Requirement already satisfied: joblib in /opt/conda/lib/python3.7/site-packages (from sacremoses->transformers<4.16.0,>=3.4.0->spacy-transformers) (1.1.0)\r\n",
      "Installing collected packages: spacy-alignments, spacy-transformers\r\n",
      "Successfully installed spacy-alignments-0.8.4 spacy-transformers-1.1.4\r\n",
      "\u001b[33mWARNING: Running pip as the 'root' user can result in broken permissions and conflicting behaviour with the system package manager. It is recommended to use a virtual environment instead: https://pip.pypa.io/warnings/venv\u001b[0m\r\n",
      "Requirement already satisfied: spacy in /opt/conda/lib/python3.7/site-packages (3.1.4)\r\n",
      "Requirement already satisfied: packaging>=20.0 in /opt/conda/lib/python3.7/site-packages (from spacy) (21.3)\r\n",
      "Requirement already satisfied: cymem<2.1.0,>=2.0.2 in /opt/conda/lib/python3.7/site-packages (from spacy) (2.0.6)\r\n",
      "Requirement already satisfied: murmurhash<1.1.0,>=0.28.0 in /opt/conda/lib/python3.7/site-packages (from spacy) (1.0.6)\r\n",
      "Requirement already satisfied: wasabi<1.1.0,>=0.8.1 in /opt/conda/lib/python3.7/site-packages (from spacy) (0.9.0)\r\n",
      "Requirement already satisfied: requests<3.0.0,>=2.13.0 in /opt/conda/lib/python3.7/site-packages (from spacy) (2.26.0)\r\n",
      "Requirement already satisfied: jinja2 in /opt/conda/lib/python3.7/site-packages (from spacy) (3.0.3)\r\n",
      "Requirement already satisfied: setuptools in /opt/conda/lib/python3.7/site-packages (from spacy) (59.4.0)\r\n",
      "Requirement already satisfied: typer<0.5.0,>=0.3.0 in /opt/conda/lib/python3.7/site-packages (from spacy) (0.4.0)\r\n",
      "Requirement already satisfied: tqdm<5.0.0,>=4.38.0 in /opt/conda/lib/python3.7/site-packages (from spacy) (4.62.3)\r\n",
      "Requirement already satisfied: catalogue<2.1.0,>=2.0.6 in /opt/conda/lib/python3.7/site-packages (from spacy) (2.0.6)\r\n",
      "Requirement already satisfied: typing-extensions<4.0.0.0,>=3.7.4 in /opt/conda/lib/python3.7/site-packages (from spacy) (3.10.0.2)\r\n",
      "Requirement already satisfied: pydantic!=1.8,!=1.8.1,<1.9.0,>=1.7.4 in /opt/conda/lib/python3.7/site-packages (from spacy) (1.8.2)\r\n",
      "Requirement already satisfied: spacy-legacy<3.1.0,>=3.0.8 in /opt/conda/lib/python3.7/site-packages (from spacy) (3.0.8)\r\n",
      "Requirement already satisfied: blis<0.8.0,>=0.4.0 in /opt/conda/lib/python3.7/site-packages (from spacy) (0.7.5)\r\n",
      "Requirement already satisfied: preshed<3.1.0,>=3.0.2 in /opt/conda/lib/python3.7/site-packages (from spacy) (3.0.6)\r\n",
      "Requirement already satisfied: numpy>=1.15.0 in /opt/conda/lib/python3.7/site-packages (from spacy) (1.19.5)\r\n",
      "Requirement already satisfied: thinc<8.1.0,>=8.0.12 in /opt/conda/lib/python3.7/site-packages (from spacy) (8.0.13)\r\n",
      "Requirement already satisfied: srsly<3.0.0,>=2.4.1 in /opt/conda/lib/python3.7/site-packages (from spacy) (2.4.2)\r\n",
      "Requirement already satisfied: pathy>=0.3.5 in /opt/conda/lib/python3.7/site-packages (from spacy) (0.6.1)\r\n",
      "Requirement already satisfied: zipp>=0.5 in /opt/conda/lib/python3.7/site-packages (from catalogue<2.1.0,>=2.0.6->spacy) (3.6.0)\r\n",
      "Requirement already satisfied: pyparsing!=3.0.5,>=2.0.2 in /opt/conda/lib/python3.7/site-packages (from packaging>=20.0->spacy) (3.0.6)\r\n",
      "Requirement already satisfied: smart-open<6.0.0,>=5.0.0 in /opt/conda/lib/python3.7/site-packages (from pathy>=0.3.5->spacy) (5.2.1)\r\n",
      "Requirement already satisfied: idna<4,>=2.5 in /opt/conda/lib/python3.7/site-packages (from requests<3.0.0,>=2.13.0->spacy) (3.1)\r\n",
      "Requirement already satisfied: charset-normalizer~=2.0.0 in /opt/conda/lib/python3.7/site-packages (from requests<3.0.0,>=2.13.0->spacy) (2.0.8)\r\n",
      "Requirement already satisfied: certifi>=2017.4.17 in /opt/conda/lib/python3.7/site-packages (from requests<3.0.0,>=2.13.0->spacy) (2021.10.8)\r\n",
      "Requirement already satisfied: urllib3<1.27,>=1.21.1 in /opt/conda/lib/python3.7/site-packages (from requests<3.0.0,>=2.13.0->spacy) (1.26.7)\r\n",
      "Requirement already satisfied: click<9.0.0,>=7.1.1 in /opt/conda/lib/python3.7/site-packages (from typer<0.5.0,>=0.3.0->spacy) (8.0.3)\r\n",
      "Requirement already satisfied: MarkupSafe>=2.0 in /opt/conda/lib/python3.7/site-packages (from jinja2->spacy) (2.0.1)\r\n",
      "Requirement already satisfied: importlib-metadata in /opt/conda/lib/python3.7/site-packages (from click<9.0.0,>=7.1.1->typer<0.5.0,>=0.3.0->spacy) (4.10.0)\r\n",
      "\u001b[33mWARNING: Running pip as the 'root' user can result in broken permissions and conflicting behaviour with the system package manager. It is recommended to use a virtual environment instead: https://pip.pypa.io/warnings/venv\u001b[0m\r\n"
     ]
    }
   ],
   "source": [
    "!pip install datasets transformers rouge-score nltk -q\n",
    "!pip install spacy-transformers\n",
    "!pip install spacy"
   ]
  },
  {
   "cell_type": "code",
   "execution_count": 7,
   "id": "d3b5ca52",
   "metadata": {
    "execution": {
     "iopub.execute_input": "2022-01-30T04:29:27.528803Z",
     "iopub.status.busy": "2022-01-30T04:29:27.526702Z",
     "iopub.status.idle": "2022-01-30T04:29:35.137483Z",
     "shell.execute_reply": "2022-01-30T04:29:35.136695Z",
     "shell.execute_reply.started": "2022-01-24T17:32:15.009461Z"
    },
    "papermill": {
     "duration": 7.643982,
     "end_time": "2022-01-30T04:29:35.137625",
     "exception": false,
     "start_time": "2022-01-30T04:29:27.493643",
     "status": "completed"
    },
    "tags": []
   },
   "outputs": [
    {
     "name": "stdout",
     "output_type": "stream",
     "text": [
      "Requirement already satisfied: torch in /opt/conda/lib/python3.7/site-packages (1.9.1)\r\n",
      "Requirement already satisfied: typing-extensions in /opt/conda/lib/python3.7/site-packages (from torch) (3.10.0.2)\r\n",
      "\u001b[33mWARNING: Running pip as the 'root' user can result in broken permissions and conflicting behaviour with the system package manager. It is recommended to use a virtual environment instead: https://pip.pypa.io/warnings/venv\u001b[0m\r\n"
     ]
    }
   ],
   "source": [
    "!pip install torch"
   ]
  },
  {
   "cell_type": "code",
   "execution_count": 8,
   "id": "1dbe365c",
   "metadata": {
    "execution": {
     "iopub.execute_input": "2022-01-30T04:29:35.200560Z",
     "iopub.status.busy": "2022-01-30T04:29:35.199762Z",
     "iopub.status.idle": "2022-01-30T04:29:43.368689Z",
     "shell.execute_reply": "2022-01-30T04:29:43.367690Z",
     "shell.execute_reply.started": "2022-01-24T17:32:22.579386Z"
    },
    "papermill": {
     "duration": 8.201313,
     "end_time": "2022-01-30T04:29:43.368870",
     "exception": false,
     "start_time": "2022-01-30T04:29:35.167557",
     "status": "completed"
    },
    "tags": []
   },
   "outputs": [],
   "source": [
    "import torch\n",
    "import datasets\n",
    "from datasets import Dataset\n",
    "from datasets import load_metric\n",
    "import transformers \n",
    "from transformers import AutoModelForSeq2SeqLM, DataCollatorForSeq2Seq, Seq2SeqTrainingArguments, Seq2SeqTrainer, Trainer"
   ]
  },
  {
   "cell_type": "code",
   "execution_count": 9,
   "id": "6297b5e0",
   "metadata": {
    "execution": {
     "iopub.execute_input": "2022-01-30T04:29:43.433318Z",
     "iopub.status.busy": "2022-01-30T04:29:43.432479Z",
     "iopub.status.idle": "2022-01-30T04:29:51.680402Z",
     "shell.execute_reply": "2022-01-30T04:29:51.679818Z",
     "shell.execute_reply.started": "2022-01-24T17:32:30.49305Z"
    },
    "papermill": {
     "duration": 8.281543,
     "end_time": "2022-01-30T04:29:51.680544",
     "exception": false,
     "start_time": "2022-01-30T04:29:43.399001",
     "status": "completed"
    },
    "tags": []
   },
   "outputs": [
    {
     "data": {
      "application/vnd.jupyter.widget-view+json": {
       "model_id": "5a751dc2b3294c539b802861f1a1c87b",
       "version_major": 2,
       "version_minor": 0
      },
      "text/plain": [
       "Downloading:   0%|          | 0.00/26.0 [00:00<?, ?B/s]"
      ]
     },
     "metadata": {},
     "output_type": "display_data"
    },
    {
     "data": {
      "application/vnd.jupyter.widget-view+json": {
       "model_id": "6cb3f2dd4313413098dee20b2074e9f5",
       "version_major": 2,
       "version_minor": 0
      },
      "text/plain": [
       "Downloading:   0%|          | 0.00/1.50k [00:00<?, ?B/s]"
      ]
     },
     "metadata": {},
     "output_type": "display_data"
    },
    {
     "data": {
      "application/vnd.jupyter.widget-view+json": {
       "model_id": "7d425e5313f047578c84eea85ec8217d",
       "version_major": 2,
       "version_minor": 0
      },
      "text/plain": [
       "Downloading:   0%|          | 0.00/878k [00:00<?, ?B/s]"
      ]
     },
     "metadata": {},
     "output_type": "display_data"
    },
    {
     "data": {
      "application/vnd.jupyter.widget-view+json": {
       "model_id": "b582e0aaa9fe449ba2a787d09abbee78",
       "version_major": 2,
       "version_minor": 0
      },
      "text/plain": [
       "Downloading:   0%|          | 0.00/446k [00:00<?, ?B/s]"
      ]
     },
     "metadata": {},
     "output_type": "display_data"
    }
   ],
   "source": [
    "from transformers import AutoTokenizer\n",
    "\n",
    "model_chkpt_selected ='sshleifer/distilbart-xsum-9-6'\n",
    "    \n",
    "tokenizer = AutoTokenizer.from_pretrained(model_chkpt_selected)\n",
    "\n",
    "pad_on_right = tokenizer.padding_side == \"right\""
   ]
  },
  {
   "cell_type": "markdown",
   "id": "5db185dd",
   "metadata": {
    "papermill": {
     "duration": 0.031352,
     "end_time": "2022-01-30T04:29:51.743904",
     "exception": false,
     "start_time": "2022-01-30T04:29:51.712552",
     "status": "completed"
    },
    "tags": []
   },
   "source": [
    "Tokenizer example "
   ]
  },
  {
   "cell_type": "code",
   "execution_count": 10,
   "id": "1746a892",
   "metadata": {
    "execution": {
     "iopub.execute_input": "2022-01-30T04:29:51.810942Z",
     "iopub.status.busy": "2022-01-30T04:29:51.810402Z",
     "iopub.status.idle": "2022-01-30T04:29:51.821001Z",
     "shell.execute_reply": "2022-01-30T04:29:51.821469Z",
     "shell.execute_reply.started": "2022-01-24T17:32:47.003356Z"
    },
    "papermill": {
     "duration": 0.046502,
     "end_time": "2022-01-30T04:29:51.821615",
     "exception": false,
     "start_time": "2022-01-30T04:29:51.775113",
     "status": "completed"
    },
    "tags": []
   },
   "outputs": [
    {
     "data": {
      "text/plain": [
       "{'input_ids': [0, 31414, 6, 42, 65, 3645, 328, 2], 'attention_mask': [1, 1, 1, 1, 1, 1, 1, 1]}"
      ]
     },
     "execution_count": 10,
     "metadata": {},
     "output_type": "execute_result"
    }
   ],
   "source": [
    "tokenizer(\"Hello, this one sentence!\")"
   ]
  },
  {
   "cell_type": "code",
   "execution_count": 11,
   "id": "d05a7684",
   "metadata": {
    "execution": {
     "iopub.execute_input": "2022-01-30T04:29:51.889513Z",
     "iopub.status.busy": "2022-01-30T04:29:51.888724Z",
     "iopub.status.idle": "2022-01-30T04:29:51.890729Z",
     "shell.execute_reply": "2022-01-30T04:29:51.891109Z",
     "shell.execute_reply.started": "2022-01-24T17:32:47.01663Z"
    },
    "papermill": {
     "duration": 0.037579,
     "end_time": "2022-01-30T04:29:51.891235",
     "exception": false,
     "start_time": "2022-01-30T04:29:51.853656",
     "status": "completed"
    },
    "tags": []
   },
   "outputs": [],
   "source": [
    "max_input_length = 800 #max article words to be summarized\n",
    "max_target_length = 64 #max highlights words in the summary"
   ]
  },
  {
   "cell_type": "code",
   "execution_count": 12,
   "id": "6e8b963b",
   "metadata": {
    "execution": {
     "iopub.execute_input": "2022-01-30T04:29:51.971856Z",
     "iopub.status.busy": "2022-01-30T04:29:51.970999Z",
     "iopub.status.idle": "2022-01-30T04:29:51.974208Z",
     "shell.execute_reply": "2022-01-30T04:29:51.974807Z",
     "shell.execute_reply.started": "2022-01-24T17:32:47.02418Z"
    },
    "papermill": {
     "duration": 0.052569,
     "end_time": "2022-01-30T04:29:51.975008",
     "exception": false,
     "start_time": "2022-01-30T04:29:51.922439",
     "status": "completed"
    },
    "tags": []
   },
   "outputs": [],
   "source": [
    "#tokenize the dataset for Transformers model\n",
    "def preprocess_function(samples):\n",
    "    inputs = ['summarize:' + doc for doc in samples[\"article\"]]\n",
    "    model_inputs = tokenizer(inputs, max_length=max_input_length, truncation=True,padding='max_length')\n",
    "\n",
    "    # tokenizer for targets\n",
    "    with tokenizer.as_target_tokenizer():\n",
    "        labels = tokenizer(samples[\"highlights\"], max_length=max_target_length, truncation=True)\n",
    "\n",
    "    model_inputs[\"labels\"] = labels[\"input_ids\"]\n",
    "    return model_inputs"
   ]
  },
  {
   "cell_type": "code",
   "execution_count": 13,
   "id": "d6ab7ed7",
   "metadata": {
    "execution": {
     "iopub.execute_input": "2022-01-30T04:29:52.105153Z",
     "iopub.status.busy": "2022-01-30T04:29:52.104102Z",
     "iopub.status.idle": "2022-01-30T04:29:52.497011Z",
     "shell.execute_reply": "2022-01-30T04:29:52.498243Z",
     "shell.execute_reply.started": "2022-01-24T17:32:47.032761Z"
    },
    "papermill": {
     "duration": 0.457146,
     "end_time": "2022-01-30T04:29:52.498461",
     "exception": false,
     "start_time": "2022-01-30T04:29:52.041315",
     "status": "completed"
    },
    "tags": []
   },
   "outputs": [],
   "source": [
    "train_ds = Dataset.from_pandas(train_data)\n",
    "valid_ds = Dataset.from_pandas(validation_data)"
   ]
  },
  {
   "cell_type": "code",
   "execution_count": 14,
   "id": "1c714f09",
   "metadata": {
    "execution": {
     "iopub.execute_input": "2022-01-30T04:29:52.764305Z",
     "iopub.status.busy": "2022-01-30T04:29:52.763378Z",
     "iopub.status.idle": "2022-01-30T04:30:45.357872Z",
     "shell.execute_reply": "2022-01-30T04:30:45.357301Z",
     "shell.execute_reply.started": "2022-01-24T17:32:47.353793Z"
    },
    "papermill": {
     "duration": 52.802682,
     "end_time": "2022-01-30T04:30:45.358013",
     "exception": false,
     "start_time": "2022-01-30T04:29:52.555331",
     "status": "completed"
    },
    "tags": []
   },
   "outputs": [
    {
     "data": {
      "application/vnd.jupyter.widget-view+json": {
       "model_id": "e55db3cc4203480eace96aa2c40c6ade",
       "version_major": 2,
       "version_minor": 0
      },
      "text/plain": [
       "  0%|          | 0/20 [00:00<?, ?ba/s]"
      ]
     },
     "metadata": {},
     "output_type": "display_data"
    },
    {
     "data": {
      "application/vnd.jupyter.widget-view+json": {
       "model_id": "8227768b4e184f0fa37aae022582b81d",
       "version_major": 2,
       "version_minor": 0
      },
      "text/plain": [
       "  0%|          | 0/1 [00:00<?, ?ba/s]"
      ]
     },
     "metadata": {},
     "output_type": "display_data"
    }
   ],
   "source": [
    "tokenized_train = train_ds.map(preprocess_function, batched = True)\n",
    "tokenized_validation = valid_ds.map(preprocess_function, batched = True)"
   ]
  },
  {
   "cell_type": "code",
   "execution_count": 15,
   "id": "33d80614",
   "metadata": {
    "execution": {
     "iopub.execute_input": "2022-01-30T04:30:45.429037Z",
     "iopub.status.busy": "2022-01-30T04:30:45.427298Z",
     "iopub.status.idle": "2022-01-30T04:30:45.429655Z",
     "shell.execute_reply": "2022-01-30T04:30:45.430080Z",
     "shell.execute_reply.started": "2022-01-24T17:33:42.150414Z"
    },
    "papermill": {
     "duration": 0.039276,
     "end_time": "2022-01-30T04:30:45.430215",
     "exception": false,
     "start_time": "2022-01-30T04:30:45.390939",
     "status": "completed"
    },
    "tags": []
   },
   "outputs": [],
   "source": [
    "assert isinstance(tokenizer, transformers.PreTrainedTokenizerFast)"
   ]
  },
  {
   "cell_type": "markdown",
   "id": "cbe1c0c0",
   "metadata": {
    "papermill": {
     "duration": 0.032404,
     "end_time": "2022-01-30T04:30:45.495162",
     "exception": false,
     "start_time": "2022-01-30T04:30:45.462758",
     "status": "completed"
    },
    "tags": []
   },
   "source": [
    "## Fine tuning "
   ]
  },
  {
   "cell_type": "code",
   "execution_count": 16,
   "id": "d9aa8b65",
   "metadata": {
    "execution": {
     "iopub.execute_input": "2022-01-30T04:30:45.564713Z",
     "iopub.status.busy": "2022-01-30T04:30:45.563960Z",
     "iopub.status.idle": "2022-01-30T04:31:16.993127Z",
     "shell.execute_reply": "2022-01-30T04:31:16.992605Z",
     "shell.execute_reply.started": "2022-01-24T17:33:42.157598Z"
    },
    "papermill": {
     "duration": 31.465809,
     "end_time": "2022-01-30T04:31:16.993291",
     "exception": false,
     "start_time": "2022-01-30T04:30:45.527482",
     "status": "completed"
    },
    "tags": []
   },
   "outputs": [
    {
     "data": {
      "application/vnd.jupyter.widget-view+json": {
       "model_id": "ed207427e6b04b30bedcd05301d9d4f5",
       "version_major": 2,
       "version_minor": 0
      },
      "text/plain": [
       "Downloading:   0%|          | 0.00/511M [00:00<?, ?B/s]"
      ]
     },
     "metadata": {},
     "output_type": "display_data"
    }
   ],
   "source": [
    "model = AutoModelForSeq2SeqLM.from_pretrained(model_chkpt_selected)"
   ]
  },
  {
   "cell_type": "code",
   "execution_count": 17,
   "id": "47ba8ef8",
   "metadata": {
    "execution": {
     "iopub.execute_input": "2022-01-30T04:31:17.064381Z",
     "iopub.status.busy": "2022-01-30T04:31:17.063821Z",
     "iopub.status.idle": "2022-01-30T04:31:17.067721Z",
     "shell.execute_reply": "2022-01-30T04:31:17.067312Z",
     "shell.execute_reply.started": "2022-01-24T17:34:10.939063Z"
    },
    "papermill": {
     "duration": 0.040638,
     "end_time": "2022-01-30T04:31:17.067868",
     "exception": false,
     "start_time": "2022-01-30T04:31:17.027230",
     "status": "completed"
    },
    "tags": []
   },
   "outputs": [],
   "source": [
    "batch_size = 6 \n",
    "\n",
    "collator = DataCollatorForSeq2Seq(tokenizer, model=model)"
   ]
  },
  {
   "cell_type": "code",
   "execution_count": 18,
   "id": "5f3187cf",
   "metadata": {
    "execution": {
     "iopub.execute_input": "2022-01-30T04:31:17.137945Z",
     "iopub.status.busy": "2022-01-30T04:31:17.137240Z",
     "iopub.status.idle": "2022-01-30T04:31:17.141229Z",
     "shell.execute_reply": "2022-01-30T04:31:17.140521Z",
     "shell.execute_reply.started": "2022-01-24T17:34:11.441587Z"
    },
    "papermill": {
     "duration": 0.040723,
     "end_time": "2022-01-30T04:31:17.141386",
     "exception": false,
     "start_time": "2022-01-30T04:31:17.100663",
     "status": "completed"
    },
    "tags": []
   },
   "outputs": [
    {
     "name": "stdout",
     "output_type": "stream",
     "text": [
      "env: WANDB_DISABLED=True\n"
     ]
    }
   ],
   "source": [
    "%env WANDB_DISABLED=True"
   ]
  },
  {
   "cell_type": "code",
   "execution_count": 19,
   "id": "423e9dff",
   "metadata": {
    "execution": {
     "iopub.execute_input": "2022-01-30T04:31:17.409424Z",
     "iopub.status.busy": "2022-01-30T04:31:17.408615Z",
     "iopub.status.idle": "2022-01-30T04:31:17.411426Z",
     "shell.execute_reply": "2022-01-30T04:31:17.411945Z",
     "shell.execute_reply.started": "2022-01-24T17:34:11.449038Z"
    },
    "papermill": {
     "duration": 0.236958,
     "end_time": "2022-01-30T04:31:17.412099",
     "exception": false,
     "start_time": "2022-01-30T04:31:17.175141",
     "status": "completed"
    },
    "tags": []
   },
   "outputs": [
    {
     "data": {
      "text/plain": [
       "717"
      ]
     },
     "execution_count": 19,
     "metadata": {},
     "output_type": "execute_result"
    }
   ],
   "source": [
    "import gc\n",
    "gc.collect()"
   ]
  },
  {
   "cell_type": "code",
   "execution_count": 20,
   "id": "c9518c57",
   "metadata": {
    "execution": {
     "iopub.execute_input": "2022-01-30T04:31:17.536120Z",
     "iopub.status.busy": "2022-01-30T04:31:17.535423Z",
     "iopub.status.idle": "2022-01-30T04:31:17.539807Z",
     "shell.execute_reply": "2022-01-30T04:31:17.540403Z",
     "shell.execute_reply.started": "2022-01-24T17:34:11.654353Z"
    },
    "papermill": {
     "duration": 0.094632,
     "end_time": "2022-01-30T04:31:17.540590",
     "exception": false,
     "start_time": "2022-01-30T04:31:17.445958",
     "status": "completed"
    },
    "tags": []
   },
   "outputs": [
    {
     "name": "stdout",
     "output_type": "stream",
     "text": [
      "[INFO] training using Tesla P100-PCIE-16GB\n"
     ]
    }
   ],
   "source": [
    "# determine the device we will be using for training\n",
    "DEVICE = \"cuda\" if torch.cuda.is_available() else \"cpu\"\n",
    "print(\"[INFO] training using {}\".format(torch.cuda.get_device_name(0)))"
   ]
  },
  {
   "cell_type": "code",
   "execution_count": 21,
   "id": "0afbfade",
   "metadata": {
    "execution": {
     "iopub.execute_input": "2022-01-30T04:31:17.613171Z",
     "iopub.status.busy": "2022-01-30T04:31:17.612440Z",
     "iopub.status.idle": "2022-01-30T04:31:17.614431Z",
     "shell.execute_reply": "2022-01-30T04:31:17.614888Z",
     "shell.execute_reply.started": "2022-01-24T17:34:11.713173Z"
    },
    "papermill": {
     "duration": 0.040104,
     "end_time": "2022-01-30T04:31:17.615039",
     "exception": false,
     "start_time": "2022-01-30T04:31:17.574935",
     "status": "completed"
    },
    "tags": []
   },
   "outputs": [],
   "source": [
    "torch.cuda.empty_cache()"
   ]
  },
  {
   "cell_type": "code",
   "execution_count": 22,
   "id": "cf50848b",
   "metadata": {
    "execution": {
     "iopub.execute_input": "2022-01-30T04:31:22.287947Z",
     "iopub.status.busy": "2022-01-30T04:31:22.287225Z",
     "iopub.status.idle": "2022-01-30T04:31:22.290358Z",
     "shell.execute_reply": "2022-01-30T04:31:22.289927Z",
     "shell.execute_reply.started": "2022-01-24T17:34:11.724839Z"
    },
    "papermill": {
     "duration": 4.641935,
     "end_time": "2022-01-30T04:31:22.290487",
     "exception": false,
     "start_time": "2022-01-30T04:31:17.648552",
     "status": "completed"
    },
    "tags": []
   },
   "outputs": [],
   "source": [
    "torch.cuda.set_per_process_memory_fraction(1.0)"
   ]
  },
  {
   "cell_type": "code",
   "execution_count": 23,
   "id": "8be4fda0",
   "metadata": {
    "execution": {
     "iopub.execute_input": "2022-01-30T04:31:22.366348Z",
     "iopub.status.busy": "2022-01-30T04:31:22.365040Z",
     "iopub.status.idle": "2022-01-30T04:31:22.368737Z",
     "shell.execute_reply": "2022-01-30T04:31:22.368278Z",
     "shell.execute_reply.started": "2022-01-24T17:34:16.303843Z"
    },
    "papermill": {
     "duration": 0.04359,
     "end_time": "2022-01-30T04:31:22.368887",
     "exception": false,
     "start_time": "2022-01-30T04:31:22.325297",
     "status": "completed"
    },
    "tags": []
   },
   "outputs": [
    {
     "data": {
      "text/plain": [
       "0"
      ]
     },
     "execution_count": 23,
     "metadata": {},
     "output_type": "execute_result"
    }
   ],
   "source": [
    "torch.cuda.memory_reserved()"
   ]
  },
  {
   "cell_type": "code",
   "execution_count": 24,
   "id": "c25aedfe",
   "metadata": {
    "execution": {
     "iopub.execute_input": "2022-01-30T04:31:22.442437Z",
     "iopub.status.busy": "2022-01-30T04:31:22.440889Z",
     "iopub.status.idle": "2022-01-30T04:31:22.446634Z",
     "shell.execute_reply": "2022-01-30T04:31:22.446212Z",
     "shell.execute_reply.started": "2022-01-24T17:34:16.333413Z"
    },
    "papermill": {
     "duration": 0.044111,
     "end_time": "2022-01-30T04:31:22.446746",
     "exception": false,
     "start_time": "2022-01-30T04:31:22.402635",
     "status": "completed"
    },
    "tags": []
   },
   "outputs": [
    {
     "name": "stderr",
     "output_type": "stream",
     "text": [
      "Using the `WAND_DISABLED` environment variable is deprecated and will be removed in v5. Use the --report_to flag to control the integrations used for logging result (for instance --report_to none).\n"
     ]
    }
   ],
   "source": [
    "model_name = model_chkpt_selected.split(\"/\")[-1]\n",
    "args = Seq2SeqTrainingArguments(\n",
    "    f\"{model_name}-finetuned-CNN_DailyMail\",\n",
    "    evaluation_strategy = \"epoch\",\n",
    "    learning_rate=5e-7, \n",
    "    per_device_train_batch_size=batch_size,\n",
    "    per_device_eval_batch_size=batch_size,\n",
    "    weight_decay=0.01, \n",
    "    save_total_limit=3,\n",
    "    num_train_epochs=1, \n",
    "    predict_with_generate=True,\n",
    "    fp16=True,\n",
    "    save_strategy = \"no\"\n",
    ")"
   ]
  },
  {
   "cell_type": "code",
   "execution_count": 25,
   "id": "780ef430",
   "metadata": {
    "execution": {
     "iopub.execute_input": "2022-01-30T04:31:22.519892Z",
     "iopub.status.busy": "2022-01-30T04:31:22.519361Z",
     "iopub.status.idle": "2022-01-30T04:31:22.898404Z",
     "shell.execute_reply": "2022-01-30T04:31:22.897935Z",
     "shell.execute_reply.started": "2022-01-24T17:34:16.345852Z"
    },
    "papermill": {
     "duration": 0.417624,
     "end_time": "2022-01-30T04:31:22.898526",
     "exception": false,
     "start_time": "2022-01-30T04:31:22.480902",
     "status": "completed"
    },
    "tags": []
   },
   "outputs": [
    {
     "name": "stderr",
     "output_type": "stream",
     "text": [
      "Using amp fp16 backend\n"
     ]
    }
   ],
   "source": [
    "trainer = Trainer(\n",
    "    model,\n",
    "    args,\n",
    "    train_dataset=tokenized_train,\n",
    "    eval_dataset=tokenized_validation,\n",
    "    data_collator=collator,\n",
    "    tokenizer=tokenizer,\n",
    ")"
   ]
  },
  {
   "cell_type": "code",
   "execution_count": 26,
   "id": "5091a4ac",
   "metadata": {
    "execution": {
     "iopub.execute_input": "2022-01-30T04:31:22.999727Z",
     "iopub.status.busy": "2022-01-30T04:31:22.998742Z",
     "iopub.status.idle": "2022-01-30T05:21:59.613651Z",
     "shell.execute_reply": "2022-01-30T05:21:59.614071Z"
    },
    "papermill": {
     "duration": 3036.681123,
     "end_time": "2022-01-30T05:21:59.614232",
     "exception": false,
     "start_time": "2022-01-30T04:31:22.933109",
     "status": "completed"
    },
    "tags": []
   },
   "outputs": [
    {
     "name": "stderr",
     "output_type": "stream",
     "text": [
      "The following columns in the training set  don't have a corresponding argument in `BartForConditionalGeneration.forward` and have been ignored: index, id, highlights, article.\n",
      "***** Running training *****\n",
      "  Num examples = 20000\n",
      "  Num Epochs = 1\n",
      "  Instantaneous batch size per device = 6\n",
      "  Total train batch size (w. parallel, distributed & accumulation) = 6\n",
      "  Gradient Accumulation steps = 1\n",
      "  Total optimization steps = 3334\n",
      "/opt/conda/lib/python3.7/site-packages/transformers/trainer.py:1357: FutureWarning: Non-finite norm encountered in torch.nn.utils.clip_grad_norm_; continuing anyway. Note that the default behavior will change in a future release to error out if a non-finite total norm is encountered. At that point, setting error_if_nonfinite=false will be required to retain the old behavior.\n",
      "  args.max_grad_norm,\n"
     ]
    },
    {
     "data": {
      "text/html": [
       "\n",
       "    <div>\n",
       "      \n",
       "      <progress value='3334' max='3334' style='width:300px; height:20px; vertical-align: middle;'></progress>\n",
       "      [3334/3334 50:34, Epoch 1/1]\n",
       "    </div>\n",
       "    <table border=\"1\" class=\"dataframe\">\n",
       "  <thead>\n",
       "    <tr style=\"text-align: left;\">\n",
       "      <th>Epoch</th>\n",
       "      <th>Training Loss</th>\n",
       "      <th>Validation Loss</th>\n",
       "    </tr>\n",
       "  </thead>\n",
       "  <tbody>\n",
       "    <tr>\n",
       "      <td>1</td>\n",
       "      <td>2.541400</td>\n",
       "      <td>2.217775</td>\n",
       "    </tr>\n",
       "  </tbody>\n",
       "</table><p>"
      ],
      "text/plain": [
       "<IPython.core.display.HTML object>"
      ]
     },
     "metadata": {},
     "output_type": "display_data"
    },
    {
     "name": "stderr",
     "output_type": "stream",
     "text": [
      "The following columns in the evaluation set  don't have a corresponding argument in `BartForConditionalGeneration.forward` and have been ignored: index, id, highlights, article.\n",
      "***** Running Evaluation *****\n",
      "  Num examples = 900\n",
      "  Batch size = 6\n",
      "\n",
      "\n",
      "Training completed. Do not forget to share your model on huggingface.co/models =)\n",
      "\n",
      "\n"
     ]
    },
    {
     "data": {
      "text/plain": [
       "TrainOutput(global_step=3334, training_loss=2.8744458505759787, metrics={'train_runtime': 3036.5836, 'train_samples_per_second': 6.586, 'train_steps_per_second': 1.098, 'total_flos': 2.220149108304691e+16, 'train_loss': 2.8744458505759787, 'epoch': 1.0})"
      ]
     },
     "execution_count": 26,
     "metadata": {},
     "output_type": "execute_result"
    }
   ],
   "source": [
    "trainer.train()"
   ]
  },
  {
   "cell_type": "code",
   "execution_count": 27,
   "id": "b41b98cc",
   "metadata": {
    "execution": {
     "iopub.execute_input": "2022-01-30T05:21:59.698089Z",
     "iopub.status.busy": "2022-01-30T05:21:59.697424Z",
     "iopub.status.idle": "2022-01-30T05:22:01.603663Z",
     "shell.execute_reply": "2022-01-30T05:22:01.603154Z"
    },
    "papermill": {
     "duration": 1.949246,
     "end_time": "2022-01-30T05:22:01.603791",
     "exception": false,
     "start_time": "2022-01-30T05:21:59.654545",
     "status": "completed"
    },
    "tags": []
   },
   "outputs": [
    {
     "name": "stderr",
     "output_type": "stream",
     "text": [
      "Saving model checkpoint to DistilBART-Large_XSum_CNN_20k\n",
      "Configuration saved in DistilBART-Large_XSum_CNN_20k/config.json\n",
      "Model weights saved in DistilBART-Large_XSum_CNN_20k/pytorch_model.bin\n",
      "tokenizer config file saved in DistilBART-Large_XSum_CNN_20k/tokenizer_config.json\n",
      "Special tokens file saved in DistilBART-Large_XSum_CNN_20k/special_tokens_map.json\n"
     ]
    }
   ],
   "source": [
    "trainer.save_model(\"DistilBART-Large_XSum_CNN_20k\")"
   ]
  }
 ],
 "metadata": {
  "kernelspec": {
   "display_name": "Python 3",
   "language": "python",
   "name": "python3"
  },
  "language_info": {
   "codemirror_mode": {
    "name": "ipython",
    "version": 3
   },
   "file_extension": ".py",
   "mimetype": "text/x-python",
   "name": "python",
   "nbconvert_exporter": "python",
   "pygments_lexer": "ipython3",
   "version": "3.7.12"
  },
  "papermill": {
   "default_parameters": {},
   "duration": 3220.659406,
   "end_time": "2022-01-30T05:22:05.215881",
   "environment_variables": {},
   "exception": null,
   "input_path": "__notebook__.ipynb",
   "output_path": "__notebook__.ipynb",
   "parameters": {},
   "start_time": "2022-01-30T04:28:24.556475",
   "version": "2.3.3"
  },
  "widgets": {
   "application/vnd.jupyter.widget-state+json": {
    "state": {
     "045f4c9ce05b4928a4e3c77a39f5e477": {
      "model_module": "@jupyter-widgets/controls",
      "model_module_version": "1.5.0",
      "model_name": "DescriptionStyleModel",
      "state": {
       "_model_module": "@jupyter-widgets/controls",
       "_model_module_version": "1.5.0",
       "_model_name": "DescriptionStyleModel",
       "_view_count": null,
       "_view_module": "@jupyter-widgets/base",
       "_view_module_version": "1.2.0",
       "_view_name": "StyleView",
       "description_width": ""
      }
     },
     "0475c9a32f6e482e8bfeee8018d1fda2": {
      "model_module": "@jupyter-widgets/base",
      "model_module_version": "1.2.0",
      "model_name": "LayoutModel",
      "state": {
       "_model_module": "@jupyter-widgets/base",
       "_model_module_version": "1.2.0",
       "_model_name": "LayoutModel",
       "_view_count": null,
       "_view_module": "@jupyter-widgets/base",
       "_view_module_version": "1.2.0",
       "_view_name": "LayoutView",
       "align_content": null,
       "align_items": null,
       "align_self": null,
       "border": null,
       "bottom": null,
       "display": null,
       "flex": null,
       "flex_flow": null,
       "grid_area": null,
       "grid_auto_columns": null,
       "grid_auto_flow": null,
       "grid_auto_rows": null,
       "grid_column": null,
       "grid_gap": null,
       "grid_row": null,
       "grid_template_areas": null,
       "grid_template_columns": null,
       "grid_template_rows": null,
       "height": null,
       "justify_content": null,
       "justify_items": null,
       "left": null,
       "margin": null,
       "max_height": null,
       "max_width": null,
       "min_height": null,
       "min_width": null,
       "object_fit": null,
       "object_position": null,
       "order": null,
       "overflow": null,
       "overflow_x": null,
       "overflow_y": null,
       "padding": null,
       "right": null,
       "top": null,
       "visibility": null,
       "width": null
      }
     },
     "0517328e6278478282e4a4fb2247b43d": {
      "model_module": "@jupyter-widgets/controls",
      "model_module_version": "1.5.0",
      "model_name": "HTMLModel",
      "state": {
       "_dom_classes": [],
       "_model_module": "@jupyter-widgets/controls",
       "_model_module_version": "1.5.0",
       "_model_name": "HTMLModel",
       "_view_count": null,
       "_view_module": "@jupyter-widgets/controls",
       "_view_module_version": "1.5.0",
       "_view_name": "HTMLView",
       "description": "",
       "description_tooltip": null,
       "layout": "IPY_MODEL_5ae1728fe9054825ac12b240fa5e7850",
       "placeholder": "​",
       "style": "IPY_MODEL_bd18d5d913a342cbae335334b4eb1aa5",
       "value": " 1.50k/1.50k [00:00&lt;00:00, 59.5kB/s]"
      }
     },
     "077e2c7ee28d4147b65c2c24744107fe": {
      "model_module": "@jupyter-widgets/controls",
      "model_module_version": "1.5.0",
      "model_name": "FloatProgressModel",
      "state": {
       "_dom_classes": [],
       "_model_module": "@jupyter-widgets/controls",
       "_model_module_version": "1.5.0",
       "_model_name": "FloatProgressModel",
       "_view_count": null,
       "_view_module": "@jupyter-widgets/controls",
       "_view_module_version": "1.5.0",
       "_view_name": "ProgressView",
       "bar_style": "success",
       "description": "",
       "description_tooltip": null,
       "layout": "IPY_MODEL_4fb94acdebf9480f8a745cb47aa023c2",
       "max": 26.0,
       "min": 0.0,
       "orientation": "horizontal",
       "style": "IPY_MODEL_e262af86715c4f27961e6a81fb8f2ffb",
       "value": 26.0
      }
     },
     "0b55386974644087911560e45683d71b": {
      "model_module": "@jupyter-widgets/controls",
      "model_module_version": "1.5.0",
      "model_name": "ProgressStyleModel",
      "state": {
       "_model_module": "@jupyter-widgets/controls",
       "_model_module_version": "1.5.0",
       "_model_name": "ProgressStyleModel",
       "_view_count": null,
       "_view_module": "@jupyter-widgets/base",
       "_view_module_version": "1.2.0",
       "_view_name": "StyleView",
       "bar_color": null,
       "description_width": ""
      }
     },
     "166014370f6e480ea67190e40e50673e": {
      "model_module": "@jupyter-widgets/controls",
      "model_module_version": "1.5.0",
      "model_name": "FloatProgressModel",
      "state": {
       "_dom_classes": [],
       "_model_module": "@jupyter-widgets/controls",
       "_model_module_version": "1.5.0",
       "_model_name": "FloatProgressModel",
       "_view_count": null,
       "_view_module": "@jupyter-widgets/controls",
       "_view_module_version": "1.5.0",
       "_view_name": "ProgressView",
       "bar_style": "success",
       "description": "",
       "description_tooltip": null,
       "layout": "IPY_MODEL_65bbda1778a84fa1bb7d8c7e2ce661bb",
       "max": 535612887.0,
       "min": 0.0,
       "orientation": "horizontal",
       "style": "IPY_MODEL_627b896df0524ee68de4b9e15790a732",
       "value": 535612887.0
      }
     },
     "1756f1e9e0a847d084a3babdffeea55a": {
      "model_module": "@jupyter-widgets/base",
      "model_module_version": "1.2.0",
      "model_name": "LayoutModel",
      "state": {
       "_model_module": "@jupyter-widgets/base",
       "_model_module_version": "1.2.0",
       "_model_name": "LayoutModel",
       "_view_count": null,
       "_view_module": "@jupyter-widgets/base",
       "_view_module_version": "1.2.0",
       "_view_name": "LayoutView",
       "align_content": null,
       "align_items": null,
       "align_self": null,
       "border": null,
       "bottom": null,
       "display": null,
       "flex": null,
       "flex_flow": null,
       "grid_area": null,
       "grid_auto_columns": null,
       "grid_auto_flow": null,
       "grid_auto_rows": null,
       "grid_column": null,
       "grid_gap": null,
       "grid_row": null,
       "grid_template_areas": null,
       "grid_template_columns": null,
       "grid_template_rows": null,
       "height": null,
       "justify_content": null,
       "justify_items": null,
       "left": null,
       "margin": null,
       "max_height": null,
       "max_width": null,
       "min_height": null,
       "min_width": null,
       "object_fit": null,
       "object_position": null,
       "order": null,
       "overflow": null,
       "overflow_x": null,
       "overflow_y": null,
       "padding": null,
       "right": null,
       "top": null,
       "visibility": null,
       "width": null
      }
     },
     "17837172a61d4cb39b686618ce7d1bf6": {
      "model_module": "@jupyter-widgets/base",
      "model_module_version": "1.2.0",
      "model_name": "LayoutModel",
      "state": {
       "_model_module": "@jupyter-widgets/base",
       "_model_module_version": "1.2.0",
       "_model_name": "LayoutModel",
       "_view_count": null,
       "_view_module": "@jupyter-widgets/base",
       "_view_module_version": "1.2.0",
       "_view_name": "LayoutView",
       "align_content": null,
       "align_items": null,
       "align_self": null,
       "border": null,
       "bottom": null,
       "display": null,
       "flex": null,
       "flex_flow": null,
       "grid_area": null,
       "grid_auto_columns": null,
       "grid_auto_flow": null,
       "grid_auto_rows": null,
       "grid_column": null,
       "grid_gap": null,
       "grid_row": null,
       "grid_template_areas": null,
       "grid_template_columns": null,
       "grid_template_rows": null,
       "height": null,
       "justify_content": null,
       "justify_items": null,
       "left": null,
       "margin": null,
       "max_height": null,
       "max_width": null,
       "min_height": null,
       "min_width": null,
       "object_fit": null,
       "object_position": null,
       "order": null,
       "overflow": null,
       "overflow_x": null,
       "overflow_y": null,
       "padding": null,
       "right": null,
       "top": null,
       "visibility": null,
       "width": null
      }
     },
     "195a6e0b9d164cff873882859dcb2365": {
      "model_module": "@jupyter-widgets/controls",
      "model_module_version": "1.5.0",
      "model_name": "HTMLModel",
      "state": {
       "_dom_classes": [],
       "_model_module": "@jupyter-widgets/controls",
       "_model_module_version": "1.5.0",
       "_model_name": "HTMLModel",
       "_view_count": null,
       "_view_module": "@jupyter-widgets/controls",
       "_view_module_version": "1.5.0",
       "_view_name": "HTMLView",
       "description": "",
       "description_tooltip": null,
       "layout": "IPY_MODEL_91b8a84849e5431184bc3c7a680b3c10",
       "placeholder": "​",
       "style": "IPY_MODEL_d0d86393a65541618c04b810f7f830c0",
       "value": "Downloading: 100%"
      }
     },
     "1b521a4c633445e18b21d3ab0efdbf05": {
      "model_module": "@jupyter-widgets/base",
      "model_module_version": "1.2.0",
      "model_name": "LayoutModel",
      "state": {
       "_model_module": "@jupyter-widgets/base",
       "_model_module_version": "1.2.0",
       "_model_name": "LayoutModel",
       "_view_count": null,
       "_view_module": "@jupyter-widgets/base",
       "_view_module_version": "1.2.0",
       "_view_name": "LayoutView",
       "align_content": null,
       "align_items": null,
       "align_self": null,
       "border": null,
       "bottom": null,
       "display": null,
       "flex": null,
       "flex_flow": null,
       "grid_area": null,
       "grid_auto_columns": null,
       "grid_auto_flow": null,
       "grid_auto_rows": null,
       "grid_column": null,
       "grid_gap": null,
       "grid_row": null,
       "grid_template_areas": null,
       "grid_template_columns": null,
       "grid_template_rows": null,
       "height": null,
       "justify_content": null,
       "justify_items": null,
       "left": null,
       "margin": null,
       "max_height": null,
       "max_width": null,
       "min_height": null,
       "min_width": null,
       "object_fit": null,
       "object_position": null,
       "order": null,
       "overflow": null,
       "overflow_x": null,
       "overflow_y": null,
       "padding": null,
       "right": null,
       "top": null,
       "visibility": null,
       "width": null
      }
     },
     "2c0e75221f37497485567519bf797bb1": {
      "model_module": "@jupyter-widgets/controls",
      "model_module_version": "1.5.0",
      "model_name": "ProgressStyleModel",
      "state": {
       "_model_module": "@jupyter-widgets/controls",
       "_model_module_version": "1.5.0",
       "_model_name": "ProgressStyleModel",
       "_view_count": null,
       "_view_module": "@jupyter-widgets/base",
       "_view_module_version": "1.2.0",
       "_view_name": "StyleView",
       "bar_color": null,
       "description_width": ""
      }
     },
     "2ce3cd39eb5d45bdab21da61d5dbe2dc": {
      "model_module": "@jupyter-widgets/controls",
      "model_module_version": "1.5.0",
      "model_name": "HTMLModel",
      "state": {
       "_dom_classes": [],
       "_model_module": "@jupyter-widgets/controls",
       "_model_module_version": "1.5.0",
       "_model_name": "HTMLModel",
       "_view_count": null,
       "_view_module": "@jupyter-widgets/controls",
       "_view_module_version": "1.5.0",
       "_view_name": "HTMLView",
       "description": "",
       "description_tooltip": null,
       "layout": "IPY_MODEL_537d081c36a74cb3a4cc266f9771b7d4",
       "placeholder": "​",
       "style": "IPY_MODEL_045f4c9ce05b4928a4e3c77a39f5e477",
       "value": "Downloading: 100%"
      }
     },
     "2e95ba30654348d4becc0054b6293c66": {
      "model_module": "@jupyter-widgets/controls",
      "model_module_version": "1.5.0",
      "model_name": "DescriptionStyleModel",
      "state": {
       "_model_module": "@jupyter-widgets/controls",
       "_model_module_version": "1.5.0",
       "_model_name": "DescriptionStyleModel",
       "_view_count": null,
       "_view_module": "@jupyter-widgets/base",
       "_view_module_version": "1.2.0",
       "_view_name": "StyleView",
       "description_width": ""
      }
     },
     "3274e63b65034aca9be24a3d6c5499c1": {
      "model_module": "@jupyter-widgets/controls",
      "model_module_version": "1.5.0",
      "model_name": "DescriptionStyleModel",
      "state": {
       "_model_module": "@jupyter-widgets/controls",
       "_model_module_version": "1.5.0",
       "_model_name": "DescriptionStyleModel",
       "_view_count": null,
       "_view_module": "@jupyter-widgets/base",
       "_view_module_version": "1.2.0",
       "_view_name": "StyleView",
       "description_width": ""
      }
     },
     "3c90ffefc60b46979583251c99ce8a60": {
      "model_module": "@jupyter-widgets/controls",
      "model_module_version": "1.5.0",
      "model_name": "DescriptionStyleModel",
      "state": {
       "_model_module": "@jupyter-widgets/controls",
       "_model_module_version": "1.5.0",
       "_model_name": "DescriptionStyleModel",
       "_view_count": null,
       "_view_module": "@jupyter-widgets/base",
       "_view_module_version": "1.2.0",
       "_view_name": "StyleView",
       "description_width": ""
      }
     },
     "3d4381ccba83412b897c71b2c5f14722": {
      "model_module": "@jupyter-widgets/controls",
      "model_module_version": "1.5.0",
      "model_name": "ProgressStyleModel",
      "state": {
       "_model_module": "@jupyter-widgets/controls",
       "_model_module_version": "1.5.0",
       "_model_name": "ProgressStyleModel",
       "_view_count": null,
       "_view_module": "@jupyter-widgets/base",
       "_view_module_version": "1.2.0",
       "_view_name": "StyleView",
       "bar_color": null,
       "description_width": ""
      }
     },
     "45f83a85b16744a9b0730486b73571a1": {
      "model_module": "@jupyter-widgets/controls",
      "model_module_version": "1.5.0",
      "model_name": "FloatProgressModel",
      "state": {
       "_dom_classes": [],
       "_model_module": "@jupyter-widgets/controls",
       "_model_module_version": "1.5.0",
       "_model_name": "FloatProgressModel",
       "_view_count": null,
       "_view_module": "@jupyter-widgets/controls",
       "_view_module_version": "1.5.0",
       "_view_name": "ProgressView",
       "bar_style": "success",
       "description": "",
       "description_tooltip": null,
       "layout": "IPY_MODEL_57e7e81f8b114e41b1e328fe1986b4e0",
       "max": 898822.0,
       "min": 0.0,
       "orientation": "horizontal",
       "style": "IPY_MODEL_b71c7691383e4570bd2e0b1fd0084141",
       "value": 898822.0
      }
     },
     "46b858bd40e040278f7ebc35723a369b": {
      "model_module": "@jupyter-widgets/controls",
      "model_module_version": "1.5.0",
      "model_name": "HTMLModel",
      "state": {
       "_dom_classes": [],
       "_model_module": "@jupyter-widgets/controls",
       "_model_module_version": "1.5.0",
       "_model_name": "HTMLModel",
       "_view_count": null,
       "_view_module": "@jupyter-widgets/controls",
       "_view_module_version": "1.5.0",
       "_view_name": "HTMLView",
       "description": "",
       "description_tooltip": null,
       "layout": "IPY_MODEL_ce35f7a29d074dbe9db3184841a83368",
       "placeholder": "​",
       "style": "IPY_MODEL_f209bef6155f48ca82a6498b982d3c8b",
       "value": " 26.0/26.0 [00:00&lt;00:00, 976B/s]"
      }
     },
     "48dde8e5a894460a8f14edce4d52b14b": {
      "model_module": "@jupyter-widgets/controls",
      "model_module_version": "1.5.0",
      "model_name": "DescriptionStyleModel",
      "state": {
       "_model_module": "@jupyter-widgets/controls",
       "_model_module_version": "1.5.0",
       "_model_name": "DescriptionStyleModel",
       "_view_count": null,
       "_view_module": "@jupyter-widgets/base",
       "_view_module_version": "1.2.0",
       "_view_name": "StyleView",
       "description_width": ""
      }
     },
     "4a45cd28a07841c895e9f920c3baf411": {
      "model_module": "@jupyter-widgets/base",
      "model_module_version": "1.2.0",
      "model_name": "LayoutModel",
      "state": {
       "_model_module": "@jupyter-widgets/base",
       "_model_module_version": "1.2.0",
       "_model_name": "LayoutModel",
       "_view_count": null,
       "_view_module": "@jupyter-widgets/base",
       "_view_module_version": "1.2.0",
       "_view_name": "LayoutView",
       "align_content": null,
       "align_items": null,
       "align_self": null,
       "border": null,
       "bottom": null,
       "display": null,
       "flex": null,
       "flex_flow": null,
       "grid_area": null,
       "grid_auto_columns": null,
       "grid_auto_flow": null,
       "grid_auto_rows": null,
       "grid_column": null,
       "grid_gap": null,
       "grid_row": null,
       "grid_template_areas": null,
       "grid_template_columns": null,
       "grid_template_rows": null,
       "height": null,
       "justify_content": null,
       "justify_items": null,
       "left": null,
       "margin": null,
       "max_height": null,
       "max_width": null,
       "min_height": null,
       "min_width": null,
       "object_fit": null,
       "object_position": null,
       "order": null,
       "overflow": null,
       "overflow_x": null,
       "overflow_y": null,
       "padding": null,
       "right": null,
       "top": null,
       "visibility": null,
       "width": null
      }
     },
     "4f4dafb2bf784576b40ae9f5c25c2f37": {
      "model_module": "@jupyter-widgets/controls",
      "model_module_version": "1.5.0",
      "model_name": "HTMLModel",
      "state": {
       "_dom_classes": [],
       "_model_module": "@jupyter-widgets/controls",
       "_model_module_version": "1.5.0",
       "_model_name": "HTMLModel",
       "_view_count": null,
       "_view_module": "@jupyter-widgets/controls",
       "_view_module_version": "1.5.0",
       "_view_name": "HTMLView",
       "description": "",
       "description_tooltip": null,
       "layout": "IPY_MODEL_e851817a5c384484b53dbcd805655544",
       "placeholder": "​",
       "style": "IPY_MODEL_aebc08d193d84984a9c88c8fc10f6972",
       "value": "Downloading: 100%"
      }
     },
     "4fb94acdebf9480f8a745cb47aa023c2": {
      "model_module": "@jupyter-widgets/base",
      "model_module_version": "1.2.0",
      "model_name": "LayoutModel",
      "state": {
       "_model_module": "@jupyter-widgets/base",
       "_model_module_version": "1.2.0",
       "_model_name": "LayoutModel",
       "_view_count": null,
       "_view_module": "@jupyter-widgets/base",
       "_view_module_version": "1.2.0",
       "_view_name": "LayoutView",
       "align_content": null,
       "align_items": null,
       "align_self": null,
       "border": null,
       "bottom": null,
       "display": null,
       "flex": null,
       "flex_flow": null,
       "grid_area": null,
       "grid_auto_columns": null,
       "grid_auto_flow": null,
       "grid_auto_rows": null,
       "grid_column": null,
       "grid_gap": null,
       "grid_row": null,
       "grid_template_areas": null,
       "grid_template_columns": null,
       "grid_template_rows": null,
       "height": null,
       "justify_content": null,
       "justify_items": null,
       "left": null,
       "margin": null,
       "max_height": null,
       "max_width": null,
       "min_height": null,
       "min_width": null,
       "object_fit": null,
       "object_position": null,
       "order": null,
       "overflow": null,
       "overflow_x": null,
       "overflow_y": null,
       "padding": null,
       "right": null,
       "top": null,
       "visibility": null,
       "width": null
      }
     },
     "518882096b09417cbbc518dac25fd2e1": {
      "model_module": "@jupyter-widgets/controls",
      "model_module_version": "1.5.0",
      "model_name": "HTMLModel",
      "state": {
       "_dom_classes": [],
       "_model_module": "@jupyter-widgets/controls",
       "_model_module_version": "1.5.0",
       "_model_name": "HTMLModel",
       "_view_count": null,
       "_view_module": "@jupyter-widgets/controls",
       "_view_module_version": "1.5.0",
       "_view_name": "HTMLView",
       "description": "",
       "description_tooltip": null,
       "layout": "IPY_MODEL_9c6fd2efd9d74f8eb92da43339685ce8",
       "placeholder": "​",
       "style": "IPY_MODEL_68cf085c80ef4531ba0a2f7fe4386d44",
       "value": "Downloading: 100%"
      }
     },
     "534ef3c0e5eb4cba98e11f908d870b9b": {
      "model_module": "@jupyter-widgets/base",
      "model_module_version": "1.2.0",
      "model_name": "LayoutModel",
      "state": {
       "_model_module": "@jupyter-widgets/base",
       "_model_module_version": "1.2.0",
       "_model_name": "LayoutModel",
       "_view_count": null,
       "_view_module": "@jupyter-widgets/base",
       "_view_module_version": "1.2.0",
       "_view_name": "LayoutView",
       "align_content": null,
       "align_items": null,
       "align_self": null,
       "border": null,
       "bottom": null,
       "display": null,
       "flex": null,
       "flex_flow": null,
       "grid_area": null,
       "grid_auto_columns": null,
       "grid_auto_flow": null,
       "grid_auto_rows": null,
       "grid_column": null,
       "grid_gap": null,
       "grid_row": null,
       "grid_template_areas": null,
       "grid_template_columns": null,
       "grid_template_rows": null,
       "height": null,
       "justify_content": null,
       "justify_items": null,
       "left": null,
       "margin": null,
       "max_height": null,
       "max_width": null,
       "min_height": null,
       "min_width": null,
       "object_fit": null,
       "object_position": null,
       "order": null,
       "overflow": null,
       "overflow_x": null,
       "overflow_y": null,
       "padding": null,
       "right": null,
       "top": null,
       "visibility": null,
       "width": null
      }
     },
     "537d081c36a74cb3a4cc266f9771b7d4": {
      "model_module": "@jupyter-widgets/base",
      "model_module_version": "1.2.0",
      "model_name": "LayoutModel",
      "state": {
       "_model_module": "@jupyter-widgets/base",
       "_model_module_version": "1.2.0",
       "_model_name": "LayoutModel",
       "_view_count": null,
       "_view_module": "@jupyter-widgets/base",
       "_view_module_version": "1.2.0",
       "_view_name": "LayoutView",
       "align_content": null,
       "align_items": null,
       "align_self": null,
       "border": null,
       "bottom": null,
       "display": null,
       "flex": null,
       "flex_flow": null,
       "grid_area": null,
       "grid_auto_columns": null,
       "grid_auto_flow": null,
       "grid_auto_rows": null,
       "grid_column": null,
       "grid_gap": null,
       "grid_row": null,
       "grid_template_areas": null,
       "grid_template_columns": null,
       "grid_template_rows": null,
       "height": null,
       "justify_content": null,
       "justify_items": null,
       "left": null,
       "margin": null,
       "max_height": null,
       "max_width": null,
       "min_height": null,
       "min_width": null,
       "object_fit": null,
       "object_position": null,
       "order": null,
       "overflow": null,
       "overflow_x": null,
       "overflow_y": null,
       "padding": null,
       "right": null,
       "top": null,
       "visibility": null,
       "width": null
      }
     },
     "5785b41a231c49a89dfb4f0e67d67aee": {
      "model_module": "@jupyter-widgets/controls",
      "model_module_version": "1.5.0",
      "model_name": "FloatProgressModel",
      "state": {
       "_dom_classes": [],
       "_model_module": "@jupyter-widgets/controls",
       "_model_module_version": "1.5.0",
       "_model_name": "FloatProgressModel",
       "_view_count": null,
       "_view_module": "@jupyter-widgets/controls",
       "_view_module_version": "1.5.0",
       "_view_name": "ProgressView",
       "bar_style": "success",
       "description": "",
       "description_tooltip": null,
       "layout": "IPY_MODEL_ef8e70f3270748c99eee6406832ae037",
       "max": 1536.0,
       "min": 0.0,
       "orientation": "horizontal",
       "style": "IPY_MODEL_ed84c9223af6402581c34358ced222bc",
       "value": 1536.0
      }
     },
     "57e7e81f8b114e41b1e328fe1986b4e0": {
      "model_module": "@jupyter-widgets/base",
      "model_module_version": "1.2.0",
      "model_name": "LayoutModel",
      "state": {
       "_model_module": "@jupyter-widgets/base",
       "_model_module_version": "1.2.0",
       "_model_name": "LayoutModel",
       "_view_count": null,
       "_view_module": "@jupyter-widgets/base",
       "_view_module_version": "1.2.0",
       "_view_name": "LayoutView",
       "align_content": null,
       "align_items": null,
       "align_self": null,
       "border": null,
       "bottom": null,
       "display": null,
       "flex": null,
       "flex_flow": null,
       "grid_area": null,
       "grid_auto_columns": null,
       "grid_auto_flow": null,
       "grid_auto_rows": null,
       "grid_column": null,
       "grid_gap": null,
       "grid_row": null,
       "grid_template_areas": null,
       "grid_template_columns": null,
       "grid_template_rows": null,
       "height": null,
       "justify_content": null,
       "justify_items": null,
       "left": null,
       "margin": null,
       "max_height": null,
       "max_width": null,
       "min_height": null,
       "min_width": null,
       "object_fit": null,
       "object_position": null,
       "order": null,
       "overflow": null,
       "overflow_x": null,
       "overflow_y": null,
       "padding": null,
       "right": null,
       "top": null,
       "visibility": null,
       "width": null
      }
     },
     "5a751dc2b3294c539b802861f1a1c87b": {
      "model_module": "@jupyter-widgets/controls",
      "model_module_version": "1.5.0",
      "model_name": "HBoxModel",
      "state": {
       "_dom_classes": [],
       "_model_module": "@jupyter-widgets/controls",
       "_model_module_version": "1.5.0",
       "_model_name": "HBoxModel",
       "_view_count": null,
       "_view_module": "@jupyter-widgets/controls",
       "_view_module_version": "1.5.0",
       "_view_name": "HBoxView",
       "box_style": "",
       "children": [
        "IPY_MODEL_518882096b09417cbbc518dac25fd2e1",
        "IPY_MODEL_077e2c7ee28d4147b65c2c24744107fe",
        "IPY_MODEL_46b858bd40e040278f7ebc35723a369b"
       ],
       "layout": "IPY_MODEL_aac1448838414af286532ca71cf95786"
      }
     },
     "5ae1728fe9054825ac12b240fa5e7850": {
      "model_module": "@jupyter-widgets/base",
      "model_module_version": "1.2.0",
      "model_name": "LayoutModel",
      "state": {
       "_model_module": "@jupyter-widgets/base",
       "_model_module_version": "1.2.0",
       "_model_name": "LayoutModel",
       "_view_count": null,
       "_view_module": "@jupyter-widgets/base",
       "_view_module_version": "1.2.0",
       "_view_name": "LayoutView",
       "align_content": null,
       "align_items": null,
       "align_self": null,
       "border": null,
       "bottom": null,
       "display": null,
       "flex": null,
       "flex_flow": null,
       "grid_area": null,
       "grid_auto_columns": null,
       "grid_auto_flow": null,
       "grid_auto_rows": null,
       "grid_column": null,
       "grid_gap": null,
       "grid_row": null,
       "grid_template_areas": null,
       "grid_template_columns": null,
       "grid_template_rows": null,
       "height": null,
       "justify_content": null,
       "justify_items": null,
       "left": null,
       "margin": null,
       "max_height": null,
       "max_width": null,
       "min_height": null,
       "min_width": null,
       "object_fit": null,
       "object_position": null,
       "order": null,
       "overflow": null,
       "overflow_x": null,
       "overflow_y": null,
       "padding": null,
       "right": null,
       "top": null,
       "visibility": null,
       "width": null
      }
     },
     "5e2ed7d636ad484cbcc72ee25042f346": {
      "model_module": "@jupyter-widgets/controls",
      "model_module_version": "1.5.0",
      "model_name": "DescriptionStyleModel",
      "state": {
       "_model_module": "@jupyter-widgets/controls",
       "_model_module_version": "1.5.0",
       "_model_name": "DescriptionStyleModel",
       "_view_count": null,
       "_view_module": "@jupyter-widgets/base",
       "_view_module_version": "1.2.0",
       "_view_name": "StyleView",
       "description_width": ""
      }
     },
     "627b896df0524ee68de4b9e15790a732": {
      "model_module": "@jupyter-widgets/controls",
      "model_module_version": "1.5.0",
      "model_name": "ProgressStyleModel",
      "state": {
       "_model_module": "@jupyter-widgets/controls",
       "_model_module_version": "1.5.0",
       "_model_name": "ProgressStyleModel",
       "_view_count": null,
       "_view_module": "@jupyter-widgets/base",
       "_view_module_version": "1.2.0",
       "_view_name": "StyleView",
       "bar_color": null,
       "description_width": ""
      }
     },
     "65bbda1778a84fa1bb7d8c7e2ce661bb": {
      "model_module": "@jupyter-widgets/base",
      "model_module_version": "1.2.0",
      "model_name": "LayoutModel",
      "state": {
       "_model_module": "@jupyter-widgets/base",
       "_model_module_version": "1.2.0",
       "_model_name": "LayoutModel",
       "_view_count": null,
       "_view_module": "@jupyter-widgets/base",
       "_view_module_version": "1.2.0",
       "_view_name": "LayoutView",
       "align_content": null,
       "align_items": null,
       "align_self": null,
       "border": null,
       "bottom": null,
       "display": null,
       "flex": null,
       "flex_flow": null,
       "grid_area": null,
       "grid_auto_columns": null,
       "grid_auto_flow": null,
       "grid_auto_rows": null,
       "grid_column": null,
       "grid_gap": null,
       "grid_row": null,
       "grid_template_areas": null,
       "grid_template_columns": null,
       "grid_template_rows": null,
       "height": null,
       "justify_content": null,
       "justify_items": null,
       "left": null,
       "margin": null,
       "max_height": null,
       "max_width": null,
       "min_height": null,
       "min_width": null,
       "object_fit": null,
       "object_position": null,
       "order": null,
       "overflow": null,
       "overflow_x": null,
       "overflow_y": null,
       "padding": null,
       "right": null,
       "top": null,
       "visibility": null,
       "width": null
      }
     },
     "6727838029734b90bb68e03ff0bc89d6": {
      "model_module": "@jupyter-widgets/base",
      "model_module_version": "1.2.0",
      "model_name": "LayoutModel",
      "state": {
       "_model_module": "@jupyter-widgets/base",
       "_model_module_version": "1.2.0",
       "_model_name": "LayoutModel",
       "_view_count": null,
       "_view_module": "@jupyter-widgets/base",
       "_view_module_version": "1.2.0",
       "_view_name": "LayoutView",
       "align_content": null,
       "align_items": null,
       "align_self": null,
       "border": null,
       "bottom": null,
       "display": null,
       "flex": null,
       "flex_flow": null,
       "grid_area": null,
       "grid_auto_columns": null,
       "grid_auto_flow": null,
       "grid_auto_rows": null,
       "grid_column": null,
       "grid_gap": null,
       "grid_row": null,
       "grid_template_areas": null,
       "grid_template_columns": null,
       "grid_template_rows": null,
       "height": null,
       "justify_content": null,
       "justify_items": null,
       "left": null,
       "margin": null,
       "max_height": null,
       "max_width": null,
       "min_height": null,
       "min_width": null,
       "object_fit": null,
       "object_position": null,
       "order": null,
       "overflow": null,
       "overflow_x": null,
       "overflow_y": null,
       "padding": null,
       "right": null,
       "top": null,
       "visibility": null,
       "width": null
      }
     },
     "68cf085c80ef4531ba0a2f7fe4386d44": {
      "model_module": "@jupyter-widgets/controls",
      "model_module_version": "1.5.0",
      "model_name": "DescriptionStyleModel",
      "state": {
       "_model_module": "@jupyter-widgets/controls",
       "_model_module_version": "1.5.0",
       "_model_name": "DescriptionStyleModel",
       "_view_count": null,
       "_view_module": "@jupyter-widgets/base",
       "_view_module_version": "1.2.0",
       "_view_name": "StyleView",
       "description_width": ""
      }
     },
     "6aacbb0d09ad40b2b600f441ba1dba4d": {
      "model_module": "@jupyter-widgets/controls",
      "model_module_version": "1.5.0",
      "model_name": "DescriptionStyleModel",
      "state": {
       "_model_module": "@jupyter-widgets/controls",
       "_model_module_version": "1.5.0",
       "_model_name": "DescriptionStyleModel",
       "_view_count": null,
       "_view_module": "@jupyter-widgets/base",
       "_view_module_version": "1.2.0",
       "_view_name": "StyleView",
       "description_width": ""
      }
     },
     "6cb3f2dd4313413098dee20b2074e9f5": {
      "model_module": "@jupyter-widgets/controls",
      "model_module_version": "1.5.0",
      "model_name": "HBoxModel",
      "state": {
       "_dom_classes": [],
       "_model_module": "@jupyter-widgets/controls",
       "_model_module_version": "1.5.0",
       "_model_name": "HBoxModel",
       "_view_count": null,
       "_view_module": "@jupyter-widgets/controls",
       "_view_module_version": "1.5.0",
       "_view_name": "HBoxView",
       "box_style": "",
       "children": [
        "IPY_MODEL_195a6e0b9d164cff873882859dcb2365",
        "IPY_MODEL_5785b41a231c49a89dfb4f0e67d67aee",
        "IPY_MODEL_0517328e6278478282e4a4fb2247b43d"
       ],
       "layout": "IPY_MODEL_534ef3c0e5eb4cba98e11f908d870b9b"
      }
     },
     "7205cbe9ed5d4c94b060700c2808eb2a": {
      "model_module": "@jupyter-widgets/controls",
      "model_module_version": "1.5.0",
      "model_name": "FloatProgressModel",
      "state": {
       "_dom_classes": [],
       "_model_module": "@jupyter-widgets/controls",
       "_model_module_version": "1.5.0",
       "_model_name": "FloatProgressModel",
       "_view_count": null,
       "_view_module": "@jupyter-widgets/controls",
       "_view_module_version": "1.5.0",
       "_view_name": "ProgressView",
       "bar_style": "success",
       "description": "",
       "description_tooltip": null,
       "layout": "IPY_MODEL_e29b6d10f3de4df1b9959f4eb58415fc",
       "max": 1.0,
       "min": 0.0,
       "orientation": "horizontal",
       "style": "IPY_MODEL_2c0e75221f37497485567519bf797bb1",
       "value": 1.0
      }
     },
     "73a97c8eff8341859cc549d8f1dc28d8": {
      "model_module": "@jupyter-widgets/base",
      "model_module_version": "1.2.0",
      "model_name": "LayoutModel",
      "state": {
       "_model_module": "@jupyter-widgets/base",
       "_model_module_version": "1.2.0",
       "_model_name": "LayoutModel",
       "_view_count": null,
       "_view_module": "@jupyter-widgets/base",
       "_view_module_version": "1.2.0",
       "_view_name": "LayoutView",
       "align_content": null,
       "align_items": null,
       "align_self": null,
       "border": null,
       "bottom": null,
       "display": null,
       "flex": null,
       "flex_flow": null,
       "grid_area": null,
       "grid_auto_columns": null,
       "grid_auto_flow": null,
       "grid_auto_rows": null,
       "grid_column": null,
       "grid_gap": null,
       "grid_row": null,
       "grid_template_areas": null,
       "grid_template_columns": null,
       "grid_template_rows": null,
       "height": null,
       "justify_content": null,
       "justify_items": null,
       "left": null,
       "margin": null,
       "max_height": null,
       "max_width": null,
       "min_height": null,
       "min_width": null,
       "object_fit": null,
       "object_position": null,
       "order": null,
       "overflow": null,
       "overflow_x": null,
       "overflow_y": null,
       "padding": null,
       "right": null,
       "top": null,
       "visibility": null,
       "width": null
      }
     },
     "7d425e5313f047578c84eea85ec8217d": {
      "model_module": "@jupyter-widgets/controls",
      "model_module_version": "1.5.0",
      "model_name": "HBoxModel",
      "state": {
       "_dom_classes": [],
       "_model_module": "@jupyter-widgets/controls",
       "_model_module_version": "1.5.0",
       "_model_name": "HBoxModel",
       "_view_count": null,
       "_view_module": "@jupyter-widgets/controls",
       "_view_module_version": "1.5.0",
       "_view_name": "HBoxView",
       "box_style": "",
       "children": [
        "IPY_MODEL_2ce3cd39eb5d45bdab21da61d5dbe2dc",
        "IPY_MODEL_45f83a85b16744a9b0730486b73571a1",
        "IPY_MODEL_a9b9c855d8224ee7b870b8cf539e592d"
       ],
       "layout": "IPY_MODEL_cf58108cb8cc4d9ab175438c14b3804c"
      }
     },
     "7f31a0fbb21c4cbab5be7bf46cbd4a0a": {
      "model_module": "@jupyter-widgets/base",
      "model_module_version": "1.2.0",
      "model_name": "LayoutModel",
      "state": {
       "_model_module": "@jupyter-widgets/base",
       "_model_module_version": "1.2.0",
       "_model_name": "LayoutModel",
       "_view_count": null,
       "_view_module": "@jupyter-widgets/base",
       "_view_module_version": "1.2.0",
       "_view_name": "LayoutView",
       "align_content": null,
       "align_items": null,
       "align_self": null,
       "border": null,
       "bottom": null,
       "display": null,
       "flex": null,
       "flex_flow": null,
       "grid_area": null,
       "grid_auto_columns": null,
       "grid_auto_flow": null,
       "grid_auto_rows": null,
       "grid_column": null,
       "grid_gap": null,
       "grid_row": null,
       "grid_template_areas": null,
       "grid_template_columns": null,
       "grid_template_rows": null,
       "height": null,
       "justify_content": null,
       "justify_items": null,
       "left": null,
       "margin": null,
       "max_height": null,
       "max_width": null,
       "min_height": null,
       "min_width": null,
       "object_fit": null,
       "object_position": null,
       "order": null,
       "overflow": null,
       "overflow_x": null,
       "overflow_y": null,
       "padding": null,
       "right": null,
       "top": null,
       "visibility": null,
       "width": null
      }
     },
     "8227768b4e184f0fa37aae022582b81d": {
      "model_module": "@jupyter-widgets/controls",
      "model_module_version": "1.5.0",
      "model_name": "HBoxModel",
      "state": {
       "_dom_classes": [],
       "_model_module": "@jupyter-widgets/controls",
       "_model_module_version": "1.5.0",
       "_model_name": "HBoxModel",
       "_view_count": null,
       "_view_module": "@jupyter-widgets/controls",
       "_view_module_version": "1.5.0",
       "_view_name": "HBoxView",
       "box_style": "",
       "children": [
        "IPY_MODEL_cde089b5df404b5fae9471e8744d00ae",
        "IPY_MODEL_7205cbe9ed5d4c94b060700c2808eb2a",
        "IPY_MODEL_c3564e1b60214f7981480b2b1785ff25"
       ],
       "layout": "IPY_MODEL_f5c011a78a084a689ba60c99712449eb"
      }
     },
     "833f7d6cc5de4998a00cf0e4e514fee2": {
      "model_module": "@jupyter-widgets/controls",
      "model_module_version": "1.5.0",
      "model_name": "HTMLModel",
      "state": {
       "_dom_classes": [],
       "_model_module": "@jupyter-widgets/controls",
       "_model_module_version": "1.5.0",
       "_model_name": "HTMLModel",
       "_view_count": null,
       "_view_module": "@jupyter-widgets/controls",
       "_view_module_version": "1.5.0",
       "_view_name": "HTMLView",
       "description": "",
       "description_tooltip": null,
       "layout": "IPY_MODEL_73a97c8eff8341859cc549d8f1dc28d8",
       "placeholder": "​",
       "style": "IPY_MODEL_2e95ba30654348d4becc0054b6293c66",
       "value": " 511M/511M [00:26&lt;00:00, 22.0MB/s]"
      }
     },
     "8410ee8c6add46fa914b690870434924": {
      "model_module": "@jupyter-widgets/controls",
      "model_module_version": "1.5.0",
      "model_name": "FloatProgressModel",
      "state": {
       "_dom_classes": [],
       "_model_module": "@jupyter-widgets/controls",
       "_model_module_version": "1.5.0",
       "_model_name": "FloatProgressModel",
       "_view_count": null,
       "_view_module": "@jupyter-widgets/controls",
       "_view_module_version": "1.5.0",
       "_view_name": "ProgressView",
       "bar_style": "success",
       "description": "",
       "description_tooltip": null,
       "layout": "IPY_MODEL_1756f1e9e0a847d084a3babdffeea55a",
       "max": 456318.0,
       "min": 0.0,
       "orientation": "horizontal",
       "style": "IPY_MODEL_0b55386974644087911560e45683d71b",
       "value": 456318.0
      }
     },
     "84c82b08b7e6406ebd90aab9086f9e31": {
      "model_module": "@jupyter-widgets/controls",
      "model_module_version": "1.5.0",
      "model_name": "HTMLModel",
      "state": {
       "_dom_classes": [],
       "_model_module": "@jupyter-widgets/controls",
       "_model_module_version": "1.5.0",
       "_model_name": "HTMLModel",
       "_view_count": null,
       "_view_module": "@jupyter-widgets/controls",
       "_view_module_version": "1.5.0",
       "_view_name": "HTMLView",
       "description": "",
       "description_tooltip": null,
       "layout": "IPY_MODEL_0475c9a32f6e482e8bfeee8018d1fda2",
       "placeholder": "​",
       "style": "IPY_MODEL_5e2ed7d636ad484cbcc72ee25042f346",
       "value": " 446k/446k [00:00&lt;00:00, 564kB/s]"
      }
     },
     "8a4be8651b3845b6b02456c7b28a2390": {
      "model_module": "@jupyter-widgets/controls",
      "model_module_version": "1.5.0",
      "model_name": "FloatProgressModel",
      "state": {
       "_dom_classes": [],
       "_model_module": "@jupyter-widgets/controls",
       "_model_module_version": "1.5.0",
       "_model_name": "FloatProgressModel",
       "_view_count": null,
       "_view_module": "@jupyter-widgets/controls",
       "_view_module_version": "1.5.0",
       "_view_name": "ProgressView",
       "bar_style": "success",
       "description": "",
       "description_tooltip": null,
       "layout": "IPY_MODEL_7f31a0fbb21c4cbab5be7bf46cbd4a0a",
       "max": 20.0,
       "min": 0.0,
       "orientation": "horizontal",
       "style": "IPY_MODEL_3d4381ccba83412b897c71b2c5f14722",
       "value": 20.0
      }
     },
     "907c30ef4e3d4a25bb69614738a26136": {
      "model_module": "@jupyter-widgets/base",
      "model_module_version": "1.2.0",
      "model_name": "LayoutModel",
      "state": {
       "_model_module": "@jupyter-widgets/base",
       "_model_module_version": "1.2.0",
       "_model_name": "LayoutModel",
       "_view_count": null,
       "_view_module": "@jupyter-widgets/base",
       "_view_module_version": "1.2.0",
       "_view_name": "LayoutView",
       "align_content": null,
       "align_items": null,
       "align_self": null,
       "border": null,
       "bottom": null,
       "display": null,
       "flex": null,
       "flex_flow": null,
       "grid_area": null,
       "grid_auto_columns": null,
       "grid_auto_flow": null,
       "grid_auto_rows": null,
       "grid_column": null,
       "grid_gap": null,
       "grid_row": null,
       "grid_template_areas": null,
       "grid_template_columns": null,
       "grid_template_rows": null,
       "height": null,
       "justify_content": null,
       "justify_items": null,
       "left": null,
       "margin": null,
       "max_height": null,
       "max_width": null,
       "min_height": null,
       "min_width": null,
       "object_fit": null,
       "object_position": null,
       "order": null,
       "overflow": null,
       "overflow_x": null,
       "overflow_y": null,
       "padding": null,
       "right": null,
       "top": null,
       "visibility": null,
       "width": null
      }
     },
     "91b8a84849e5431184bc3c7a680b3c10": {
      "model_module": "@jupyter-widgets/base",
      "model_module_version": "1.2.0",
      "model_name": "LayoutModel",
      "state": {
       "_model_module": "@jupyter-widgets/base",
       "_model_module_version": "1.2.0",
       "_model_name": "LayoutModel",
       "_view_count": null,
       "_view_module": "@jupyter-widgets/base",
       "_view_module_version": "1.2.0",
       "_view_name": "LayoutView",
       "align_content": null,
       "align_items": null,
       "align_self": null,
       "border": null,
       "bottom": null,
       "display": null,
       "flex": null,
       "flex_flow": null,
       "grid_area": null,
       "grid_auto_columns": null,
       "grid_auto_flow": null,
       "grid_auto_rows": null,
       "grid_column": null,
       "grid_gap": null,
       "grid_row": null,
       "grid_template_areas": null,
       "grid_template_columns": null,
       "grid_template_rows": null,
       "height": null,
       "justify_content": null,
       "justify_items": null,
       "left": null,
       "margin": null,
       "max_height": null,
       "max_width": null,
       "min_height": null,
       "min_width": null,
       "object_fit": null,
       "object_position": null,
       "order": null,
       "overflow": null,
       "overflow_x": null,
       "overflow_y": null,
       "padding": null,
       "right": null,
       "top": null,
       "visibility": null,
       "width": null
      }
     },
     "9c6fd2efd9d74f8eb92da43339685ce8": {
      "model_module": "@jupyter-widgets/base",
      "model_module_version": "1.2.0",
      "model_name": "LayoutModel",
      "state": {
       "_model_module": "@jupyter-widgets/base",
       "_model_module_version": "1.2.0",
       "_model_name": "LayoutModel",
       "_view_count": null,
       "_view_module": "@jupyter-widgets/base",
       "_view_module_version": "1.2.0",
       "_view_name": "LayoutView",
       "align_content": null,
       "align_items": null,
       "align_self": null,
       "border": null,
       "bottom": null,
       "display": null,
       "flex": null,
       "flex_flow": null,
       "grid_area": null,
       "grid_auto_columns": null,
       "grid_auto_flow": null,
       "grid_auto_rows": null,
       "grid_column": null,
       "grid_gap": null,
       "grid_row": null,
       "grid_template_areas": null,
       "grid_template_columns": null,
       "grid_template_rows": null,
       "height": null,
       "justify_content": null,
       "justify_items": null,
       "left": null,
       "margin": null,
       "max_height": null,
       "max_width": null,
       "min_height": null,
       "min_width": null,
       "object_fit": null,
       "object_position": null,
       "order": null,
       "overflow": null,
       "overflow_x": null,
       "overflow_y": null,
       "padding": null,
       "right": null,
       "top": null,
       "visibility": null,
       "width": null
      }
     },
     "9f91e2cb12b447a1a4f5f0fa4cb4db17": {
      "model_module": "@jupyter-widgets/base",
      "model_module_version": "1.2.0",
      "model_name": "LayoutModel",
      "state": {
       "_model_module": "@jupyter-widgets/base",
       "_model_module_version": "1.2.0",
       "_model_name": "LayoutModel",
       "_view_count": null,
       "_view_module": "@jupyter-widgets/base",
       "_view_module_version": "1.2.0",
       "_view_name": "LayoutView",
       "align_content": null,
       "align_items": null,
       "align_self": null,
       "border": null,
       "bottom": null,
       "display": null,
       "flex": null,
       "flex_flow": null,
       "grid_area": null,
       "grid_auto_columns": null,
       "grid_auto_flow": null,
       "grid_auto_rows": null,
       "grid_column": null,
       "grid_gap": null,
       "grid_row": null,
       "grid_template_areas": null,
       "grid_template_columns": null,
       "grid_template_rows": null,
       "height": null,
       "justify_content": null,
       "justify_items": null,
       "left": null,
       "margin": null,
       "max_height": null,
       "max_width": null,
       "min_height": null,
       "min_width": null,
       "object_fit": null,
       "object_position": null,
       "order": null,
       "overflow": null,
       "overflow_x": null,
       "overflow_y": null,
       "padding": null,
       "right": null,
       "top": null,
       "visibility": null,
       "width": null
      }
     },
     "a68786f0adb2479f8f10f82561a44ae8": {
      "model_module": "@jupyter-widgets/controls",
      "model_module_version": "1.5.0",
      "model_name": "HTMLModel",
      "state": {
       "_dom_classes": [],
       "_model_module": "@jupyter-widgets/controls",
       "_model_module_version": "1.5.0",
       "_model_name": "HTMLModel",
       "_view_count": null,
       "_view_module": "@jupyter-widgets/controls",
       "_view_module_version": "1.5.0",
       "_view_name": "HTMLView",
       "description": "",
       "description_tooltip": null,
       "layout": "IPY_MODEL_be9dea9865484573b9ec2d792268b70c",
       "placeholder": "​",
       "style": "IPY_MODEL_a78bc70295e94c83b1c7a4b8eb66624e",
       "value": " 20/20 [00:49&lt;00:00,  2.54s/ba]"
      }
     },
     "a78bc70295e94c83b1c7a4b8eb66624e": {
      "model_module": "@jupyter-widgets/controls",
      "model_module_version": "1.5.0",
      "model_name": "DescriptionStyleModel",
      "state": {
       "_model_module": "@jupyter-widgets/controls",
       "_model_module_version": "1.5.0",
       "_model_name": "DescriptionStyleModel",
       "_view_count": null,
       "_view_module": "@jupyter-widgets/base",
       "_view_module_version": "1.2.0",
       "_view_name": "StyleView",
       "description_width": ""
      }
     },
     "a9b9c855d8224ee7b870b8cf539e592d": {
      "model_module": "@jupyter-widgets/controls",
      "model_module_version": "1.5.0",
      "model_name": "HTMLModel",
      "state": {
       "_dom_classes": [],
       "_model_module": "@jupyter-widgets/controls",
       "_model_module_version": "1.5.0",
       "_model_name": "HTMLModel",
       "_view_count": null,
       "_view_module": "@jupyter-widgets/controls",
       "_view_module_version": "1.5.0",
       "_view_name": "HTMLView",
       "description": "",
       "description_tooltip": null,
       "layout": "IPY_MODEL_4a45cd28a07841c895e9f920c3baf411",
       "placeholder": "​",
       "style": "IPY_MODEL_3274e63b65034aca9be24a3d6c5499c1",
       "value": " 878k/878k [00:00&lt;00:00, 2.03MB/s]"
      }
     },
     "aac1448838414af286532ca71cf95786": {
      "model_module": "@jupyter-widgets/base",
      "model_module_version": "1.2.0",
      "model_name": "LayoutModel",
      "state": {
       "_model_module": "@jupyter-widgets/base",
       "_model_module_version": "1.2.0",
       "_model_name": "LayoutModel",
       "_view_count": null,
       "_view_module": "@jupyter-widgets/base",
       "_view_module_version": "1.2.0",
       "_view_name": "LayoutView",
       "align_content": null,
       "align_items": null,
       "align_self": null,
       "border": null,
       "bottom": null,
       "display": null,
       "flex": null,
       "flex_flow": null,
       "grid_area": null,
       "grid_auto_columns": null,
       "grid_auto_flow": null,
       "grid_auto_rows": null,
       "grid_column": null,
       "grid_gap": null,
       "grid_row": null,
       "grid_template_areas": null,
       "grid_template_columns": null,
       "grid_template_rows": null,
       "height": null,
       "justify_content": null,
       "justify_items": null,
       "left": null,
       "margin": null,
       "max_height": null,
       "max_width": null,
       "min_height": null,
       "min_width": null,
       "object_fit": null,
       "object_position": null,
       "order": null,
       "overflow": null,
       "overflow_x": null,
       "overflow_y": null,
       "padding": null,
       "right": null,
       "top": null,
       "visibility": null,
       "width": null
      }
     },
     "aebc08d193d84984a9c88c8fc10f6972": {
      "model_module": "@jupyter-widgets/controls",
      "model_module_version": "1.5.0",
      "model_name": "DescriptionStyleModel",
      "state": {
       "_model_module": "@jupyter-widgets/controls",
       "_model_module_version": "1.5.0",
       "_model_name": "DescriptionStyleModel",
       "_view_count": null,
       "_view_module": "@jupyter-widgets/base",
       "_view_module_version": "1.2.0",
       "_view_name": "StyleView",
       "description_width": ""
      }
     },
     "b582e0aaa9fe449ba2a787d09abbee78": {
      "model_module": "@jupyter-widgets/controls",
      "model_module_version": "1.5.0",
      "model_name": "HBoxModel",
      "state": {
       "_dom_classes": [],
       "_model_module": "@jupyter-widgets/controls",
       "_model_module_version": "1.5.0",
       "_model_name": "HBoxModel",
       "_view_count": null,
       "_view_module": "@jupyter-widgets/controls",
       "_view_module_version": "1.5.0",
       "_view_name": "HBoxView",
       "box_style": "",
       "children": [
        "IPY_MODEL_4f4dafb2bf784576b40ae9f5c25c2f37",
        "IPY_MODEL_8410ee8c6add46fa914b690870434924",
        "IPY_MODEL_84c82b08b7e6406ebd90aab9086f9e31"
       ],
       "layout": "IPY_MODEL_de37f4a7a27c4ec4a5754a354d38c754"
      }
     },
     "b71c7691383e4570bd2e0b1fd0084141": {
      "model_module": "@jupyter-widgets/controls",
      "model_module_version": "1.5.0",
      "model_name": "ProgressStyleModel",
      "state": {
       "_model_module": "@jupyter-widgets/controls",
       "_model_module_version": "1.5.0",
       "_model_name": "ProgressStyleModel",
       "_view_count": null,
       "_view_module": "@jupyter-widgets/base",
       "_view_module_version": "1.2.0",
       "_view_name": "StyleView",
       "bar_color": null,
       "description_width": ""
      }
     },
     "b77c2363cda8471da9ea3747378be66b": {
      "model_module": "@jupyter-widgets/controls",
      "model_module_version": "1.5.0",
      "model_name": "HTMLModel",
      "state": {
       "_dom_classes": [],
       "_model_module": "@jupyter-widgets/controls",
       "_model_module_version": "1.5.0",
       "_model_name": "HTMLModel",
       "_view_count": null,
       "_view_module": "@jupyter-widgets/controls",
       "_view_module_version": "1.5.0",
       "_view_name": "HTMLView",
       "description": "",
       "description_tooltip": null,
       "layout": "IPY_MODEL_1b521a4c633445e18b21d3ab0efdbf05",
       "placeholder": "​",
       "style": "IPY_MODEL_48dde8e5a894460a8f14edce4d52b14b",
       "value": "Downloading: 100%"
      }
     },
     "ba5f8572c2ec47aaafddff317b233e05": {
      "model_module": "@jupyter-widgets/controls",
      "model_module_version": "1.5.0",
      "model_name": "DescriptionStyleModel",
      "state": {
       "_model_module": "@jupyter-widgets/controls",
       "_model_module_version": "1.5.0",
       "_model_name": "DescriptionStyleModel",
       "_view_count": null,
       "_view_module": "@jupyter-widgets/base",
       "_view_module_version": "1.2.0",
       "_view_name": "StyleView",
       "description_width": ""
      }
     },
     "bd18d5d913a342cbae335334b4eb1aa5": {
      "model_module": "@jupyter-widgets/controls",
      "model_module_version": "1.5.0",
      "model_name": "DescriptionStyleModel",
      "state": {
       "_model_module": "@jupyter-widgets/controls",
       "_model_module_version": "1.5.0",
       "_model_name": "DescriptionStyleModel",
       "_view_count": null,
       "_view_module": "@jupyter-widgets/base",
       "_view_module_version": "1.2.0",
       "_view_name": "StyleView",
       "description_width": ""
      }
     },
     "be9dea9865484573b9ec2d792268b70c": {
      "model_module": "@jupyter-widgets/base",
      "model_module_version": "1.2.0",
      "model_name": "LayoutModel",
      "state": {
       "_model_module": "@jupyter-widgets/base",
       "_model_module_version": "1.2.0",
       "_model_name": "LayoutModel",
       "_view_count": null,
       "_view_module": "@jupyter-widgets/base",
       "_view_module_version": "1.2.0",
       "_view_name": "LayoutView",
       "align_content": null,
       "align_items": null,
       "align_self": null,
       "border": null,
       "bottom": null,
       "display": null,
       "flex": null,
       "flex_flow": null,
       "grid_area": null,
       "grid_auto_columns": null,
       "grid_auto_flow": null,
       "grid_auto_rows": null,
       "grid_column": null,
       "grid_gap": null,
       "grid_row": null,
       "grid_template_areas": null,
       "grid_template_columns": null,
       "grid_template_rows": null,
       "height": null,
       "justify_content": null,
       "justify_items": null,
       "left": null,
       "margin": null,
       "max_height": null,
       "max_width": null,
       "min_height": null,
       "min_width": null,
       "object_fit": null,
       "object_position": null,
       "order": null,
       "overflow": null,
       "overflow_x": null,
       "overflow_y": null,
       "padding": null,
       "right": null,
       "top": null,
       "visibility": null,
       "width": null
      }
     },
     "c3564e1b60214f7981480b2b1785ff25": {
      "model_module": "@jupyter-widgets/controls",
      "model_module_version": "1.5.0",
      "model_name": "HTMLModel",
      "state": {
       "_dom_classes": [],
       "_model_module": "@jupyter-widgets/controls",
       "_model_module_version": "1.5.0",
       "_model_name": "HTMLModel",
       "_view_count": null,
       "_view_module": "@jupyter-widgets/controls",
       "_view_module_version": "1.5.0",
       "_view_name": "HTMLView",
       "description": "",
       "description_tooltip": null,
       "layout": "IPY_MODEL_9f91e2cb12b447a1a4f5f0fa4cb4db17",
       "placeholder": "​",
       "style": "IPY_MODEL_6aacbb0d09ad40b2b600f441ba1dba4d",
       "value": " 1/1 [00:02&lt;00:00,  2.50s/ba]"
      }
     },
     "cde089b5df404b5fae9471e8744d00ae": {
      "model_module": "@jupyter-widgets/controls",
      "model_module_version": "1.5.0",
      "model_name": "HTMLModel",
      "state": {
       "_dom_classes": [],
       "_model_module": "@jupyter-widgets/controls",
       "_model_module_version": "1.5.0",
       "_model_name": "HTMLModel",
       "_view_count": null,
       "_view_module": "@jupyter-widgets/controls",
       "_view_module_version": "1.5.0",
       "_view_name": "HTMLView",
       "description": "",
       "description_tooltip": null,
       "layout": "IPY_MODEL_ea1b3072c11642369c73664d64aaf5c4",
       "placeholder": "​",
       "style": "IPY_MODEL_3c90ffefc60b46979583251c99ce8a60",
       "value": "100%"
      }
     },
     "ce35f7a29d074dbe9db3184841a83368": {
      "model_module": "@jupyter-widgets/base",
      "model_module_version": "1.2.0",
      "model_name": "LayoutModel",
      "state": {
       "_model_module": "@jupyter-widgets/base",
       "_model_module_version": "1.2.0",
       "_model_name": "LayoutModel",
       "_view_count": null,
       "_view_module": "@jupyter-widgets/base",
       "_view_module_version": "1.2.0",
       "_view_name": "LayoutView",
       "align_content": null,
       "align_items": null,
       "align_self": null,
       "border": null,
       "bottom": null,
       "display": null,
       "flex": null,
       "flex_flow": null,
       "grid_area": null,
       "grid_auto_columns": null,
       "grid_auto_flow": null,
       "grid_auto_rows": null,
       "grid_column": null,
       "grid_gap": null,
       "grid_row": null,
       "grid_template_areas": null,
       "grid_template_columns": null,
       "grid_template_rows": null,
       "height": null,
       "justify_content": null,
       "justify_items": null,
       "left": null,
       "margin": null,
       "max_height": null,
       "max_width": null,
       "min_height": null,
       "min_width": null,
       "object_fit": null,
       "object_position": null,
       "order": null,
       "overflow": null,
       "overflow_x": null,
       "overflow_y": null,
       "padding": null,
       "right": null,
       "top": null,
       "visibility": null,
       "width": null
      }
     },
     "cf58108cb8cc4d9ab175438c14b3804c": {
      "model_module": "@jupyter-widgets/base",
      "model_module_version": "1.2.0",
      "model_name": "LayoutModel",
      "state": {
       "_model_module": "@jupyter-widgets/base",
       "_model_module_version": "1.2.0",
       "_model_name": "LayoutModel",
       "_view_count": null,
       "_view_module": "@jupyter-widgets/base",
       "_view_module_version": "1.2.0",
       "_view_name": "LayoutView",
       "align_content": null,
       "align_items": null,
       "align_self": null,
       "border": null,
       "bottom": null,
       "display": null,
       "flex": null,
       "flex_flow": null,
       "grid_area": null,
       "grid_auto_columns": null,
       "grid_auto_flow": null,
       "grid_auto_rows": null,
       "grid_column": null,
       "grid_gap": null,
       "grid_row": null,
       "grid_template_areas": null,
       "grid_template_columns": null,
       "grid_template_rows": null,
       "height": null,
       "justify_content": null,
       "justify_items": null,
       "left": null,
       "margin": null,
       "max_height": null,
       "max_width": null,
       "min_height": null,
       "min_width": null,
       "object_fit": null,
       "object_position": null,
       "order": null,
       "overflow": null,
       "overflow_x": null,
       "overflow_y": null,
       "padding": null,
       "right": null,
       "top": null,
       "visibility": null,
       "width": null
      }
     },
     "d0d86393a65541618c04b810f7f830c0": {
      "model_module": "@jupyter-widgets/controls",
      "model_module_version": "1.5.0",
      "model_name": "DescriptionStyleModel",
      "state": {
       "_model_module": "@jupyter-widgets/controls",
       "_model_module_version": "1.5.0",
       "_model_name": "DescriptionStyleModel",
       "_view_count": null,
       "_view_module": "@jupyter-widgets/base",
       "_view_module_version": "1.2.0",
       "_view_name": "StyleView",
       "description_width": ""
      }
     },
     "de37f4a7a27c4ec4a5754a354d38c754": {
      "model_module": "@jupyter-widgets/base",
      "model_module_version": "1.2.0",
      "model_name": "LayoutModel",
      "state": {
       "_model_module": "@jupyter-widgets/base",
       "_model_module_version": "1.2.0",
       "_model_name": "LayoutModel",
       "_view_count": null,
       "_view_module": "@jupyter-widgets/base",
       "_view_module_version": "1.2.0",
       "_view_name": "LayoutView",
       "align_content": null,
       "align_items": null,
       "align_self": null,
       "border": null,
       "bottom": null,
       "display": null,
       "flex": null,
       "flex_flow": null,
       "grid_area": null,
       "grid_auto_columns": null,
       "grid_auto_flow": null,
       "grid_auto_rows": null,
       "grid_column": null,
       "grid_gap": null,
       "grid_row": null,
       "grid_template_areas": null,
       "grid_template_columns": null,
       "grid_template_rows": null,
       "height": null,
       "justify_content": null,
       "justify_items": null,
       "left": null,
       "margin": null,
       "max_height": null,
       "max_width": null,
       "min_height": null,
       "min_width": null,
       "object_fit": null,
       "object_position": null,
       "order": null,
       "overflow": null,
       "overflow_x": null,
       "overflow_y": null,
       "padding": null,
       "right": null,
       "top": null,
       "visibility": null,
       "width": null
      }
     },
     "e262af86715c4f27961e6a81fb8f2ffb": {
      "model_module": "@jupyter-widgets/controls",
      "model_module_version": "1.5.0",
      "model_name": "ProgressStyleModel",
      "state": {
       "_model_module": "@jupyter-widgets/controls",
       "_model_module_version": "1.5.0",
       "_model_name": "ProgressStyleModel",
       "_view_count": null,
       "_view_module": "@jupyter-widgets/base",
       "_view_module_version": "1.2.0",
       "_view_name": "StyleView",
       "bar_color": null,
       "description_width": ""
      }
     },
     "e29b6d10f3de4df1b9959f4eb58415fc": {
      "model_module": "@jupyter-widgets/base",
      "model_module_version": "1.2.0",
      "model_name": "LayoutModel",
      "state": {
       "_model_module": "@jupyter-widgets/base",
       "_model_module_version": "1.2.0",
       "_model_name": "LayoutModel",
       "_view_count": null,
       "_view_module": "@jupyter-widgets/base",
       "_view_module_version": "1.2.0",
       "_view_name": "LayoutView",
       "align_content": null,
       "align_items": null,
       "align_self": null,
       "border": null,
       "bottom": null,
       "display": null,
       "flex": null,
       "flex_flow": null,
       "grid_area": null,
       "grid_auto_columns": null,
       "grid_auto_flow": null,
       "grid_auto_rows": null,
       "grid_column": null,
       "grid_gap": null,
       "grid_row": null,
       "grid_template_areas": null,
       "grid_template_columns": null,
       "grid_template_rows": null,
       "height": null,
       "justify_content": null,
       "justify_items": null,
       "left": null,
       "margin": null,
       "max_height": null,
       "max_width": null,
       "min_height": null,
       "min_width": null,
       "object_fit": null,
       "object_position": null,
       "order": null,
       "overflow": null,
       "overflow_x": null,
       "overflow_y": null,
       "padding": null,
       "right": null,
       "top": null,
       "visibility": null,
       "width": null
      }
     },
     "e55db3cc4203480eace96aa2c40c6ade": {
      "model_module": "@jupyter-widgets/controls",
      "model_module_version": "1.5.0",
      "model_name": "HBoxModel",
      "state": {
       "_dom_classes": [],
       "_model_module": "@jupyter-widgets/controls",
       "_model_module_version": "1.5.0",
       "_model_name": "HBoxModel",
       "_view_count": null,
       "_view_module": "@jupyter-widgets/controls",
       "_view_module_version": "1.5.0",
       "_view_name": "HBoxView",
       "box_style": "",
       "children": [
        "IPY_MODEL_f23d030cb6634d39ac258fa0a0d5b7e3",
        "IPY_MODEL_8a4be8651b3845b6b02456c7b28a2390",
        "IPY_MODEL_a68786f0adb2479f8f10f82561a44ae8"
       ],
       "layout": "IPY_MODEL_17837172a61d4cb39b686618ce7d1bf6"
      }
     },
     "e851817a5c384484b53dbcd805655544": {
      "model_module": "@jupyter-widgets/base",
      "model_module_version": "1.2.0",
      "model_name": "LayoutModel",
      "state": {
       "_model_module": "@jupyter-widgets/base",
       "_model_module_version": "1.2.0",
       "_model_name": "LayoutModel",
       "_view_count": null,
       "_view_module": "@jupyter-widgets/base",
       "_view_module_version": "1.2.0",
       "_view_name": "LayoutView",
       "align_content": null,
       "align_items": null,
       "align_self": null,
       "border": null,
       "bottom": null,
       "display": null,
       "flex": null,
       "flex_flow": null,
       "grid_area": null,
       "grid_auto_columns": null,
       "grid_auto_flow": null,
       "grid_auto_rows": null,
       "grid_column": null,
       "grid_gap": null,
       "grid_row": null,
       "grid_template_areas": null,
       "grid_template_columns": null,
       "grid_template_rows": null,
       "height": null,
       "justify_content": null,
       "justify_items": null,
       "left": null,
       "margin": null,
       "max_height": null,
       "max_width": null,
       "min_height": null,
       "min_width": null,
       "object_fit": null,
       "object_position": null,
       "order": null,
       "overflow": null,
       "overflow_x": null,
       "overflow_y": null,
       "padding": null,
       "right": null,
       "top": null,
       "visibility": null,
       "width": null
      }
     },
     "ea1b3072c11642369c73664d64aaf5c4": {
      "model_module": "@jupyter-widgets/base",
      "model_module_version": "1.2.0",
      "model_name": "LayoutModel",
      "state": {
       "_model_module": "@jupyter-widgets/base",
       "_model_module_version": "1.2.0",
       "_model_name": "LayoutModel",
       "_view_count": null,
       "_view_module": "@jupyter-widgets/base",
       "_view_module_version": "1.2.0",
       "_view_name": "LayoutView",
       "align_content": null,
       "align_items": null,
       "align_self": null,
       "border": null,
       "bottom": null,
       "display": null,
       "flex": null,
       "flex_flow": null,
       "grid_area": null,
       "grid_auto_columns": null,
       "grid_auto_flow": null,
       "grid_auto_rows": null,
       "grid_column": null,
       "grid_gap": null,
       "grid_row": null,
       "grid_template_areas": null,
       "grid_template_columns": null,
       "grid_template_rows": null,
       "height": null,
       "justify_content": null,
       "justify_items": null,
       "left": null,
       "margin": null,
       "max_height": null,
       "max_width": null,
       "min_height": null,
       "min_width": null,
       "object_fit": null,
       "object_position": null,
       "order": null,
       "overflow": null,
       "overflow_x": null,
       "overflow_y": null,
       "padding": null,
       "right": null,
       "top": null,
       "visibility": null,
       "width": null
      }
     },
     "ed207427e6b04b30bedcd05301d9d4f5": {
      "model_module": "@jupyter-widgets/controls",
      "model_module_version": "1.5.0",
      "model_name": "HBoxModel",
      "state": {
       "_dom_classes": [],
       "_model_module": "@jupyter-widgets/controls",
       "_model_module_version": "1.5.0",
       "_model_name": "HBoxModel",
       "_view_count": null,
       "_view_module": "@jupyter-widgets/controls",
       "_view_module_version": "1.5.0",
       "_view_name": "HBoxView",
       "box_style": "",
       "children": [
        "IPY_MODEL_b77c2363cda8471da9ea3747378be66b",
        "IPY_MODEL_166014370f6e480ea67190e40e50673e",
        "IPY_MODEL_833f7d6cc5de4998a00cf0e4e514fee2"
       ],
       "layout": "IPY_MODEL_907c30ef4e3d4a25bb69614738a26136"
      }
     },
     "ed84c9223af6402581c34358ced222bc": {
      "model_module": "@jupyter-widgets/controls",
      "model_module_version": "1.5.0",
      "model_name": "ProgressStyleModel",
      "state": {
       "_model_module": "@jupyter-widgets/controls",
       "_model_module_version": "1.5.0",
       "_model_name": "ProgressStyleModel",
       "_view_count": null,
       "_view_module": "@jupyter-widgets/base",
       "_view_module_version": "1.2.0",
       "_view_name": "StyleView",
       "bar_color": null,
       "description_width": ""
      }
     },
     "ef8e70f3270748c99eee6406832ae037": {
      "model_module": "@jupyter-widgets/base",
      "model_module_version": "1.2.0",
      "model_name": "LayoutModel",
      "state": {
       "_model_module": "@jupyter-widgets/base",
       "_model_module_version": "1.2.0",
       "_model_name": "LayoutModel",
       "_view_count": null,
       "_view_module": "@jupyter-widgets/base",
       "_view_module_version": "1.2.0",
       "_view_name": "LayoutView",
       "align_content": null,
       "align_items": null,
       "align_self": null,
       "border": null,
       "bottom": null,
       "display": null,
       "flex": null,
       "flex_flow": null,
       "grid_area": null,
       "grid_auto_columns": null,
       "grid_auto_flow": null,
       "grid_auto_rows": null,
       "grid_column": null,
       "grid_gap": null,
       "grid_row": null,
       "grid_template_areas": null,
       "grid_template_columns": null,
       "grid_template_rows": null,
       "height": null,
       "justify_content": null,
       "justify_items": null,
       "left": null,
       "margin": null,
       "max_height": null,
       "max_width": null,
       "min_height": null,
       "min_width": null,
       "object_fit": null,
       "object_position": null,
       "order": null,
       "overflow": null,
       "overflow_x": null,
       "overflow_y": null,
       "padding": null,
       "right": null,
       "top": null,
       "visibility": null,
       "width": null
      }
     },
     "f209bef6155f48ca82a6498b982d3c8b": {
      "model_module": "@jupyter-widgets/controls",
      "model_module_version": "1.5.0",
      "model_name": "DescriptionStyleModel",
      "state": {
       "_model_module": "@jupyter-widgets/controls",
       "_model_module_version": "1.5.0",
       "_model_name": "DescriptionStyleModel",
       "_view_count": null,
       "_view_module": "@jupyter-widgets/base",
       "_view_module_version": "1.2.0",
       "_view_name": "StyleView",
       "description_width": ""
      }
     },
     "f23d030cb6634d39ac258fa0a0d5b7e3": {
      "model_module": "@jupyter-widgets/controls",
      "model_module_version": "1.5.0",
      "model_name": "HTMLModel",
      "state": {
       "_dom_classes": [],
       "_model_module": "@jupyter-widgets/controls",
       "_model_module_version": "1.5.0",
       "_model_name": "HTMLModel",
       "_view_count": null,
       "_view_module": "@jupyter-widgets/controls",
       "_view_module_version": "1.5.0",
       "_view_name": "HTMLView",
       "description": "",
       "description_tooltip": null,
       "layout": "IPY_MODEL_6727838029734b90bb68e03ff0bc89d6",
       "placeholder": "​",
       "style": "IPY_MODEL_ba5f8572c2ec47aaafddff317b233e05",
       "value": "100%"
      }
     },
     "f5c011a78a084a689ba60c99712449eb": {
      "model_module": "@jupyter-widgets/base",
      "model_module_version": "1.2.0",
      "model_name": "LayoutModel",
      "state": {
       "_model_module": "@jupyter-widgets/base",
       "_model_module_version": "1.2.0",
       "_model_name": "LayoutModel",
       "_view_count": null,
       "_view_module": "@jupyter-widgets/base",
       "_view_module_version": "1.2.0",
       "_view_name": "LayoutView",
       "align_content": null,
       "align_items": null,
       "align_self": null,
       "border": null,
       "bottom": null,
       "display": null,
       "flex": null,
       "flex_flow": null,
       "grid_area": null,
       "grid_auto_columns": null,
       "grid_auto_flow": null,
       "grid_auto_rows": null,
       "grid_column": null,
       "grid_gap": null,
       "grid_row": null,
       "grid_template_areas": null,
       "grid_template_columns": null,
       "grid_template_rows": null,
       "height": null,
       "justify_content": null,
       "justify_items": null,
       "left": null,
       "margin": null,
       "max_height": null,
       "max_width": null,
       "min_height": null,
       "min_width": null,
       "object_fit": null,
       "object_position": null,
       "order": null,
       "overflow": null,
       "overflow_x": null,
       "overflow_y": null,
       "padding": null,
       "right": null,
       "top": null,
       "visibility": null,
       "width": null
      }
     }
    },
    "version_major": 2,
    "version_minor": 0
   }
  }
 },
 "nbformat": 4,
 "nbformat_minor": 5
}
