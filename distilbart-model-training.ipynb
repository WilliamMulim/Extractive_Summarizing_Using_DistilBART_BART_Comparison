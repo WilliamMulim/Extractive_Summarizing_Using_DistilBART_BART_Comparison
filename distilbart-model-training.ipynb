{
 "cells": [
  {
   "cell_type": "code",
   "execution_count": 1,
   "id": "ace67200",
   "metadata": {
    "execution": {
     "iopub.execute_input": "2022-01-30T05:24:37.488064Z",
     "iopub.status.busy": "2022-01-30T05:24:37.486588Z",
     "iopub.status.idle": "2022-01-30T05:24:37.494886Z",
     "shell.execute_reply": "2022-01-30T05:24:37.495334Z"
    },
    "papermill": {
     "duration": 0.033865,
     "end_time": "2022-01-30T05:24:37.495539",
     "exception": false,
     "start_time": "2022-01-30T05:24:37.461674",
     "status": "completed"
    },
    "tags": []
   },
   "outputs": [],
   "source": [
    "import numpy as np\n",
    "import pandas as pd"
   ]
  },
  {
   "cell_type": "code",
   "execution_count": 2,
   "id": "626666f7",
   "metadata": {
    "execution": {
     "iopub.execute_input": "2022-01-30T05:24:37.541608Z",
     "iopub.status.busy": "2022-01-30T05:24:37.541080Z",
     "iopub.status.idle": "2022-01-30T05:25:04.946265Z",
     "shell.execute_reply": "2022-01-30T05:25:04.946876Z",
     "shell.execute_reply.started": "2022-01-24T17:31:19.322143Z"
    },
    "papermill": {
     "duration": 27.429295,
     "end_time": "2022-01-30T05:25:04.947086",
     "exception": false,
     "start_time": "2022-01-30T05:24:37.517791",
     "status": "completed"
    },
    "tags": []
   },
   "outputs": [],
   "source": [
    "train_data = pd.read_csv('../input/newspaper-text-summarization-cnn-dailymail/cnn_dailymail/train.csv')\n",
    "validation_data = pd.read_csv('../input/newspaper-text-summarization-cnn-dailymail/cnn_dailymail/validation.csv')"
   ]
  },
  {
   "cell_type": "code",
   "execution_count": 3,
   "id": "eb5d56da",
   "metadata": {
    "execution": {
     "iopub.execute_input": "2022-01-30T05:25:04.992410Z",
     "iopub.status.busy": "2022-01-30T05:25:04.991708Z",
     "iopub.status.idle": "2022-01-30T05:25:05.005559Z",
     "shell.execute_reply": "2022-01-30T05:25:05.006189Z",
     "shell.execute_reply.started": "2022-01-24T17:31:46.45121Z"
    },
    "papermill": {
     "duration": 0.039084,
     "end_time": "2022-01-30T05:25:05.006386",
     "exception": false,
     "start_time": "2022-01-30T05:25:04.967302",
     "status": "completed"
    },
    "tags": []
   },
   "outputs": [
    {
     "name": "stdout",
     "output_type": "stream",
     "text": [
      "<bound method DataFrame.info of                                               id  \\\n",
      "0       0001d1afc246a7964130f43ae940af6bc6c57f01   \n",
      "1       0002095e55fcbd3a2f366d9bf92a95433dc305ef   \n",
      "2       00027e965c8264c35cc1bc55556db388da82b07f   \n",
      "3       0002c17436637c4fe1837c935c04de47adb18e9a   \n",
      "4       0003ad6ef0c37534f80b55b4235108024b407f0b   \n",
      "...                                          ...   \n",
      "287108  fffdfb56fdf1a12d364562cc2b9b1d4de7481dee   \n",
      "287109  fffeecb8690b85de8c3faed80adbc7a978f9ae2a   \n",
      "287110  ffff5231e4c71544bc6c97015cdb16c60e42b3f4   \n",
      "287111  ffff924b14a8d82058b6c1c5368ff1113c1632af   \n",
      "287112  ffffd563a96104f5cf4493cfa701a65f31b06abf   \n",
      "\n",
      "                                                  article  \\\n",
      "0       By . Associated Press . PUBLISHED: . 14:11 EST...   \n",
      "1       (CNN) -- Ralph Mata was an internal affairs li...   \n",
      "2       A drunk driver who killed a young woman in a h...   \n",
      "3       (CNN) -- With a breezy sweep of his pen Presid...   \n",
      "4       Fleetwood are the only team still to have a 10...   \n",
      "...                                                   ...   \n",
      "287108  By . James Rush . Former first daughter Chelse...   \n",
      "287109  An apologetic Vanilla Ice has given his first ...   \n",
      "287110  America's most lethal sniper claimed he wished...   \n",
      "287111  By . Sara Malm . PUBLISHED: . 12:19 EST, 8 Mar...   \n",
      "287112  (CNN)Former Florida Gov. Jeb Bush has decided ...   \n",
      "\n",
      "                                               highlights  \n",
      "0       Bishop John Folda, of North Dakota, is taking ...  \n",
      "1       Criminal complaint: Cop used his role to help ...  \n",
      "2       Craig Eccleston-Todd, 27, had drunk at least t...  \n",
      "3       Nina dos Santos says Europe must be ready to a...  \n",
      "4       Fleetwood top of League One after 2-0 win at S...  \n",
      "...                                                   ...  \n",
      "287108  Chelsea Clinton said question of running for o...  \n",
      "287109  Vanilla Ice, 47 - real name Robert Van Winkle ...  \n",
      "287110  America's most lethal sniper made comment in i...  \n",
      "287111  A swarm of more than one million has crossed b...  \n",
      "287112  Other 2016 hopefuls maintain that Bush's annou...  \n",
      "\n",
      "[287113 rows x 3 columns]>\n",
      "<bound method DataFrame.info of                                              id  \\\n",
      "0      61df4979ac5fcc2b71be46ed6fe5a46ce7f071c3   \n",
      "1      21c0bd69b7e7df285c3d1b1cf56d4da925980a68   \n",
      "2      56f340189cd128194b2e7cb8c26bb900e3a848b4   \n",
      "3      00a665151b89a53e5a08a389df8334f4106494c2   \n",
      "4      9f6fbd3c497c4d28879bebebea220884f03eb41a   \n",
      "...                                         ...   \n",
      "13363  e93f721ba4949f21f33549c4a21d55ff456af979   \n",
      "13364  8df19a570ad14119a7d00f3bbe864fedf8c1691d   \n",
      "13365  2fdd5f89aa26e91ceea9b0ef264abfcfc3e6fa2e   \n",
      "13366  530d7b18d7a715b368b0745f9dfebfe353adeda8   \n",
      "13367  42d6f6e10a45ff469fbe3ef7345838aa45dcdd61   \n",
      "\n",
      "                                                 article  \\\n",
      "0      Sally Forrest, an actress-dancer who graced th...   \n",
      "1      A middle-school teacher in China has inked hun...   \n",
      "2      A man convicted of killing the father and sist...   \n",
      "3      Avid rugby fan Prince Harry could barely watch...   \n",
      "4      A Triple M Radio producer has been inundated w...   \n",
      "...                                                  ...   \n",
      "13363  All shops will be allowed to offer ‘click and ...   \n",
      "13364  Mo Farah has had his nationality called into q...   \n",
      "13365  Wolves kept their promotion hopes alive with a...   \n",
      "13366  A Brown University graduate student  has died ...   \n",
      "13367  As thousands of young Australians look to buy ...   \n",
      "\n",
      "                                              highlights  \n",
      "0      Sally Forrest, an actress-dancer who graced th...  \n",
      "1      Works include pictures of Presidential Palace ...  \n",
      "2      Iftekhar Murtaza, 29, was convicted a year ago...  \n",
      "3      Prince Harry in attendance for England's crunc...  \n",
      "4      Nick Slater's colleagues uploaded a picture to...  \n",
      "...                                                  ...  \n",
      "13363  Shops won't have to apply for planning permiss...  \n",
      "13364  Mo Farah broke the European half-marathon reco...  \n",
      "13365  Wolves are three points off the play-off place...  \n",
      "13366  Hyoun Ju Sohn, a 25-year-old doctoral student,...  \n",
      "13367  60% of estate agents believe owning a home is ...  \n",
      "\n",
      "[13368 rows x 3 columns]>\n"
     ]
    }
   ],
   "source": [
    "print(train_data.info)\n",
    "print(validation_data.info)"
   ]
  },
  {
   "cell_type": "markdown",
   "id": "8d8ef88d",
   "metadata": {
    "execution": {
     "iopub.execute_input": "2021-10-16T09:35:58.065301Z",
     "iopub.status.busy": "2021-10-16T09:35:58.064848Z",
     "iopub.status.idle": "2021-10-16T09:35:58.101141Z",
     "shell.execute_reply": "2021-10-16T09:35:58.100409Z",
     "shell.execute_reply.started": "2021-10-16T09:35:58.065268Z"
    },
    "papermill": {
     "duration": 0.02014,
     "end_time": "2022-01-30T05:25:05.048491",
     "exception": false,
     "start_time": "2022-01-30T05:25:05.028351",
     "status": "completed"
    },
    "tags": []
   },
   "source": [
    "No preprocessing was done to the article and highlights itself as news can lose some of its original message when all the letter is in lowercase"
   ]
  },
  {
   "cell_type": "markdown",
   "id": "b7e4f778",
   "metadata": {
    "papermill": {
     "duration": 0.020599,
     "end_time": "2022-01-30T05:25:05.089475",
     "exception": false,
     "start_time": "2022-01-30T05:25:05.068876",
     "status": "completed"
    },
    "tags": []
   },
   "source": [
    "take only 20.000 rows from training dataset and 900 rows from validation and testing dataset due to computation limitation,"
   ]
  },
  {
   "cell_type": "code",
   "execution_count": 4,
   "id": "d5099618",
   "metadata": {
    "execution": {
     "iopub.execute_input": "2022-01-30T05:25:05.135871Z",
     "iopub.status.busy": "2022-01-30T05:25:05.135379Z",
     "iopub.status.idle": "2022-01-30T05:25:05.379548Z",
     "shell.execute_reply": "2022-01-30T05:25:05.379080Z",
     "shell.execute_reply.started": "2022-01-28T12:54:16.184048Z"
    },
    "papermill": {
     "duration": 0.269633,
     "end_time": "2022-01-30T05:25:05.379674",
     "exception": false,
     "start_time": "2022-01-30T05:25:05.110041",
     "status": "completed"
    },
    "tags": []
   },
   "outputs": [],
   "source": [
    "train_data = train_data.sample(n=20000, random_state=123)\n",
    "train_data = train_data.reset_index()\n",
    "validation_data = validation_data.sample(n=900, random_state=312)\n",
    "validation_data = validation_data.reset_index()"
   ]
  },
  {
   "cell_type": "code",
   "execution_count": 5,
   "id": "5c4945ab",
   "metadata": {
    "execution": {
     "iopub.execute_input": "2022-01-30T05:25:05.430490Z",
     "iopub.status.busy": "2022-01-30T05:25:05.429653Z",
     "iopub.status.idle": "2022-01-30T05:25:05.437636Z",
     "shell.execute_reply": "2022-01-30T05:25:05.438157Z",
     "shell.execute_reply.started": "2022-01-24T17:31:46.75024Z"
    },
    "papermill": {
     "duration": 0.037688,
     "end_time": "2022-01-30T05:25:05.438280",
     "exception": false,
     "start_time": "2022-01-30T05:25:05.400592",
     "status": "completed"
    },
    "tags": []
   },
   "outputs": [
    {
     "data": {
      "text/html": [
       "<div>\n",
       "<style scoped>\n",
       "    .dataframe tbody tr th:only-of-type {\n",
       "        vertical-align: middle;\n",
       "    }\n",
       "\n",
       "    .dataframe tbody tr th {\n",
       "        vertical-align: top;\n",
       "    }\n",
       "\n",
       "    .dataframe thead th {\n",
       "        text-align: right;\n",
       "    }\n",
       "</style>\n",
       "<table border=\"1\" class=\"dataframe\">\n",
       "  <thead>\n",
       "    <tr style=\"text-align: right;\">\n",
       "      <th></th>\n",
       "      <th>index</th>\n",
       "      <th>id</th>\n",
       "      <th>article</th>\n",
       "      <th>highlights</th>\n",
       "    </tr>\n",
       "  </thead>\n",
       "  <tbody>\n",
       "    <tr>\n",
       "      <th>0</th>\n",
       "      <td>252682</td>\n",
       "      <td>d303b222282ba8870fe997c030f8582ef8809ab8</td>\n",
       "      <td>A group of Brazilian convicts who tunnelled out of jail to freedom filmed the whole escape on a mobile phone ... before posting the videos online to taunt their hoodwinked guards. In a daring breakout that echoed 1994 Hollywood blockbuster The Shawshank Redemption, 13 prisoners dug a small hole under the wall between their cell and the prison yard in Rio Verde, Goias State, before darting to freedom under cover of darkness. But unlike the famous movie, starring Tim Robbins and Morgan Freeman, which is set in the 1940s, their escape had very modern twist. Rather than focus purely on getting out of jail without detection, they felt compelled to record the whole experience on a mobile phone and post it on the internet for all to see. Scroll down for video . Brazen: The thirteen prisoners filmed their escape on mobile phones, laughing as they did so, before later posting the video online . Like a movie: In a daring breakout that echoed 1994 Hollywood blockbuster The Shawshank Redemption, the prisoners dug a small hole under the wall that separated their cell and the prison yard in Rio Verde, Goias State, before darting to freedom under cover of darkness . Police deputy Jacqueline Camargo Machado admitted that the prisoners' cells had not been inspected for two months, blaming staff shortages. She said: 'The guard that was there on the day was looking after other things most of the time. 'We now know that there had not been an inspection of the cell for almost 60 days. They were able to dig a tunnel and it was easy to escape after that.' Ezequias Gonçalves Miranda and William Pereira Da Mata were two of the crooks that tunnelled out of jail to freedom. It is unclear if they appeared in the video . More than Freeman: It was a daring breakout that echoed 1994 Hollywood blockbuster The Shawshank Redemption, starring Morgan Freeman (left) and Tim Robbins (right) - but with a very modern twist . The prison guard on duty has been suspended for not managing to foil the secret plot. A manhunt has been launched resulting in the capture of two men. The other 11 remain at large. It is not the first escape from Brazilian jail. A year ago 54 prisoners staged a mass escape after a riot at the Fundação Casa youth detentionfacility in Sao Paulo, which houses more than 100 detainees. Dozens of the under-age offenders set fire to their mattresses, sparking a blaze in the prison's central yard.  Helicopter images showed plumes of smoke rising from the detention centre. Video footage also showed prisoners climbing over the prison walls and escaping down trees. Nearly 30 staff members were held hostage during the riot and the facility's director was admitted to hospital with cuts to his head and bruised ribs.</td>\n",
       "      <td>13 prisoners escaped from Rio Grande prison after digging hole under wall .\\nThe escape had shades of 1994 blockbuster The Shawshank Redemption .\\nBut in a modern twist, they filmed escape on smuggled mobile phones .\\nThey then posted the video online which showed them goading guards .</td>\n",
       "    </tr>\n",
       "  </tbody>\n",
       "</table>\n",
       "</div>"
      ],
      "text/plain": [
       "    index                                        id  \\\n",
       "0  252682  d303b222282ba8870fe997c030f8582ef8809ab8   \n",
       "\n",
       "                                                                                                                                                                                                                                                                                                                                                                                                                                                                                                                                                                                                                                                                                                                                                                                                                                                                                                                                                                                                                                                                                                                                                                                                                                                                                                                                                                                                                                                                                                                                                                                                                                                                                                                                                                                                                                                                                                                                                                                                                                                                                                                                                                                                                                                                                                                                                                                                                                                                                                                                                                                                                                                                                                                                                                                                                                        article  \\\n",
       "0  A group of Brazilian convicts who tunnelled out of jail to freedom filmed the whole escape on a mobile phone ... before posting the videos online to taunt their hoodwinked guards. In a daring breakout that echoed 1994 Hollywood blockbuster The Shawshank Redemption, 13 prisoners dug a small hole under the wall between their cell and the prison yard in Rio Verde, Goias State, before darting to freedom under cover of darkness. But unlike the famous movie, starring Tim Robbins and Morgan Freeman, which is set in the 1940s, their escape had very modern twist. Rather than focus purely on getting out of jail without detection, they felt compelled to record the whole experience on a mobile phone and post it on the internet for all to see. Scroll down for video . Brazen: The thirteen prisoners filmed their escape on mobile phones, laughing as they did so, before later posting the video online . Like a movie: In a daring breakout that echoed 1994 Hollywood blockbuster The Shawshank Redemption, the prisoners dug a small hole under the wall that separated their cell and the prison yard in Rio Verde, Goias State, before darting to freedom under cover of darkness . Police deputy Jacqueline Camargo Machado admitted that the prisoners' cells had not been inspected for two months, blaming staff shortages. She said: 'The guard that was there on the day was looking after other things most of the time. 'We now know that there had not been an inspection of the cell for almost 60 days. They were able to dig a tunnel and it was easy to escape after that.' Ezequias Gonçalves Miranda and William Pereira Da Mata were two of the crooks that tunnelled out of jail to freedom. It is unclear if they appeared in the video . More than Freeman: It was a daring breakout that echoed 1994 Hollywood blockbuster The Shawshank Redemption, starring Morgan Freeman (left) and Tim Robbins (right) - but with a very modern twist . The prison guard on duty has been suspended for not managing to foil the secret plot. A manhunt has been launched resulting in the capture of two men. The other 11 remain at large. It is not the first escape from Brazilian jail. A year ago 54 prisoners staged a mass escape after a riot at the Fundação Casa youth detentionfacility in Sao Paulo, which houses more than 100 detainees. Dozens of the under-age offenders set fire to their mattresses, sparking a blaze in the prison's central yard.  Helicopter images showed plumes of smoke rising from the detention centre. Video footage also showed prisoners climbing over the prison walls and escaping down trees. Nearly 30 staff members were held hostage during the riot and the facility's director was admitted to hospital with cuts to his head and bruised ribs.   \n",
       "\n",
       "                                                                                                                                                                                                                                                                                       highlights  \n",
       "0  13 prisoners escaped from Rio Grande prison after digging hole under wall .\\nThe escape had shades of 1994 blockbuster The Shawshank Redemption .\\nBut in a modern twist, they filmed escape on smuggled mobile phones .\\nThey then posted the video online which showed them goading guards .  "
      ]
     },
     "execution_count": 5,
     "metadata": {},
     "output_type": "execute_result"
    }
   ],
   "source": [
    "pd.set_option('display.max_colwidth',None)\n",
    "train_data.head(1)"
   ]
  },
  {
   "cell_type": "code",
   "execution_count": 6,
   "id": "9dc07a85",
   "metadata": {
    "execution": {
     "iopub.execute_input": "2022-01-30T05:25:05.488263Z",
     "iopub.status.busy": "2022-01-30T05:25:05.487507Z",
     "iopub.status.idle": "2022-01-30T05:25:34.409785Z",
     "shell.execute_reply": "2022-01-30T05:25:34.410285Z",
     "shell.execute_reply.started": "2022-01-24T17:31:46.768309Z"
    },
    "papermill": {
     "duration": 28.949236,
     "end_time": "2022-01-30T05:25:34.410448",
     "exception": false,
     "start_time": "2022-01-30T05:25:05.461212",
     "status": "completed"
    },
    "tags": []
   },
   "outputs": [
    {
     "name": "stdout",
     "output_type": "stream",
     "text": [
      "\u001b[33mWARNING: Running pip as the 'root' user can result in broken permissions and conflicting behaviour with the system package manager. It is recommended to use a virtual environment instead: https://pip.pypa.io/warnings/venv\u001b[0m\r\n",
      "Collecting spacy-transformers\r\n",
      "  Downloading spacy_transformers-1.1.4-py2.py3-none-any.whl (51 kB)\r\n",
      "     |████████████████████████████████| 51 kB 78 kB/s             \r\n",
      "\u001b[?25hCollecting spacy-alignments<1.0.0,>=0.7.2\r\n",
      "  Downloading spacy_alignments-0.8.4-cp37-cp37m-manylinux_2_17_x86_64.manylinux2014_x86_64.whl (1.1 MB)\r\n",
      "     |████████████████████████████████| 1.1 MB 513 kB/s            \r\n",
      "\u001b[?25hRequirement already satisfied: transformers<4.16.0,>=3.4.0 in /opt/conda/lib/python3.7/site-packages (from spacy-transformers) (4.12.5)\r\n",
      "Requirement already satisfied: spacy<4.0.0,>=3.1.3 in /opt/conda/lib/python3.7/site-packages (from spacy-transformers) (3.1.4)\r\n",
      "Requirement already satisfied: srsly<3.0.0,>=2.4.0 in /opt/conda/lib/python3.7/site-packages (from spacy-transformers) (2.4.2)\r\n",
      "Requirement already satisfied: torch>=1.6.0 in /opt/conda/lib/python3.7/site-packages (from spacy-transformers) (1.9.1)\r\n",
      "Requirement already satisfied: spacy-legacy<3.1.0,>=3.0.8 in /opt/conda/lib/python3.7/site-packages (from spacy<4.0.0,>=3.1.3->spacy-transformers) (3.0.8)\r\n",
      "Requirement already satisfied: packaging>=20.0 in /opt/conda/lib/python3.7/site-packages (from spacy<4.0.0,>=3.1.3->spacy-transformers) (21.3)\r\n",
      "Requirement already satisfied: jinja2 in /opt/conda/lib/python3.7/site-packages (from spacy<4.0.0,>=3.1.3->spacy-transformers) (3.0.3)\r\n",
      "Requirement already satisfied: pydantic!=1.8,!=1.8.1,<1.9.0,>=1.7.4 in /opt/conda/lib/python3.7/site-packages (from spacy<4.0.0,>=3.1.3->spacy-transformers) (1.8.2)\r\n",
      "Requirement already satisfied: setuptools in /opt/conda/lib/python3.7/site-packages (from spacy<4.0.0,>=3.1.3->spacy-transformers) (59.4.0)\r\n",
      "Requirement already satisfied: blis<0.8.0,>=0.4.0 in /opt/conda/lib/python3.7/site-packages (from spacy<4.0.0,>=3.1.3->spacy-transformers) (0.7.5)\r\n",
      "Requirement already satisfied: typer<0.5.0,>=0.3.0 in /opt/conda/lib/python3.7/site-packages (from spacy<4.0.0,>=3.1.3->spacy-transformers) (0.4.0)\r\n",
      "Requirement already satisfied: cymem<2.1.0,>=2.0.2 in /opt/conda/lib/python3.7/site-packages (from spacy<4.0.0,>=3.1.3->spacy-transformers) (2.0.6)\r\n",
      "Requirement already satisfied: murmurhash<1.1.0,>=0.28.0 in /opt/conda/lib/python3.7/site-packages (from spacy<4.0.0,>=3.1.3->spacy-transformers) (1.0.6)\r\n",
      "Requirement already satisfied: thinc<8.1.0,>=8.0.12 in /opt/conda/lib/python3.7/site-packages (from spacy<4.0.0,>=3.1.3->spacy-transformers) (8.0.13)\r\n",
      "Requirement already satisfied: catalogue<2.1.0,>=2.0.6 in /opt/conda/lib/python3.7/site-packages (from spacy<4.0.0,>=3.1.3->spacy-transformers) (2.0.6)\r\n",
      "Requirement already satisfied: wasabi<1.1.0,>=0.8.1 in /opt/conda/lib/python3.7/site-packages (from spacy<4.0.0,>=3.1.3->spacy-transformers) (0.9.0)\r\n",
      "Requirement already satisfied: typing-extensions<4.0.0.0,>=3.7.4 in /opt/conda/lib/python3.7/site-packages (from spacy<4.0.0,>=3.1.3->spacy-transformers) (3.10.0.2)\r\n",
      "Requirement already satisfied: numpy>=1.15.0 in /opt/conda/lib/python3.7/site-packages (from spacy<4.0.0,>=3.1.3->spacy-transformers) (1.19.5)\r\n",
      "Requirement already satisfied: pathy>=0.3.5 in /opt/conda/lib/python3.7/site-packages (from spacy<4.0.0,>=3.1.3->spacy-transformers) (0.6.1)\r\n",
      "Requirement already satisfied: tqdm<5.0.0,>=4.38.0 in /opt/conda/lib/python3.7/site-packages (from spacy<4.0.0,>=3.1.3->spacy-transformers) (4.62.3)\r\n",
      "Requirement already satisfied: preshed<3.1.0,>=3.0.2 in /opt/conda/lib/python3.7/site-packages (from spacy<4.0.0,>=3.1.3->spacy-transformers) (3.0.6)\r\n",
      "Requirement already satisfied: requests<3.0.0,>=2.13.0 in /opt/conda/lib/python3.7/site-packages (from spacy<4.0.0,>=3.1.3->spacy-transformers) (2.26.0)\r\n",
      "Requirement already satisfied: filelock in /opt/conda/lib/python3.7/site-packages (from transformers<4.16.0,>=3.4.0->spacy-transformers) (3.3.2)\r\n",
      "Requirement already satisfied: regex!=2019.12.17 in /opt/conda/lib/python3.7/site-packages (from transformers<4.16.0,>=3.4.0->spacy-transformers) (2021.11.10)\r\n",
      "Requirement already satisfied: importlib-metadata in /opt/conda/lib/python3.7/site-packages (from transformers<4.16.0,>=3.4.0->spacy-transformers) (4.10.0)\r\n",
      "Requirement already satisfied: huggingface-hub<1.0,>=0.1.0 in /opt/conda/lib/python3.7/site-packages (from transformers<4.16.0,>=3.4.0->spacy-transformers) (0.1.2)\r\n",
      "Requirement already satisfied: sacremoses in /opt/conda/lib/python3.7/site-packages (from transformers<4.16.0,>=3.4.0->spacy-transformers) (0.0.46)\r\n",
      "Requirement already satisfied: tokenizers<0.11,>=0.10.1 in /opt/conda/lib/python3.7/site-packages (from transformers<4.16.0,>=3.4.0->spacy-transformers) (0.10.3)\r\n",
      "Requirement already satisfied: pyyaml>=5.1 in /opt/conda/lib/python3.7/site-packages (from transformers<4.16.0,>=3.4.0->spacy-transformers) (6.0)\r\n",
      "Requirement already satisfied: zipp>=0.5 in /opt/conda/lib/python3.7/site-packages (from catalogue<2.1.0,>=2.0.6->spacy<4.0.0,>=3.1.3->spacy-transformers) (3.6.0)\r\n",
      "Requirement already satisfied: pyparsing!=3.0.5,>=2.0.2 in /opt/conda/lib/python3.7/site-packages (from packaging>=20.0->spacy<4.0.0,>=3.1.3->spacy-transformers) (3.0.6)\r\n",
      "Requirement already satisfied: smart-open<6.0.0,>=5.0.0 in /opt/conda/lib/python3.7/site-packages (from pathy>=0.3.5->spacy<4.0.0,>=3.1.3->spacy-transformers) (5.2.1)\r\n",
      "Requirement already satisfied: idna<4,>=2.5 in /opt/conda/lib/python3.7/site-packages (from requests<3.0.0,>=2.13.0->spacy<4.0.0,>=3.1.3->spacy-transformers) (3.1)\r\n",
      "Requirement already satisfied: certifi>=2017.4.17 in /opt/conda/lib/python3.7/site-packages (from requests<3.0.0,>=2.13.0->spacy<4.0.0,>=3.1.3->spacy-transformers) (2021.10.8)\r\n",
      "Requirement already satisfied: charset-normalizer~=2.0.0 in /opt/conda/lib/python3.7/site-packages (from requests<3.0.0,>=2.13.0->spacy<4.0.0,>=3.1.3->spacy-transformers) (2.0.8)\r\n",
      "Requirement already satisfied: urllib3<1.27,>=1.21.1 in /opt/conda/lib/python3.7/site-packages (from requests<3.0.0,>=2.13.0->spacy<4.0.0,>=3.1.3->spacy-transformers) (1.26.7)\r\n",
      "Requirement already satisfied: click<9.0.0,>=7.1.1 in /opt/conda/lib/python3.7/site-packages (from typer<0.5.0,>=0.3.0->spacy<4.0.0,>=3.1.3->spacy-transformers) (8.0.3)\r\n",
      "Requirement already satisfied: MarkupSafe>=2.0 in /opt/conda/lib/python3.7/site-packages (from jinja2->spacy<4.0.0,>=3.1.3->spacy-transformers) (2.0.1)\r\n",
      "Requirement already satisfied: six in /opt/conda/lib/python3.7/site-packages (from sacremoses->transformers<4.16.0,>=3.4.0->spacy-transformers) (1.16.0)\r\n",
      "Requirement already satisfied: joblib in /opt/conda/lib/python3.7/site-packages (from sacremoses->transformers<4.16.0,>=3.4.0->spacy-transformers) (1.1.0)\r\n",
      "Installing collected packages: spacy-alignments, spacy-transformers\r\n",
      "Successfully installed spacy-alignments-0.8.4 spacy-transformers-1.1.4\r\n",
      "\u001b[33mWARNING: Running pip as the 'root' user can result in broken permissions and conflicting behaviour with the system package manager. It is recommended to use a virtual environment instead: https://pip.pypa.io/warnings/venv\u001b[0m\r\n",
      "Requirement already satisfied: spacy in /opt/conda/lib/python3.7/site-packages (3.1.4)\r\n",
      "Requirement already satisfied: thinc<8.1.0,>=8.0.12 in /opt/conda/lib/python3.7/site-packages (from spacy) (8.0.13)\r\n",
      "Requirement already satisfied: spacy-legacy<3.1.0,>=3.0.8 in /opt/conda/lib/python3.7/site-packages (from spacy) (3.0.8)\r\n",
      "Requirement already satisfied: catalogue<2.1.0,>=2.0.6 in /opt/conda/lib/python3.7/site-packages (from spacy) (2.0.6)\r\n",
      "Requirement already satisfied: tqdm<5.0.0,>=4.38.0 in /opt/conda/lib/python3.7/site-packages (from spacy) (4.62.3)\r\n",
      "Requirement already satisfied: typer<0.5.0,>=0.3.0 in /opt/conda/lib/python3.7/site-packages (from spacy) (0.4.0)\r\n",
      "Requirement already satisfied: murmurhash<1.1.0,>=0.28.0 in /opt/conda/lib/python3.7/site-packages (from spacy) (1.0.6)\r\n",
      "Requirement already satisfied: blis<0.8.0,>=0.4.0 in /opt/conda/lib/python3.7/site-packages (from spacy) (0.7.5)\r\n",
      "Requirement already satisfied: numpy>=1.15.0 in /opt/conda/lib/python3.7/site-packages (from spacy) (1.19.5)\r\n",
      "Requirement already satisfied: setuptools in /opt/conda/lib/python3.7/site-packages (from spacy) (59.4.0)\r\n",
      "Requirement already satisfied: pathy>=0.3.5 in /opt/conda/lib/python3.7/site-packages (from spacy) (0.6.1)\r\n",
      "Requirement already satisfied: packaging>=20.0 in /opt/conda/lib/python3.7/site-packages (from spacy) (21.3)\r\n",
      "Requirement already satisfied: wasabi<1.1.0,>=0.8.1 in /opt/conda/lib/python3.7/site-packages (from spacy) (0.9.0)\r\n",
      "Requirement already satisfied: preshed<3.1.0,>=3.0.2 in /opt/conda/lib/python3.7/site-packages (from spacy) (3.0.6)\r\n",
      "Requirement already satisfied: jinja2 in /opt/conda/lib/python3.7/site-packages (from spacy) (3.0.3)\r\n",
      "Requirement already satisfied: pydantic!=1.8,!=1.8.1,<1.9.0,>=1.7.4 in /opt/conda/lib/python3.7/site-packages (from spacy) (1.8.2)\r\n",
      "Requirement already satisfied: requests<3.0.0,>=2.13.0 in /opt/conda/lib/python3.7/site-packages (from spacy) (2.26.0)\r\n",
      "Requirement already satisfied: cymem<2.1.0,>=2.0.2 in /opt/conda/lib/python3.7/site-packages (from spacy) (2.0.6)\r\n",
      "Requirement already satisfied: typing-extensions<4.0.0.0,>=3.7.4 in /opt/conda/lib/python3.7/site-packages (from spacy) (3.10.0.2)\r\n",
      "Requirement already satisfied: srsly<3.0.0,>=2.4.1 in /opt/conda/lib/python3.7/site-packages (from spacy) (2.4.2)\r\n",
      "Requirement already satisfied: zipp>=0.5 in /opt/conda/lib/python3.7/site-packages (from catalogue<2.1.0,>=2.0.6->spacy) (3.6.0)\r\n",
      "Requirement already satisfied: pyparsing!=3.0.5,>=2.0.2 in /opt/conda/lib/python3.7/site-packages (from packaging>=20.0->spacy) (3.0.6)\r\n",
      "Requirement already satisfied: smart-open<6.0.0,>=5.0.0 in /opt/conda/lib/python3.7/site-packages (from pathy>=0.3.5->spacy) (5.2.1)\r\n",
      "Requirement already satisfied: certifi>=2017.4.17 in /opt/conda/lib/python3.7/site-packages (from requests<3.0.0,>=2.13.0->spacy) (2021.10.8)\r\n",
      "Requirement already satisfied: idna<4,>=2.5 in /opt/conda/lib/python3.7/site-packages (from requests<3.0.0,>=2.13.0->spacy) (3.1)\r\n",
      "Requirement already satisfied: charset-normalizer~=2.0.0 in /opt/conda/lib/python3.7/site-packages (from requests<3.0.0,>=2.13.0->spacy) (2.0.8)\r\n",
      "Requirement already satisfied: urllib3<1.27,>=1.21.1 in /opt/conda/lib/python3.7/site-packages (from requests<3.0.0,>=2.13.0->spacy) (1.26.7)\r\n",
      "Requirement already satisfied: click<9.0.0,>=7.1.1 in /opt/conda/lib/python3.7/site-packages (from typer<0.5.0,>=0.3.0->spacy) (8.0.3)\r\n",
      "Requirement already satisfied: MarkupSafe>=2.0 in /opt/conda/lib/python3.7/site-packages (from jinja2->spacy) (2.0.1)\r\n",
      "Requirement already satisfied: importlib-metadata in /opt/conda/lib/python3.7/site-packages (from click<9.0.0,>=7.1.1->typer<0.5.0,>=0.3.0->spacy) (4.10.0)\r\n",
      "\u001b[33mWARNING: Running pip as the 'root' user can result in broken permissions and conflicting behaviour with the system package manager. It is recommended to use a virtual environment instead: https://pip.pypa.io/warnings/venv\u001b[0m\r\n"
     ]
    }
   ],
   "source": [
    "!pip install datasets transformers rouge-score nltk -q\n",
    "!pip install spacy-transformers\n",
    "!pip install spacy"
   ]
  },
  {
   "cell_type": "code",
   "execution_count": 7,
   "id": "9555bc88",
   "metadata": {
    "execution": {
     "iopub.execute_input": "2022-01-30T05:25:34.477720Z",
     "iopub.status.busy": "2022-01-30T05:25:34.476845Z",
     "iopub.status.idle": "2022-01-30T05:25:41.999997Z",
     "shell.execute_reply": "2022-01-30T05:25:41.999269Z",
     "shell.execute_reply.started": "2022-01-24T17:32:15.009461Z"
    },
    "papermill": {
     "duration": 7.558608,
     "end_time": "2022-01-30T05:25:42.000132",
     "exception": false,
     "start_time": "2022-01-30T05:25:34.441524",
     "status": "completed"
    },
    "tags": []
   },
   "outputs": [
    {
     "name": "stdout",
     "output_type": "stream",
     "text": [
      "Requirement already satisfied: torch in /opt/conda/lib/python3.7/site-packages (1.9.1)\r\n",
      "Requirement already satisfied: typing-extensions in /opt/conda/lib/python3.7/site-packages (from torch) (3.10.0.2)\r\n",
      "\u001b[33mWARNING: Running pip as the 'root' user can result in broken permissions and conflicting behaviour with the system package manager. It is recommended to use a virtual environment instead: https://pip.pypa.io/warnings/venv\u001b[0m\r\n"
     ]
    }
   ],
   "source": [
    "!pip install torch"
   ]
  },
  {
   "cell_type": "code",
   "execution_count": 8,
   "id": "763e46da",
   "metadata": {
    "execution": {
     "iopub.execute_input": "2022-01-30T05:25:42.066511Z",
     "iopub.status.busy": "2022-01-30T05:25:42.065742Z",
     "iopub.status.idle": "2022-01-30T05:25:49.401406Z",
     "shell.execute_reply": "2022-01-30T05:25:49.400886Z",
     "shell.execute_reply.started": "2022-01-24T17:32:22.579386Z"
    },
    "papermill": {
     "duration": 7.370916,
     "end_time": "2022-01-30T05:25:49.401545",
     "exception": false,
     "start_time": "2022-01-30T05:25:42.030629",
     "status": "completed"
    },
    "tags": []
   },
   "outputs": [],
   "source": [
    "import torch\n",
    "import datasets\n",
    "from datasets import Dataset\n",
    "from datasets import load_metric\n",
    "import transformers \n",
    "from transformers import AutoModelForSeq2SeqLM, DataCollatorForSeq2Seq, Seq2SeqTrainingArguments, Seq2SeqTrainer, Trainer"
   ]
  },
  {
   "cell_type": "code",
   "execution_count": 9,
   "id": "e2993085",
   "metadata": {
    "execution": {
     "iopub.execute_input": "2022-01-30T05:25:49.469263Z",
     "iopub.status.busy": "2022-01-30T05:25:49.468398Z",
     "iopub.status.idle": "2022-01-30T05:26:06.122054Z",
     "shell.execute_reply": "2022-01-30T05:26:06.121098Z",
     "shell.execute_reply.started": "2022-01-24T17:32:30.49305Z"
    },
    "papermill": {
     "duration": 16.689076,
     "end_time": "2022-01-30T05:26:06.122212",
     "exception": false,
     "start_time": "2022-01-30T05:25:49.433136",
     "status": "completed"
    },
    "tags": []
   },
   "outputs": [
    {
     "data": {
      "application/vnd.jupyter.widget-view+json": {
       "model_id": "fe4ea658f0704b55befda2bab78c0ffa",
       "version_major": 2,
       "version_minor": 0
      },
      "text/plain": [
       "Downloading:   0%|          | 0.00/26.0 [00:00<?, ?B/s]"
      ]
     },
     "metadata": {},
     "output_type": "display_data"
    },
    {
     "data": {
      "application/vnd.jupyter.widget-view+json": {
       "model_id": "a05bade732bb4dceba51c05e5bd7d6aa",
       "version_major": 2,
       "version_minor": 0
      },
      "text/plain": [
       "Downloading:   0%|          | 0.00/1.50k [00:00<?, ?B/s]"
      ]
     },
     "metadata": {},
     "output_type": "display_data"
    },
    {
     "data": {
      "application/vnd.jupyter.widget-view+json": {
       "model_id": "31395fe97d034c3598d843afaf427eec",
       "version_major": 2,
       "version_minor": 0
      },
      "text/plain": [
       "Downloading:   0%|          | 0.00/878k [00:00<?, ?B/s]"
      ]
     },
     "metadata": {},
     "output_type": "display_data"
    },
    {
     "data": {
      "application/vnd.jupyter.widget-view+json": {
       "model_id": "8bdcef72d45c43098ad3e61d524b6f15",
       "version_major": 2,
       "version_minor": 0
      },
      "text/plain": [
       "Downloading:   0%|          | 0.00/446k [00:00<?, ?B/s]"
      ]
     },
     "metadata": {},
     "output_type": "display_data"
    }
   ],
   "source": [
    "from transformers import AutoTokenizer\n",
    "\n",
    "model_chkpt_selected ='sshleifer/distilbart-xsum-9-6'\n",
    "    \n",
    "tokenizer = AutoTokenizer.from_pretrained(model_chkpt_selected)\n",
    "\n",
    "pad_on_right = tokenizer.padding_side == \"right\""
   ]
  },
  {
   "cell_type": "markdown",
   "id": "7d6d05ec",
   "metadata": {
    "papermill": {
     "duration": 0.031814,
     "end_time": "2022-01-30T05:26:06.187039",
     "exception": false,
     "start_time": "2022-01-30T05:26:06.155225",
     "status": "completed"
    },
    "tags": []
   },
   "source": [
    "Tokenizer example "
   ]
  },
  {
   "cell_type": "code",
   "execution_count": 10,
   "id": "02c76a59",
   "metadata": {
    "execution": {
     "iopub.execute_input": "2022-01-30T05:26:06.254229Z",
     "iopub.status.busy": "2022-01-30T05:26:06.253665Z",
     "iopub.status.idle": "2022-01-30T05:26:06.261887Z",
     "shell.execute_reply": "2022-01-30T05:26:06.261483Z",
     "shell.execute_reply.started": "2022-01-24T17:32:47.003356Z"
    },
    "papermill": {
     "duration": 0.043255,
     "end_time": "2022-01-30T05:26:06.262013",
     "exception": false,
     "start_time": "2022-01-30T05:26:06.218758",
     "status": "completed"
    },
    "tags": []
   },
   "outputs": [
    {
     "data": {
      "text/plain": [
       "{'input_ids': [0, 31414, 6, 42, 65, 3645, 328, 2], 'attention_mask': [1, 1, 1, 1, 1, 1, 1, 1]}"
      ]
     },
     "execution_count": 10,
     "metadata": {},
     "output_type": "execute_result"
    }
   ],
   "source": [
    "tokenizer(\"Hello, this one sentence!\")"
   ]
  },
  {
   "cell_type": "code",
   "execution_count": 11,
   "id": "6f084c06",
   "metadata": {
    "execution": {
     "iopub.execute_input": "2022-01-30T05:26:06.329400Z",
     "iopub.status.busy": "2022-01-30T05:26:06.328644Z",
     "iopub.status.idle": "2022-01-30T05:26:06.330706Z",
     "shell.execute_reply": "2022-01-30T05:26:06.331175Z",
     "shell.execute_reply.started": "2022-01-24T17:32:47.01663Z"
    },
    "papermill": {
     "duration": 0.037561,
     "end_time": "2022-01-30T05:26:06.331316",
     "exception": false,
     "start_time": "2022-01-30T05:26:06.293755",
     "status": "completed"
    },
    "tags": []
   },
   "outputs": [],
   "source": [
    "max_input_length = 800 #max article words to be summarized\n",
    "max_target_length = 64 #max highlights words in the summary"
   ]
  },
  {
   "cell_type": "code",
   "execution_count": 12,
   "id": "cbbca60d",
   "metadata": {
    "execution": {
     "iopub.execute_input": "2022-01-30T05:26:06.400379Z",
     "iopub.status.busy": "2022-01-30T05:26:06.399633Z",
     "iopub.status.idle": "2022-01-30T05:26:06.401912Z",
     "shell.execute_reply": "2022-01-30T05:26:06.402337Z",
     "shell.execute_reply.started": "2022-01-24T17:32:47.02418Z"
    },
    "papermill": {
     "duration": 0.03958,
     "end_time": "2022-01-30T05:26:06.402453",
     "exception": false,
     "start_time": "2022-01-30T05:26:06.362873",
     "status": "completed"
    },
    "tags": []
   },
   "outputs": [],
   "source": [
    "#tokenize the dataset for Transformers model\n",
    "def preprocess_function(samples):\n",
    "    inputs = ['summarize:' + doc for doc in samples[\"article\"]]\n",
    "    model_inputs = tokenizer(inputs, max_length=max_input_length, truncation=True,padding='max_length')\n",
    "\n",
    "    # tokenizer for targets\n",
    "    with tokenizer.as_target_tokenizer():\n",
    "        labels = tokenizer(samples[\"highlights\"], max_length=max_target_length, truncation=True)\n",
    "\n",
    "    model_inputs[\"labels\"] = labels[\"input_ids\"]\n",
    "    return model_inputs"
   ]
  },
  {
   "cell_type": "code",
   "execution_count": 13,
   "id": "d7f1793b",
   "metadata": {
    "execution": {
     "iopub.execute_input": "2022-01-30T05:26:06.470419Z",
     "iopub.status.busy": "2022-01-30T05:26:06.469667Z",
     "iopub.status.idle": "2022-01-30T05:26:06.767658Z",
     "shell.execute_reply": "2022-01-30T05:26:06.767102Z",
     "shell.execute_reply.started": "2022-01-24T17:32:47.032761Z"
    },
    "papermill": {
     "duration": 0.333721,
     "end_time": "2022-01-30T05:26:06.767793",
     "exception": false,
     "start_time": "2022-01-30T05:26:06.434072",
     "status": "completed"
    },
    "tags": []
   },
   "outputs": [],
   "source": [
    "train_ds = Dataset.from_pandas(train_data)\n",
    "valid_ds = Dataset.from_pandas(validation_data)"
   ]
  },
  {
   "cell_type": "code",
   "execution_count": 14,
   "id": "3eb6c4ae",
   "metadata": {
    "execution": {
     "iopub.execute_input": "2022-01-30T05:26:07.001391Z",
     "iopub.status.busy": "2022-01-30T05:26:07.000367Z",
     "iopub.status.idle": "2022-01-30T05:26:58.799232Z",
     "shell.execute_reply": "2022-01-30T05:26:58.798647Z",
     "shell.execute_reply.started": "2022-01-24T17:32:47.353793Z"
    },
    "papermill": {
     "duration": 51.998437,
     "end_time": "2022-01-30T05:26:58.799367",
     "exception": false,
     "start_time": "2022-01-30T05:26:06.800930",
     "status": "completed"
    },
    "tags": []
   },
   "outputs": [
    {
     "data": {
      "application/vnd.jupyter.widget-view+json": {
       "model_id": "4a0d5d2c4fca4bebb9c749652111a45e",
       "version_major": 2,
       "version_minor": 0
      },
      "text/plain": [
       "  0%|          | 0/20 [00:00<?, ?ba/s]"
      ]
     },
     "metadata": {},
     "output_type": "display_data"
    },
    {
     "data": {
      "application/vnd.jupyter.widget-view+json": {
       "model_id": "5cf011a621a84d4ca50a58ef42edaea7",
       "version_major": 2,
       "version_minor": 0
      },
      "text/plain": [
       "  0%|          | 0/1 [00:00<?, ?ba/s]"
      ]
     },
     "metadata": {},
     "output_type": "display_data"
    }
   ],
   "source": [
    "tokenized_train = train_ds.map(preprocess_function, batched = True)\n",
    "tokenized_validation = valid_ds.map(preprocess_function, batched = True)"
   ]
  },
  {
   "cell_type": "code",
   "execution_count": 15,
   "id": "d2be725f",
   "metadata": {
    "execution": {
     "iopub.execute_input": "2022-01-30T05:26:58.871149Z",
     "iopub.status.busy": "2022-01-30T05:26:58.870272Z",
     "iopub.status.idle": "2022-01-30T05:26:58.872343Z",
     "shell.execute_reply": "2022-01-30T05:26:58.872747Z",
     "shell.execute_reply.started": "2022-01-24T17:33:42.150414Z"
    },
    "papermill": {
     "duration": 0.039257,
     "end_time": "2022-01-30T05:26:58.872885",
     "exception": false,
     "start_time": "2022-01-30T05:26:58.833628",
     "status": "completed"
    },
    "tags": []
   },
   "outputs": [],
   "source": [
    "assert isinstance(tokenizer, transformers.PreTrainedTokenizerFast)"
   ]
  },
  {
   "cell_type": "markdown",
   "id": "d2c358fe",
   "metadata": {
    "papermill": {
     "duration": 0.034273,
     "end_time": "2022-01-30T05:26:58.939908",
     "exception": false,
     "start_time": "2022-01-30T05:26:58.905635",
     "status": "completed"
    },
    "tags": []
   },
   "source": [
    "## Fine tuning "
   ]
  },
  {
   "cell_type": "code",
   "execution_count": 16,
   "id": "30137f7a",
   "metadata": {
    "execution": {
     "iopub.execute_input": "2022-01-30T05:26:59.009220Z",
     "iopub.status.busy": "2022-01-30T05:26:59.008411Z",
     "iopub.status.idle": "2022-01-30T05:27:27.981022Z",
     "shell.execute_reply": "2022-01-30T05:27:27.980547Z",
     "shell.execute_reply.started": "2022-01-24T17:33:42.157598Z"
    },
    "papermill": {
     "duration": 29.008708,
     "end_time": "2022-01-30T05:27:27.981162",
     "exception": false,
     "start_time": "2022-01-30T05:26:58.972454",
     "status": "completed"
    },
    "tags": []
   },
   "outputs": [
    {
     "data": {
      "application/vnd.jupyter.widget-view+json": {
       "model_id": "c0e35bb43aa24d6a983ec39828bf1d99",
       "version_major": 2,
       "version_minor": 0
      },
      "text/plain": [
       "Downloading:   0%|          | 0.00/511M [00:00<?, ?B/s]"
      ]
     },
     "metadata": {},
     "output_type": "display_data"
    }
   ],
   "source": [
    "model = AutoModelForSeq2SeqLM.from_pretrained(model_chkpt_selected)"
   ]
  },
  {
   "cell_type": "code",
   "execution_count": 17,
   "id": "7badaefc",
   "metadata": {
    "execution": {
     "iopub.execute_input": "2022-01-30T05:27:28.054127Z",
     "iopub.status.busy": "2022-01-30T05:27:28.053310Z",
     "iopub.status.idle": "2022-01-30T05:27:28.055682Z",
     "shell.execute_reply": "2022-01-30T05:27:28.055285Z",
     "shell.execute_reply.started": "2022-01-24T17:34:10.939063Z"
    },
    "papermill": {
     "duration": 0.039902,
     "end_time": "2022-01-30T05:27:28.055799",
     "exception": false,
     "start_time": "2022-01-30T05:27:28.015897",
     "status": "completed"
    },
    "tags": []
   },
   "outputs": [],
   "source": [
    "batch_size = 6 \n",
    "\n",
    "collator = DataCollatorForSeq2Seq(tokenizer, model=model)"
   ]
  },
  {
   "cell_type": "code",
   "execution_count": 18,
   "id": "2b7219f5",
   "metadata": {
    "execution": {
     "iopub.execute_input": "2022-01-30T05:27:28.127038Z",
     "iopub.status.busy": "2022-01-30T05:27:28.126382Z",
     "iopub.status.idle": "2022-01-30T05:27:28.129296Z",
     "shell.execute_reply": "2022-01-30T05:27:28.129701Z",
     "shell.execute_reply.started": "2022-01-24T17:34:11.441587Z"
    },
    "papermill": {
     "duration": 0.040757,
     "end_time": "2022-01-30T05:27:28.129830",
     "exception": false,
     "start_time": "2022-01-30T05:27:28.089073",
     "status": "completed"
    },
    "tags": []
   },
   "outputs": [
    {
     "name": "stdout",
     "output_type": "stream",
     "text": [
      "env: WANDB_DISABLED=True\n"
     ]
    }
   ],
   "source": [
    "%env WANDB_DISABLED=True"
   ]
  },
  {
   "cell_type": "code",
   "execution_count": 19,
   "id": "ddcbe941",
   "metadata": {
    "execution": {
     "iopub.execute_input": "2022-01-30T05:27:28.213379Z",
     "iopub.status.busy": "2022-01-30T05:27:28.212549Z",
     "iopub.status.idle": "2022-01-30T05:27:28.417215Z",
     "shell.execute_reply": "2022-01-30T05:27:28.416682Z",
     "shell.execute_reply.started": "2022-01-24T17:34:11.449038Z"
    },
    "papermill": {
     "duration": 0.253727,
     "end_time": "2022-01-30T05:27:28.417361",
     "exception": false,
     "start_time": "2022-01-30T05:27:28.163634",
     "status": "completed"
    },
    "tags": []
   },
   "outputs": [
    {
     "data": {
      "text/plain": [
       "717"
      ]
     },
     "execution_count": 19,
     "metadata": {},
     "output_type": "execute_result"
    }
   ],
   "source": [
    "import gc\n",
    "gc.collect()"
   ]
  },
  {
   "cell_type": "code",
   "execution_count": 20,
   "id": "6f449fd0",
   "metadata": {
    "execution": {
     "iopub.execute_input": "2022-01-30T05:27:28.544119Z",
     "iopub.status.busy": "2022-01-30T05:27:28.543368Z",
     "iopub.status.idle": "2022-01-30T05:27:28.547402Z",
     "shell.execute_reply": "2022-01-30T05:27:28.546740Z",
     "shell.execute_reply.started": "2022-01-24T17:34:11.654353Z"
    },
    "papermill": {
     "duration": 0.095546,
     "end_time": "2022-01-30T05:27:28.547553",
     "exception": false,
     "start_time": "2022-01-30T05:27:28.452007",
     "status": "completed"
    },
    "tags": []
   },
   "outputs": [
    {
     "name": "stdout",
     "output_type": "stream",
     "text": [
      "[INFO] training using Tesla P100-PCIE-16GB\n"
     ]
    }
   ],
   "source": [
    "# determine the device we will be using for training\n",
    "DEVICE = \"cuda\" if torch.cuda.is_available() else \"cpu\"\n",
    "print(\"[INFO] training using {}\".format(torch.cuda.get_device_name(0)))"
   ]
  },
  {
   "cell_type": "code",
   "execution_count": 21,
   "id": "41b8cb36",
   "metadata": {
    "execution": {
     "iopub.execute_input": "2022-01-30T05:27:28.620295Z",
     "iopub.status.busy": "2022-01-30T05:27:28.619609Z",
     "iopub.status.idle": "2022-01-30T05:27:28.621756Z",
     "shell.execute_reply": "2022-01-30T05:27:28.622166Z",
     "shell.execute_reply.started": "2022-01-24T17:34:11.713173Z"
    },
    "papermill": {
     "duration": 0.0399,
     "end_time": "2022-01-30T05:27:28.622298",
     "exception": false,
     "start_time": "2022-01-30T05:27:28.582398",
     "status": "completed"
    },
    "tags": []
   },
   "outputs": [],
   "source": [
    "torch.cuda.empty_cache()"
   ]
  },
  {
   "cell_type": "code",
   "execution_count": 22,
   "id": "98c2507a",
   "metadata": {
    "execution": {
     "iopub.execute_input": "2022-01-30T05:27:33.156669Z",
     "iopub.status.busy": "2022-01-30T05:27:33.155936Z",
     "iopub.status.idle": "2022-01-30T05:27:33.160075Z",
     "shell.execute_reply": "2022-01-30T05:27:33.159556Z",
     "shell.execute_reply.started": "2022-01-24T17:34:11.724839Z"
    },
    "papermill": {
     "duration": 4.503879,
     "end_time": "2022-01-30T05:27:33.160221",
     "exception": false,
     "start_time": "2022-01-30T05:27:28.656342",
     "status": "completed"
    },
    "tags": []
   },
   "outputs": [],
   "source": [
    "torch.cuda.set_per_process_memory_fraction(1.0)"
   ]
  },
  {
   "cell_type": "code",
   "execution_count": 23,
   "id": "e4292e55",
   "metadata": {
    "execution": {
     "iopub.execute_input": "2022-01-30T05:27:33.378613Z",
     "iopub.status.busy": "2022-01-30T05:27:33.377816Z",
     "iopub.status.idle": "2022-01-30T05:27:33.380732Z",
     "shell.execute_reply": "2022-01-30T05:27:33.381144Z",
     "shell.execute_reply.started": "2022-01-24T17:34:16.303843Z"
    },
    "papermill": {
     "duration": 0.182143,
     "end_time": "2022-01-30T05:27:33.381277",
     "exception": false,
     "start_time": "2022-01-30T05:27:33.199134",
     "status": "completed"
    },
    "tags": []
   },
   "outputs": [
    {
     "data": {
      "text/plain": [
       "0"
      ]
     },
     "execution_count": 23,
     "metadata": {},
     "output_type": "execute_result"
    }
   ],
   "source": [
    "torch.cuda.memory_reserved()"
   ]
  },
  {
   "cell_type": "code",
   "execution_count": 24,
   "id": "76677049",
   "metadata": {
    "execution": {
     "iopub.execute_input": "2022-01-30T05:27:33.759530Z",
     "iopub.status.busy": "2022-01-30T05:27:33.757562Z",
     "iopub.status.idle": "2022-01-30T05:27:33.763702Z",
     "shell.execute_reply": "2022-01-30T05:27:33.764258Z",
     "shell.execute_reply.started": "2022-01-24T17:34:16.333413Z"
    },
    "papermill": {
     "duration": 0.049924,
     "end_time": "2022-01-30T05:27:33.764446",
     "exception": false,
     "start_time": "2022-01-30T05:27:33.714522",
     "status": "completed"
    },
    "tags": []
   },
   "outputs": [
    {
     "name": "stderr",
     "output_type": "stream",
     "text": [
      "Using the `WAND_DISABLED` environment variable is deprecated and will be removed in v5. Use the --report_to flag to control the integrations used for logging result (for instance --report_to none).\n"
     ]
    }
   ],
   "source": [
    "model_name = model_chkpt_selected.split(\"/\")[-1]\n",
    "args = Seq2SeqTrainingArguments(\n",
    "    f\"{model_name}-finetuned-CNN_DailyMail\",\n",
    "    evaluation_strategy = \"epoch\",\n",
    "    learning_rate=5e-7, \n",
    "    per_device_train_batch_size=batch_size,\n",
    "    per_device_eval_batch_size=batch_size,\n",
    "    weight_decay=0.01, \n",
    "    save_total_limit=3,\n",
    "    num_train_epochs=6, \n",
    "    predict_with_generate=True,\n",
    "    fp16=True,\n",
    "    save_strategy = \"no\"\n",
    ")"
   ]
  },
  {
   "cell_type": "code",
   "execution_count": 25,
   "id": "42f5f8f7",
   "metadata": {
    "execution": {
     "iopub.execute_input": "2022-01-30T05:27:33.841567Z",
     "iopub.status.busy": "2022-01-30T05:27:33.840808Z",
     "iopub.status.idle": "2022-01-30T05:27:34.295229Z",
     "shell.execute_reply": "2022-01-30T05:27:34.295617Z",
     "shell.execute_reply.started": "2022-01-24T17:34:16.345852Z"
    },
    "papermill": {
     "duration": 0.494689,
     "end_time": "2022-01-30T05:27:34.295787",
     "exception": false,
     "start_time": "2022-01-30T05:27:33.801098",
     "status": "completed"
    },
    "tags": []
   },
   "outputs": [
    {
     "name": "stderr",
     "output_type": "stream",
     "text": [
      "Using amp fp16 backend\n"
     ]
    }
   ],
   "source": [
    "trainer = Trainer(\n",
    "    model,\n",
    "    args,\n",
    "    train_dataset=tokenized_train,\n",
    "    eval_dataset=tokenized_validation,\n",
    "    data_collator=collator,\n",
    "    tokenizer=tokenizer,\n",
    ")"
   ]
  },
  {
   "cell_type": "code",
   "execution_count": 26,
   "id": "748cfd56",
   "metadata": {
    "execution": {
     "iopub.execute_input": "2022-01-30T05:27:34.401538Z",
     "iopub.status.busy": "2022-01-30T05:27:34.400738Z",
     "iopub.status.idle": "2022-01-30T10:31:16.939826Z",
     "shell.execute_reply": "2022-01-30T10:31:16.939356Z"
    },
    "papermill": {
     "duration": 18222.60474,
     "end_time": "2022-01-30T10:31:16.939982",
     "exception": false,
     "start_time": "2022-01-30T05:27:34.335242",
     "status": "completed"
    },
    "tags": []
   },
   "outputs": [
    {
     "name": "stderr",
     "output_type": "stream",
     "text": [
      "The following columns in the training set  don't have a corresponding argument in `BartForConditionalGeneration.forward` and have been ignored: article, id, index, highlights.\n",
      "***** Running training *****\n",
      "  Num examples = 20000\n",
      "  Num Epochs = 6\n",
      "  Instantaneous batch size per device = 6\n",
      "  Total train batch size (w. parallel, distributed & accumulation) = 6\n",
      "  Gradient Accumulation steps = 1\n",
      "  Total optimization steps = 20004\n",
      "/opt/conda/lib/python3.7/site-packages/transformers/trainer.py:1357: FutureWarning: Non-finite norm encountered in torch.nn.utils.clip_grad_norm_; continuing anyway. Note that the default behavior will change in a future release to error out if a non-finite total norm is encountered. At that point, setting error_if_nonfinite=false will be required to retain the old behavior.\n",
      "  args.max_grad_norm,\n"
     ]
    },
    {
     "data": {
      "text/html": [
       "\n",
       "    <div>\n",
       "      \n",
       "      <progress value='20004' max='20004' style='width:300px; height:20px; vertical-align: middle;'></progress>\n",
       "      [20004/20004 5:03:40, Epoch 6/6]\n",
       "    </div>\n",
       "    <table border=\"1\" class=\"dataframe\">\n",
       "  <thead>\n",
       "    <tr style=\"text-align: left;\">\n",
       "      <th>Epoch</th>\n",
       "      <th>Training Loss</th>\n",
       "      <th>Validation Loss</th>\n",
       "    </tr>\n",
       "  </thead>\n",
       "  <tbody>\n",
       "    <tr>\n",
       "      <td>1</td>\n",
       "      <td>2.343600</td>\n",
       "      <td>2.062318</td>\n",
       "    </tr>\n",
       "    <tr>\n",
       "      <td>2</td>\n",
       "      <td>2.214600</td>\n",
       "      <td>1.985453</td>\n",
       "    </tr>\n",
       "    <tr>\n",
       "      <td>3</td>\n",
       "      <td>2.155000</td>\n",
       "      <td>1.952599</td>\n",
       "    </tr>\n",
       "    <tr>\n",
       "      <td>4</td>\n",
       "      <td>2.118600</td>\n",
       "      <td>1.933232</td>\n",
       "    </tr>\n",
       "    <tr>\n",
       "      <td>5</td>\n",
       "      <td>2.094500</td>\n",
       "      <td>1.924331</td>\n",
       "    </tr>\n",
       "    <tr>\n",
       "      <td>6</td>\n",
       "      <td>2.108000</td>\n",
       "      <td>1.920813</td>\n",
       "    </tr>\n",
       "  </tbody>\n",
       "</table><p>"
      ],
      "text/plain": [
       "<IPython.core.display.HTML object>"
      ]
     },
     "metadata": {},
     "output_type": "display_data"
    },
    {
     "name": "stderr",
     "output_type": "stream",
     "text": [
      "The following columns in the evaluation set  don't have a corresponding argument in `BartForConditionalGeneration.forward` and have been ignored: article, id, index, highlights.\n",
      "***** Running Evaluation *****\n",
      "  Num examples = 900\n",
      "  Batch size = 6\n",
      "The following columns in the evaluation set  don't have a corresponding argument in `BartForConditionalGeneration.forward` and have been ignored: article, id, index, highlights.\n",
      "***** Running Evaluation *****\n",
      "  Num examples = 900\n",
      "  Batch size = 6\n",
      "The following columns in the evaluation set  don't have a corresponding argument in `BartForConditionalGeneration.forward` and have been ignored: article, id, index, highlights.\n",
      "***** Running Evaluation *****\n",
      "  Num examples = 900\n",
      "  Batch size = 6\n",
      "The following columns in the evaluation set  don't have a corresponding argument in `BartForConditionalGeneration.forward` and have been ignored: article, id, index, highlights.\n",
      "***** Running Evaluation *****\n",
      "  Num examples = 900\n",
      "  Batch size = 6\n",
      "The following columns in the evaluation set  don't have a corresponding argument in `BartForConditionalGeneration.forward` and have been ignored: article, id, index, highlights.\n",
      "***** Running Evaluation *****\n",
      "  Num examples = 900\n",
      "  Batch size = 6\n",
      "The following columns in the evaluation set  don't have a corresponding argument in `BartForConditionalGeneration.forward` and have been ignored: article, id, index, highlights.\n",
      "***** Running Evaluation *****\n",
      "  Num examples = 900\n",
      "  Batch size = 6\n",
      "\n",
      "\n",
      "Training completed. Do not forget to share your model on huggingface.co/models =)\n",
      "\n",
      "\n"
     ]
    },
    {
     "data": {
      "text/plain": [
       "TrainOutput(global_step=20004, training_loss=2.2421114385616683, metrics={'train_runtime': 18222.4805, 'train_samples_per_second': 6.585, 'train_steps_per_second': 1.098, 'total_flos': 1.3320800595084902e+17, 'train_loss': 2.2421114385616683, 'epoch': 6.0})"
      ]
     },
     "execution_count": 26,
     "metadata": {},
     "output_type": "execute_result"
    }
   ],
   "source": [
    "trainer.train()"
   ]
  },
  {
   "cell_type": "code",
   "execution_count": 27,
   "id": "07fef59a",
   "metadata": {
    "execution": {
     "iopub.execute_input": "2022-01-30T10:31:17.035633Z",
     "iopub.status.busy": "2022-01-30T10:31:17.034847Z",
     "iopub.status.idle": "2022-01-30T10:31:18.912511Z",
     "shell.execute_reply": "2022-01-30T10:31:18.912030Z"
    },
    "papermill": {
     "duration": 1.928071,
     "end_time": "2022-01-30T10:31:18.912639",
     "exception": false,
     "start_time": "2022-01-30T10:31:16.984568",
     "status": "completed"
    },
    "tags": []
   },
   "outputs": [
    {
     "name": "stderr",
     "output_type": "stream",
     "text": [
      "Saving model checkpoint to DistilBART-Large_XSum_CNN_20k\n",
      "Configuration saved in DistilBART-Large_XSum_CNN_20k/config.json\n",
      "Model weights saved in DistilBART-Large_XSum_CNN_20k/pytorch_model.bin\n",
      "tokenizer config file saved in DistilBART-Large_XSum_CNN_20k/tokenizer_config.json\n",
      "Special tokens file saved in DistilBART-Large_XSum_CNN_20k/special_tokens_map.json\n"
     ]
    }
   ],
   "source": [
    "trainer.save_model(\"DistilBART-Large_XSum_CNN_20k\")"
   ]
  }
 ],
 "metadata": {
  "kernelspec": {
   "display_name": "Python 3",
   "language": "python",
   "name": "python3"
  },
  "language_info": {
   "codemirror_mode": {
    "name": "ipython",
    "version": 3
   },
   "file_extension": ".py",
   "mimetype": "text/x-python",
   "name": "python",
   "nbconvert_exporter": "python",
   "pygments_lexer": "ipython3",
   "version": "3.7.12"
  },
  "papermill": {
   "default_parameters": {},
   "duration": 18412.649368,
   "end_time": "2022-01-30T10:31:22.009787",
   "environment_variables": {},
   "exception": null,
   "input_path": "__notebook__.ipynb",
   "output_path": "__notebook__.ipynb",
   "parameters": {},
   "start_time": "2022-01-30T05:24:29.360419",
   "version": "2.3.3"
  },
  "widgets": {
   "application/vnd.jupyter.widget-state+json": {
    "state": {
     "0021014ed41d4f66aeba852feee69b70": {
      "model_module": "@jupyter-widgets/controls",
      "model_module_version": "1.5.0",
      "model_name": "HTMLModel",
      "state": {
       "_dom_classes": [],
       "_model_module": "@jupyter-widgets/controls",
       "_model_module_version": "1.5.0",
       "_model_name": "HTMLModel",
       "_view_count": null,
       "_view_module": "@jupyter-widgets/controls",
       "_view_module_version": "1.5.0",
       "_view_name": "HTMLView",
       "description": "",
       "description_tooltip": null,
       "layout": "IPY_MODEL_612fc612dc43447096a3f6e2529a98c0",
       "placeholder": "​",
       "style": "IPY_MODEL_9bd76478268445769ff1a8610fcb8ff2",
       "value": " 511M/511M [00:22&lt;00:00, 24.6MB/s]"
      }
     },
     "020e8184a3ad481aa936b13be18386ee": {
      "model_module": "@jupyter-widgets/base",
      "model_module_version": "1.2.0",
      "model_name": "LayoutModel",
      "state": {
       "_model_module": "@jupyter-widgets/base",
       "_model_module_version": "1.2.0",
       "_model_name": "LayoutModel",
       "_view_count": null,
       "_view_module": "@jupyter-widgets/base",
       "_view_module_version": "1.2.0",
       "_view_name": "LayoutView",
       "align_content": null,
       "align_items": null,
       "align_self": null,
       "border": null,
       "bottom": null,
       "display": null,
       "flex": null,
       "flex_flow": null,
       "grid_area": null,
       "grid_auto_columns": null,
       "grid_auto_flow": null,
       "grid_auto_rows": null,
       "grid_column": null,
       "grid_gap": null,
       "grid_row": null,
       "grid_template_areas": null,
       "grid_template_columns": null,
       "grid_template_rows": null,
       "height": null,
       "justify_content": null,
       "justify_items": null,
       "left": null,
       "margin": null,
       "max_height": null,
       "max_width": null,
       "min_height": null,
       "min_width": null,
       "object_fit": null,
       "object_position": null,
       "order": null,
       "overflow": null,
       "overflow_x": null,
       "overflow_y": null,
       "padding": null,
       "right": null,
       "top": null,
       "visibility": null,
       "width": null
      }
     },
     "033577fc3ca840888ff508b19fa78df6": {
      "model_module": "@jupyter-widgets/controls",
      "model_module_version": "1.5.0",
      "model_name": "HTMLModel",
      "state": {
       "_dom_classes": [],
       "_model_module": "@jupyter-widgets/controls",
       "_model_module_version": "1.5.0",
       "_model_name": "HTMLModel",
       "_view_count": null,
       "_view_module": "@jupyter-widgets/controls",
       "_view_module_version": "1.5.0",
       "_view_name": "HTMLView",
       "description": "",
       "description_tooltip": null,
       "layout": "IPY_MODEL_a5403c658b9246eea49ad913fc987182",
       "placeholder": "​",
       "style": "IPY_MODEL_4572373c0cac474a97fef1d65ec7bde9",
       "value": " 1/1 [00:02&lt;00:00,  2.36s/ba]"
      }
     },
     "093fde42de6547b38c26967032c72583": {
      "model_module": "@jupyter-widgets/controls",
      "model_module_version": "1.5.0",
      "model_name": "FloatProgressModel",
      "state": {
       "_dom_classes": [],
       "_model_module": "@jupyter-widgets/controls",
       "_model_module_version": "1.5.0",
       "_model_name": "FloatProgressModel",
       "_view_count": null,
       "_view_module": "@jupyter-widgets/controls",
       "_view_module_version": "1.5.0",
       "_view_name": "ProgressView",
       "bar_style": "success",
       "description": "",
       "description_tooltip": null,
       "layout": "IPY_MODEL_8d106803e9e949e5ad77ba71cafb6509",
       "max": 456318.0,
       "min": 0.0,
       "orientation": "horizontal",
       "style": "IPY_MODEL_d37b01ff8a514365ae328a99bdc6fe68",
       "value": 456318.0
      }
     },
     "0e9605ecf62c4b73a12f29ad06c7e06b": {
      "model_module": "@jupyter-widgets/base",
      "model_module_version": "1.2.0",
      "model_name": "LayoutModel",
      "state": {
       "_model_module": "@jupyter-widgets/base",
       "_model_module_version": "1.2.0",
       "_model_name": "LayoutModel",
       "_view_count": null,
       "_view_module": "@jupyter-widgets/base",
       "_view_module_version": "1.2.0",
       "_view_name": "LayoutView",
       "align_content": null,
       "align_items": null,
       "align_self": null,
       "border": null,
       "bottom": null,
       "display": null,
       "flex": null,
       "flex_flow": null,
       "grid_area": null,
       "grid_auto_columns": null,
       "grid_auto_flow": null,
       "grid_auto_rows": null,
       "grid_column": null,
       "grid_gap": null,
       "grid_row": null,
       "grid_template_areas": null,
       "grid_template_columns": null,
       "grid_template_rows": null,
       "height": null,
       "justify_content": null,
       "justify_items": null,
       "left": null,
       "margin": null,
       "max_height": null,
       "max_width": null,
       "min_height": null,
       "min_width": null,
       "object_fit": null,
       "object_position": null,
       "order": null,
       "overflow": null,
       "overflow_x": null,
       "overflow_y": null,
       "padding": null,
       "right": null,
       "top": null,
       "visibility": null,
       "width": null
      }
     },
     "155ea17395a84d5f8add61a5e6f3f489": {
      "model_module": "@jupyter-widgets/base",
      "model_module_version": "1.2.0",
      "model_name": "LayoutModel",
      "state": {
       "_model_module": "@jupyter-widgets/base",
       "_model_module_version": "1.2.0",
       "_model_name": "LayoutModel",
       "_view_count": null,
       "_view_module": "@jupyter-widgets/base",
       "_view_module_version": "1.2.0",
       "_view_name": "LayoutView",
       "align_content": null,
       "align_items": null,
       "align_self": null,
       "border": null,
       "bottom": null,
       "display": null,
       "flex": null,
       "flex_flow": null,
       "grid_area": null,
       "grid_auto_columns": null,
       "grid_auto_flow": null,
       "grid_auto_rows": null,
       "grid_column": null,
       "grid_gap": null,
       "grid_row": null,
       "grid_template_areas": null,
       "grid_template_columns": null,
       "grid_template_rows": null,
       "height": null,
       "justify_content": null,
       "justify_items": null,
       "left": null,
       "margin": null,
       "max_height": null,
       "max_width": null,
       "min_height": null,
       "min_width": null,
       "object_fit": null,
       "object_position": null,
       "order": null,
       "overflow": null,
       "overflow_x": null,
       "overflow_y": null,
       "padding": null,
       "right": null,
       "top": null,
       "visibility": null,
       "width": null
      }
     },
     "16f07ddf999c4a4f877ba8465e7777c3": {
      "model_module": "@jupyter-widgets/base",
      "model_module_version": "1.2.0",
      "model_name": "LayoutModel",
      "state": {
       "_model_module": "@jupyter-widgets/base",
       "_model_module_version": "1.2.0",
       "_model_name": "LayoutModel",
       "_view_count": null,
       "_view_module": "@jupyter-widgets/base",
       "_view_module_version": "1.2.0",
       "_view_name": "LayoutView",
       "align_content": null,
       "align_items": null,
       "align_self": null,
       "border": null,
       "bottom": null,
       "display": null,
       "flex": null,
       "flex_flow": null,
       "grid_area": null,
       "grid_auto_columns": null,
       "grid_auto_flow": null,
       "grid_auto_rows": null,
       "grid_column": null,
       "grid_gap": null,
       "grid_row": null,
       "grid_template_areas": null,
       "grid_template_columns": null,
       "grid_template_rows": null,
       "height": null,
       "justify_content": null,
       "justify_items": null,
       "left": null,
       "margin": null,
       "max_height": null,
       "max_width": null,
       "min_height": null,
       "min_width": null,
       "object_fit": null,
       "object_position": null,
       "order": null,
       "overflow": null,
       "overflow_x": null,
       "overflow_y": null,
       "padding": null,
       "right": null,
       "top": null,
       "visibility": null,
       "width": null
      }
     },
     "190c89d69d5e4a0c8d04e904dd6ff2ea": {
      "model_module": "@jupyter-widgets/controls",
      "model_module_version": "1.5.0",
      "model_name": "DescriptionStyleModel",
      "state": {
       "_model_module": "@jupyter-widgets/controls",
       "_model_module_version": "1.5.0",
       "_model_name": "DescriptionStyleModel",
       "_view_count": null,
       "_view_module": "@jupyter-widgets/base",
       "_view_module_version": "1.2.0",
       "_view_name": "StyleView",
       "description_width": ""
      }
     },
     "1a7a5d9a141e4ec0aa4503cdd102a130": {
      "model_module": "@jupyter-widgets/controls",
      "model_module_version": "1.5.0",
      "model_name": "HTMLModel",
      "state": {
       "_dom_classes": [],
       "_model_module": "@jupyter-widgets/controls",
       "_model_module_version": "1.5.0",
       "_model_name": "HTMLModel",
       "_view_count": null,
       "_view_module": "@jupyter-widgets/controls",
       "_view_module_version": "1.5.0",
       "_view_name": "HTMLView",
       "description": "",
       "description_tooltip": null,
       "layout": "IPY_MODEL_020e8184a3ad481aa936b13be18386ee",
       "placeholder": "​",
       "style": "IPY_MODEL_eb2a876fed6144c187c05b90d44f9beb",
       "value": "Downloading: 100%"
      }
     },
     "2ce89fb43b90462fa293adeb7c70941e": {
      "model_module": "@jupyter-widgets/base",
      "model_module_version": "1.2.0",
      "model_name": "LayoutModel",
      "state": {
       "_model_module": "@jupyter-widgets/base",
       "_model_module_version": "1.2.0",
       "_model_name": "LayoutModel",
       "_view_count": null,
       "_view_module": "@jupyter-widgets/base",
       "_view_module_version": "1.2.0",
       "_view_name": "LayoutView",
       "align_content": null,
       "align_items": null,
       "align_self": null,
       "border": null,
       "bottom": null,
       "display": null,
       "flex": null,
       "flex_flow": null,
       "grid_area": null,
       "grid_auto_columns": null,
       "grid_auto_flow": null,
       "grid_auto_rows": null,
       "grid_column": null,
       "grid_gap": null,
       "grid_row": null,
       "grid_template_areas": null,
       "grid_template_columns": null,
       "grid_template_rows": null,
       "height": null,
       "justify_content": null,
       "justify_items": null,
       "left": null,
       "margin": null,
       "max_height": null,
       "max_width": null,
       "min_height": null,
       "min_width": null,
       "object_fit": null,
       "object_position": null,
       "order": null,
       "overflow": null,
       "overflow_x": null,
       "overflow_y": null,
       "padding": null,
       "right": null,
       "top": null,
       "visibility": null,
       "width": null
      }
     },
     "31395fe97d034c3598d843afaf427eec": {
      "model_module": "@jupyter-widgets/controls",
      "model_module_version": "1.5.0",
      "model_name": "HBoxModel",
      "state": {
       "_dom_classes": [],
       "_model_module": "@jupyter-widgets/controls",
       "_model_module_version": "1.5.0",
       "_model_name": "HBoxModel",
       "_view_count": null,
       "_view_module": "@jupyter-widgets/controls",
       "_view_module_version": "1.5.0",
       "_view_name": "HBoxView",
       "box_style": "",
       "children": [
        "IPY_MODEL_1a7a5d9a141e4ec0aa4503cdd102a130",
        "IPY_MODEL_ff1ba6324d674a5298ac8ce5cf139f6c",
        "IPY_MODEL_ee25719a76f848a4950e930655ac57a1"
       ],
       "layout": "IPY_MODEL_d91de45b806e4bdab2c15639e713fed7"
      }
     },
     "33615062097d4d0c909b455728070295": {
      "model_module": "@jupyter-widgets/base",
      "model_module_version": "1.2.0",
      "model_name": "LayoutModel",
      "state": {
       "_model_module": "@jupyter-widgets/base",
       "_model_module_version": "1.2.0",
       "_model_name": "LayoutModel",
       "_view_count": null,
       "_view_module": "@jupyter-widgets/base",
       "_view_module_version": "1.2.0",
       "_view_name": "LayoutView",
       "align_content": null,
       "align_items": null,
       "align_self": null,
       "border": null,
       "bottom": null,
       "display": null,
       "flex": null,
       "flex_flow": null,
       "grid_area": null,
       "grid_auto_columns": null,
       "grid_auto_flow": null,
       "grid_auto_rows": null,
       "grid_column": null,
       "grid_gap": null,
       "grid_row": null,
       "grid_template_areas": null,
       "grid_template_columns": null,
       "grid_template_rows": null,
       "height": null,
       "justify_content": null,
       "justify_items": null,
       "left": null,
       "margin": null,
       "max_height": null,
       "max_width": null,
       "min_height": null,
       "min_width": null,
       "object_fit": null,
       "object_position": null,
       "order": null,
       "overflow": null,
       "overflow_x": null,
       "overflow_y": null,
       "padding": null,
       "right": null,
       "top": null,
       "visibility": null,
       "width": null
      }
     },
     "33df9cb066d74dd4a394ebaea17e424b": {
      "model_module": "@jupyter-widgets/controls",
      "model_module_version": "1.5.0",
      "model_name": "ProgressStyleModel",
      "state": {
       "_model_module": "@jupyter-widgets/controls",
       "_model_module_version": "1.5.0",
       "_model_name": "ProgressStyleModel",
       "_view_count": null,
       "_view_module": "@jupyter-widgets/base",
       "_view_module_version": "1.2.0",
       "_view_name": "StyleView",
       "bar_color": null,
       "description_width": ""
      }
     },
     "3f3dd89ee1b04ccf993d495db25ca51c": {
      "model_module": "@jupyter-widgets/base",
      "model_module_version": "1.2.0",
      "model_name": "LayoutModel",
      "state": {
       "_model_module": "@jupyter-widgets/base",
       "_model_module_version": "1.2.0",
       "_model_name": "LayoutModel",
       "_view_count": null,
       "_view_module": "@jupyter-widgets/base",
       "_view_module_version": "1.2.0",
       "_view_name": "LayoutView",
       "align_content": null,
       "align_items": null,
       "align_self": null,
       "border": null,
       "bottom": null,
       "display": null,
       "flex": null,
       "flex_flow": null,
       "grid_area": null,
       "grid_auto_columns": null,
       "grid_auto_flow": null,
       "grid_auto_rows": null,
       "grid_column": null,
       "grid_gap": null,
       "grid_row": null,
       "grid_template_areas": null,
       "grid_template_columns": null,
       "grid_template_rows": null,
       "height": null,
       "justify_content": null,
       "justify_items": null,
       "left": null,
       "margin": null,
       "max_height": null,
       "max_width": null,
       "min_height": null,
       "min_width": null,
       "object_fit": null,
       "object_position": null,
       "order": null,
       "overflow": null,
       "overflow_x": null,
       "overflow_y": null,
       "padding": null,
       "right": null,
       "top": null,
       "visibility": null,
       "width": null
      }
     },
     "406e44abbe664f5b927ade62cc583de4": {
      "model_module": "@jupyter-widgets/base",
      "model_module_version": "1.2.0",
      "model_name": "LayoutModel",
      "state": {
       "_model_module": "@jupyter-widgets/base",
       "_model_module_version": "1.2.0",
       "_model_name": "LayoutModel",
       "_view_count": null,
       "_view_module": "@jupyter-widgets/base",
       "_view_module_version": "1.2.0",
       "_view_name": "LayoutView",
       "align_content": null,
       "align_items": null,
       "align_self": null,
       "border": null,
       "bottom": null,
       "display": null,
       "flex": null,
       "flex_flow": null,
       "grid_area": null,
       "grid_auto_columns": null,
       "grid_auto_flow": null,
       "grid_auto_rows": null,
       "grid_column": null,
       "grid_gap": null,
       "grid_row": null,
       "grid_template_areas": null,
       "grid_template_columns": null,
       "grid_template_rows": null,
       "height": null,
       "justify_content": null,
       "justify_items": null,
       "left": null,
       "margin": null,
       "max_height": null,
       "max_width": null,
       "min_height": null,
       "min_width": null,
       "object_fit": null,
       "object_position": null,
       "order": null,
       "overflow": null,
       "overflow_x": null,
       "overflow_y": null,
       "padding": null,
       "right": null,
       "top": null,
       "visibility": null,
       "width": null
      }
     },
     "442783ca7da947c69fb13677a72c41fb": {
      "model_module": "@jupyter-widgets/base",
      "model_module_version": "1.2.0",
      "model_name": "LayoutModel",
      "state": {
       "_model_module": "@jupyter-widgets/base",
       "_model_module_version": "1.2.0",
       "_model_name": "LayoutModel",
       "_view_count": null,
       "_view_module": "@jupyter-widgets/base",
       "_view_module_version": "1.2.0",
       "_view_name": "LayoutView",
       "align_content": null,
       "align_items": null,
       "align_self": null,
       "border": null,
       "bottom": null,
       "display": null,
       "flex": null,
       "flex_flow": null,
       "grid_area": null,
       "grid_auto_columns": null,
       "grid_auto_flow": null,
       "grid_auto_rows": null,
       "grid_column": null,
       "grid_gap": null,
       "grid_row": null,
       "grid_template_areas": null,
       "grid_template_columns": null,
       "grid_template_rows": null,
       "height": null,
       "justify_content": null,
       "justify_items": null,
       "left": null,
       "margin": null,
       "max_height": null,
       "max_width": null,
       "min_height": null,
       "min_width": null,
       "object_fit": null,
       "object_position": null,
       "order": null,
       "overflow": null,
       "overflow_x": null,
       "overflow_y": null,
       "padding": null,
       "right": null,
       "top": null,
       "visibility": null,
       "width": null
      }
     },
     "4572373c0cac474a97fef1d65ec7bde9": {
      "model_module": "@jupyter-widgets/controls",
      "model_module_version": "1.5.0",
      "model_name": "DescriptionStyleModel",
      "state": {
       "_model_module": "@jupyter-widgets/controls",
       "_model_module_version": "1.5.0",
       "_model_name": "DescriptionStyleModel",
       "_view_count": null,
       "_view_module": "@jupyter-widgets/base",
       "_view_module_version": "1.2.0",
       "_view_name": "StyleView",
       "description_width": ""
      }
     },
     "49ac0712a7bc44bba8dac5595feb3390": {
      "model_module": "@jupyter-widgets/controls",
      "model_module_version": "1.5.0",
      "model_name": "DescriptionStyleModel",
      "state": {
       "_model_module": "@jupyter-widgets/controls",
       "_model_module_version": "1.5.0",
       "_model_name": "DescriptionStyleModel",
       "_view_count": null,
       "_view_module": "@jupyter-widgets/base",
       "_view_module_version": "1.2.0",
       "_view_name": "StyleView",
       "description_width": ""
      }
     },
     "4a0d5d2c4fca4bebb9c749652111a45e": {
      "model_module": "@jupyter-widgets/controls",
      "model_module_version": "1.5.0",
      "model_name": "HBoxModel",
      "state": {
       "_dom_classes": [],
       "_model_module": "@jupyter-widgets/controls",
       "_model_module_version": "1.5.0",
       "_model_name": "HBoxModel",
       "_view_count": null,
       "_view_module": "@jupyter-widgets/controls",
       "_view_module_version": "1.5.0",
       "_view_name": "HBoxView",
       "box_style": "",
       "children": [
        "IPY_MODEL_b90853a7e41f4627872434f03424cd6f",
        "IPY_MODEL_d772a615e5d44913a354ce6035014a06",
        "IPY_MODEL_6cef05dd414f42d39c16ae1da09525cf"
       ],
       "layout": "IPY_MODEL_0e9605ecf62c4b73a12f29ad06c7e06b"
      }
     },
     "57d5cc327a20490cb9864cb66a3896f9": {
      "model_module": "@jupyter-widgets/controls",
      "model_module_version": "1.5.0",
      "model_name": "DescriptionStyleModel",
      "state": {
       "_model_module": "@jupyter-widgets/controls",
       "_model_module_version": "1.5.0",
       "_model_name": "DescriptionStyleModel",
       "_view_count": null,
       "_view_module": "@jupyter-widgets/base",
       "_view_module_version": "1.2.0",
       "_view_name": "StyleView",
       "description_width": ""
      }
     },
     "5cf011a621a84d4ca50a58ef42edaea7": {
      "model_module": "@jupyter-widgets/controls",
      "model_module_version": "1.5.0",
      "model_name": "HBoxModel",
      "state": {
       "_dom_classes": [],
       "_model_module": "@jupyter-widgets/controls",
       "_model_module_version": "1.5.0",
       "_model_name": "HBoxModel",
       "_view_count": null,
       "_view_module": "@jupyter-widgets/controls",
       "_view_module_version": "1.5.0",
       "_view_name": "HBoxView",
       "box_style": "",
       "children": [
        "IPY_MODEL_ffc1caea4c374c228dfc770ecb4aa315",
        "IPY_MODEL_f5722c74b18c4075b42be8996b9ac693",
        "IPY_MODEL_033577fc3ca840888ff508b19fa78df6"
       ],
       "layout": "IPY_MODEL_3f3dd89ee1b04ccf993d495db25ca51c"
      }
     },
     "5e9ebcb098284ebc908cf7b062506b7f": {
      "model_module": "@jupyter-widgets/controls",
      "model_module_version": "1.5.0",
      "model_name": "ProgressStyleModel",
      "state": {
       "_model_module": "@jupyter-widgets/controls",
       "_model_module_version": "1.5.0",
       "_model_name": "ProgressStyleModel",
       "_view_count": null,
       "_view_module": "@jupyter-widgets/base",
       "_view_module_version": "1.2.0",
       "_view_name": "StyleView",
       "bar_color": null,
       "description_width": ""
      }
     },
     "612fc612dc43447096a3f6e2529a98c0": {
      "model_module": "@jupyter-widgets/base",
      "model_module_version": "1.2.0",
      "model_name": "LayoutModel",
      "state": {
       "_model_module": "@jupyter-widgets/base",
       "_model_module_version": "1.2.0",
       "_model_name": "LayoutModel",
       "_view_count": null,
       "_view_module": "@jupyter-widgets/base",
       "_view_module_version": "1.2.0",
       "_view_name": "LayoutView",
       "align_content": null,
       "align_items": null,
       "align_self": null,
       "border": null,
       "bottom": null,
       "display": null,
       "flex": null,
       "flex_flow": null,
       "grid_area": null,
       "grid_auto_columns": null,
       "grid_auto_flow": null,
       "grid_auto_rows": null,
       "grid_column": null,
       "grid_gap": null,
       "grid_row": null,
       "grid_template_areas": null,
       "grid_template_columns": null,
       "grid_template_rows": null,
       "height": null,
       "justify_content": null,
       "justify_items": null,
       "left": null,
       "margin": null,
       "max_height": null,
       "max_width": null,
       "min_height": null,
       "min_width": null,
       "object_fit": null,
       "object_position": null,
       "order": null,
       "overflow": null,
       "overflow_x": null,
       "overflow_y": null,
       "padding": null,
       "right": null,
       "top": null,
       "visibility": null,
       "width": null
      }
     },
     "634c6aeea6aa4a36ab48de323dc46c48": {
      "model_module": "@jupyter-widgets/base",
      "model_module_version": "1.2.0",
      "model_name": "LayoutModel",
      "state": {
       "_model_module": "@jupyter-widgets/base",
       "_model_module_version": "1.2.0",
       "_model_name": "LayoutModel",
       "_view_count": null,
       "_view_module": "@jupyter-widgets/base",
       "_view_module_version": "1.2.0",
       "_view_name": "LayoutView",
       "align_content": null,
       "align_items": null,
       "align_self": null,
       "border": null,
       "bottom": null,
       "display": null,
       "flex": null,
       "flex_flow": null,
       "grid_area": null,
       "grid_auto_columns": null,
       "grid_auto_flow": null,
       "grid_auto_rows": null,
       "grid_column": null,
       "grid_gap": null,
       "grid_row": null,
       "grid_template_areas": null,
       "grid_template_columns": null,
       "grid_template_rows": null,
       "height": null,
       "justify_content": null,
       "justify_items": null,
       "left": null,
       "margin": null,
       "max_height": null,
       "max_width": null,
       "min_height": null,
       "min_width": null,
       "object_fit": null,
       "object_position": null,
       "order": null,
       "overflow": null,
       "overflow_x": null,
       "overflow_y": null,
       "padding": null,
       "right": null,
       "top": null,
       "visibility": null,
       "width": null
      }
     },
     "64860daf03034eb580ba6363325b6557": {
      "model_module": "@jupyter-widgets/controls",
      "model_module_version": "1.5.0",
      "model_name": "FloatProgressModel",
      "state": {
       "_dom_classes": [],
       "_model_module": "@jupyter-widgets/controls",
       "_model_module_version": "1.5.0",
       "_model_name": "FloatProgressModel",
       "_view_count": null,
       "_view_module": "@jupyter-widgets/controls",
       "_view_module_version": "1.5.0",
       "_view_name": "ProgressView",
       "bar_style": "success",
       "description": "",
       "description_tooltip": null,
       "layout": "IPY_MODEL_e9f0883de91e440d81df8a150f97191d",
       "max": 1536.0,
       "min": 0.0,
       "orientation": "horizontal",
       "style": "IPY_MODEL_7b37ba5b92d04962aaa7c39a71d373ab",
       "value": 1536.0
      }
     },
     "6a6fe6cf1d49460d94fc2da3a699c935": {
      "model_module": "@jupyter-widgets/controls",
      "model_module_version": "1.5.0",
      "model_name": "HTMLModel",
      "state": {
       "_dom_classes": [],
       "_model_module": "@jupyter-widgets/controls",
       "_model_module_version": "1.5.0",
       "_model_name": "HTMLModel",
       "_view_count": null,
       "_view_module": "@jupyter-widgets/controls",
       "_view_module_version": "1.5.0",
       "_view_name": "HTMLView",
       "description": "",
       "description_tooltip": null,
       "layout": "IPY_MODEL_de0b865cad554da6bc43f17e9d658409",
       "placeholder": "​",
       "style": "IPY_MODEL_57d5cc327a20490cb9864cb66a3896f9",
       "value": " 26.0/26.0 [00:00&lt;00:00, 984B/s]"
      }
     },
     "6cef05dd414f42d39c16ae1da09525cf": {
      "model_module": "@jupyter-widgets/controls",
      "model_module_version": "1.5.0",
      "model_name": "HTMLModel",
      "state": {
       "_dom_classes": [],
       "_model_module": "@jupyter-widgets/controls",
       "_model_module_version": "1.5.0",
       "_model_name": "HTMLModel",
       "_view_count": null,
       "_view_module": "@jupyter-widgets/controls",
       "_view_module_version": "1.5.0",
       "_view_name": "HTMLView",
       "description": "",
       "description_tooltip": null,
       "layout": "IPY_MODEL_d8f6185efc79464f8069722eb4d41404",
       "placeholder": "​",
       "style": "IPY_MODEL_fb30302fd7cf468ab15a7bee838d84b0",
       "value": " 20/20 [00:49&lt;00:00,  2.45s/ba]"
      }
     },
     "6da4e3d458d745ffb3316ae62b08056b": {
      "model_module": "@jupyter-widgets/controls",
      "model_module_version": "1.5.0",
      "model_name": "DescriptionStyleModel",
      "state": {
       "_model_module": "@jupyter-widgets/controls",
       "_model_module_version": "1.5.0",
       "_model_name": "DescriptionStyleModel",
       "_view_count": null,
       "_view_module": "@jupyter-widgets/base",
       "_view_module_version": "1.2.0",
       "_view_name": "StyleView",
       "description_width": ""
      }
     },
     "701f0b96107f44e6a95c71dcd3814ab5": {
      "model_module": "@jupyter-widgets/base",
      "model_module_version": "1.2.0",
      "model_name": "LayoutModel",
      "state": {
       "_model_module": "@jupyter-widgets/base",
       "_model_module_version": "1.2.0",
       "_model_name": "LayoutModel",
       "_view_count": null,
       "_view_module": "@jupyter-widgets/base",
       "_view_module_version": "1.2.0",
       "_view_name": "LayoutView",
       "align_content": null,
       "align_items": null,
       "align_self": null,
       "border": null,
       "bottom": null,
       "display": null,
       "flex": null,
       "flex_flow": null,
       "grid_area": null,
       "grid_auto_columns": null,
       "grid_auto_flow": null,
       "grid_auto_rows": null,
       "grid_column": null,
       "grid_gap": null,
       "grid_row": null,
       "grid_template_areas": null,
       "grid_template_columns": null,
       "grid_template_rows": null,
       "height": null,
       "justify_content": null,
       "justify_items": null,
       "left": null,
       "margin": null,
       "max_height": null,
       "max_width": null,
       "min_height": null,
       "min_width": null,
       "object_fit": null,
       "object_position": null,
       "order": null,
       "overflow": null,
       "overflow_x": null,
       "overflow_y": null,
       "padding": null,
       "right": null,
       "top": null,
       "visibility": null,
       "width": null
      }
     },
     "7b37ba5b92d04962aaa7c39a71d373ab": {
      "model_module": "@jupyter-widgets/controls",
      "model_module_version": "1.5.0",
      "model_name": "ProgressStyleModel",
      "state": {
       "_model_module": "@jupyter-widgets/controls",
       "_model_module_version": "1.5.0",
       "_model_name": "ProgressStyleModel",
       "_view_count": null,
       "_view_module": "@jupyter-widgets/base",
       "_view_module_version": "1.2.0",
       "_view_name": "StyleView",
       "bar_color": null,
       "description_width": ""
      }
     },
     "7b860d5438c44301bd9131b701f43f39": {
      "model_module": "@jupyter-widgets/controls",
      "model_module_version": "1.5.0",
      "model_name": "ProgressStyleModel",
      "state": {
       "_model_module": "@jupyter-widgets/controls",
       "_model_module_version": "1.5.0",
       "_model_name": "ProgressStyleModel",
       "_view_count": null,
       "_view_module": "@jupyter-widgets/base",
       "_view_module_version": "1.2.0",
       "_view_name": "StyleView",
       "bar_color": null,
       "description_width": ""
      }
     },
     "7eea2e913936495fbf54dc50378ef05b": {
      "model_module": "@jupyter-widgets/controls",
      "model_module_version": "1.5.0",
      "model_name": "DescriptionStyleModel",
      "state": {
       "_model_module": "@jupyter-widgets/controls",
       "_model_module_version": "1.5.0",
       "_model_name": "DescriptionStyleModel",
       "_view_count": null,
       "_view_module": "@jupyter-widgets/base",
       "_view_module_version": "1.2.0",
       "_view_name": "StyleView",
       "description_width": ""
      }
     },
     "81b5c8b53fa6472783b5ef580d2dcd62": {
      "model_module": "@jupyter-widgets/controls",
      "model_module_version": "1.5.0",
      "model_name": "DescriptionStyleModel",
      "state": {
       "_model_module": "@jupyter-widgets/controls",
       "_model_module_version": "1.5.0",
       "_model_name": "DescriptionStyleModel",
       "_view_count": null,
       "_view_module": "@jupyter-widgets/base",
       "_view_module_version": "1.2.0",
       "_view_name": "StyleView",
       "description_width": ""
      }
     },
     "8bdcef72d45c43098ad3e61d524b6f15": {
      "model_module": "@jupyter-widgets/controls",
      "model_module_version": "1.5.0",
      "model_name": "HBoxModel",
      "state": {
       "_dom_classes": [],
       "_model_module": "@jupyter-widgets/controls",
       "_model_module_version": "1.5.0",
       "_model_name": "HBoxModel",
       "_view_count": null,
       "_view_module": "@jupyter-widgets/controls",
       "_view_module_version": "1.5.0",
       "_view_name": "HBoxView",
       "box_style": "",
       "children": [
        "IPY_MODEL_b35a170cf97648aaa98eb2ed471f3c1a",
        "IPY_MODEL_093fde42de6547b38c26967032c72583",
        "IPY_MODEL_aac4cb06ae9f43539ce7a9e641634ee8"
       ],
       "layout": "IPY_MODEL_634c6aeea6aa4a36ab48de323dc46c48"
      }
     },
     "8d106803e9e949e5ad77ba71cafb6509": {
      "model_module": "@jupyter-widgets/base",
      "model_module_version": "1.2.0",
      "model_name": "LayoutModel",
      "state": {
       "_model_module": "@jupyter-widgets/base",
       "_model_module_version": "1.2.0",
       "_model_name": "LayoutModel",
       "_view_count": null,
       "_view_module": "@jupyter-widgets/base",
       "_view_module_version": "1.2.0",
       "_view_name": "LayoutView",
       "align_content": null,
       "align_items": null,
       "align_self": null,
       "border": null,
       "bottom": null,
       "display": null,
       "flex": null,
       "flex_flow": null,
       "grid_area": null,
       "grid_auto_columns": null,
       "grid_auto_flow": null,
       "grid_auto_rows": null,
       "grid_column": null,
       "grid_gap": null,
       "grid_row": null,
       "grid_template_areas": null,
       "grid_template_columns": null,
       "grid_template_rows": null,
       "height": null,
       "justify_content": null,
       "justify_items": null,
       "left": null,
       "margin": null,
       "max_height": null,
       "max_width": null,
       "min_height": null,
       "min_width": null,
       "object_fit": null,
       "object_position": null,
       "order": null,
       "overflow": null,
       "overflow_x": null,
       "overflow_y": null,
       "padding": null,
       "right": null,
       "top": null,
       "visibility": null,
       "width": null
      }
     },
     "8d6c2d0a5c4c48118438ff94f7c3d4c6": {
      "model_module": "@jupyter-widgets/controls",
      "model_module_version": "1.5.0",
      "model_name": "ProgressStyleModel",
      "state": {
       "_model_module": "@jupyter-widgets/controls",
       "_model_module_version": "1.5.0",
       "_model_name": "ProgressStyleModel",
       "_view_count": null,
       "_view_module": "@jupyter-widgets/base",
       "_view_module_version": "1.2.0",
       "_view_name": "StyleView",
       "bar_color": null,
       "description_width": ""
      }
     },
     "8f895ca8485248b2b8881820c8b9700a": {
      "model_module": "@jupyter-widgets/base",
      "model_module_version": "1.2.0",
      "model_name": "LayoutModel",
      "state": {
       "_model_module": "@jupyter-widgets/base",
       "_model_module_version": "1.2.0",
       "_model_name": "LayoutModel",
       "_view_count": null,
       "_view_module": "@jupyter-widgets/base",
       "_view_module_version": "1.2.0",
       "_view_name": "LayoutView",
       "align_content": null,
       "align_items": null,
       "align_self": null,
       "border": null,
       "bottom": null,
       "display": null,
       "flex": null,
       "flex_flow": null,
       "grid_area": null,
       "grid_auto_columns": null,
       "grid_auto_flow": null,
       "grid_auto_rows": null,
       "grid_column": null,
       "grid_gap": null,
       "grid_row": null,
       "grid_template_areas": null,
       "grid_template_columns": null,
       "grid_template_rows": null,
       "height": null,
       "justify_content": null,
       "justify_items": null,
       "left": null,
       "margin": null,
       "max_height": null,
       "max_width": null,
       "min_height": null,
       "min_width": null,
       "object_fit": null,
       "object_position": null,
       "order": null,
       "overflow": null,
       "overflow_x": null,
       "overflow_y": null,
       "padding": null,
       "right": null,
       "top": null,
       "visibility": null,
       "width": null
      }
     },
     "95e94c2613de49358528d310919e710b": {
      "model_module": "@jupyter-widgets/controls",
      "model_module_version": "1.5.0",
      "model_name": "DescriptionStyleModel",
      "state": {
       "_model_module": "@jupyter-widgets/controls",
       "_model_module_version": "1.5.0",
       "_model_name": "DescriptionStyleModel",
       "_view_count": null,
       "_view_module": "@jupyter-widgets/base",
       "_view_module_version": "1.2.0",
       "_view_name": "StyleView",
       "description_width": ""
      }
     },
     "9b2e5a983c444bf8a1b4422ee4a3c162": {
      "model_module": "@jupyter-widgets/base",
      "model_module_version": "1.2.0",
      "model_name": "LayoutModel",
      "state": {
       "_model_module": "@jupyter-widgets/base",
       "_model_module_version": "1.2.0",
       "_model_name": "LayoutModel",
       "_view_count": null,
       "_view_module": "@jupyter-widgets/base",
       "_view_module_version": "1.2.0",
       "_view_name": "LayoutView",
       "align_content": null,
       "align_items": null,
       "align_self": null,
       "border": null,
       "bottom": null,
       "display": null,
       "flex": null,
       "flex_flow": null,
       "grid_area": null,
       "grid_auto_columns": null,
       "grid_auto_flow": null,
       "grid_auto_rows": null,
       "grid_column": null,
       "grid_gap": null,
       "grid_row": null,
       "grid_template_areas": null,
       "grid_template_columns": null,
       "grid_template_rows": null,
       "height": null,
       "justify_content": null,
       "justify_items": null,
       "left": null,
       "margin": null,
       "max_height": null,
       "max_width": null,
       "min_height": null,
       "min_width": null,
       "object_fit": null,
       "object_position": null,
       "order": null,
       "overflow": null,
       "overflow_x": null,
       "overflow_y": null,
       "padding": null,
       "right": null,
       "top": null,
       "visibility": null,
       "width": null
      }
     },
     "9bd76478268445769ff1a8610fcb8ff2": {
      "model_module": "@jupyter-widgets/controls",
      "model_module_version": "1.5.0",
      "model_name": "DescriptionStyleModel",
      "state": {
       "_model_module": "@jupyter-widgets/controls",
       "_model_module_version": "1.5.0",
       "_model_name": "DescriptionStyleModel",
       "_view_count": null,
       "_view_module": "@jupyter-widgets/base",
       "_view_module_version": "1.2.0",
       "_view_name": "StyleView",
       "description_width": ""
      }
     },
     "9d403c719031456cb4851655dc52eba2": {
      "model_module": "@jupyter-widgets/controls",
      "model_module_version": "1.5.0",
      "model_name": "HTMLModel",
      "state": {
       "_dom_classes": [],
       "_model_module": "@jupyter-widgets/controls",
       "_model_module_version": "1.5.0",
       "_model_name": "HTMLModel",
       "_view_count": null,
       "_view_module": "@jupyter-widgets/controls",
       "_view_module_version": "1.5.0",
       "_view_name": "HTMLView",
       "description": "",
       "description_tooltip": null,
       "layout": "IPY_MODEL_442783ca7da947c69fb13677a72c41fb",
       "placeholder": "​",
       "style": "IPY_MODEL_190c89d69d5e4a0c8d04e904dd6ff2ea",
       "value": " 1.50k/1.50k [00:00&lt;00:00, 60.7kB/s]"
      }
     },
     "a05bade732bb4dceba51c05e5bd7d6aa": {
      "model_module": "@jupyter-widgets/controls",
      "model_module_version": "1.5.0",
      "model_name": "HBoxModel",
      "state": {
       "_dom_classes": [],
       "_model_module": "@jupyter-widgets/controls",
       "_model_module_version": "1.5.0",
       "_model_name": "HBoxModel",
       "_view_count": null,
       "_view_module": "@jupyter-widgets/controls",
       "_view_module_version": "1.5.0",
       "_view_name": "HBoxView",
       "box_style": "",
       "children": [
        "IPY_MODEL_dbcc793c59d647208333a2d2aaf9bd1b",
        "IPY_MODEL_64860daf03034eb580ba6363325b6557",
        "IPY_MODEL_9d403c719031456cb4851655dc52eba2"
       ],
       "layout": "IPY_MODEL_406e44abbe664f5b927ade62cc583de4"
      }
     },
     "a5403c658b9246eea49ad913fc987182": {
      "model_module": "@jupyter-widgets/base",
      "model_module_version": "1.2.0",
      "model_name": "LayoutModel",
      "state": {
       "_model_module": "@jupyter-widgets/base",
       "_model_module_version": "1.2.0",
       "_model_name": "LayoutModel",
       "_view_count": null,
       "_view_module": "@jupyter-widgets/base",
       "_view_module_version": "1.2.0",
       "_view_name": "LayoutView",
       "align_content": null,
       "align_items": null,
       "align_self": null,
       "border": null,
       "bottom": null,
       "display": null,
       "flex": null,
       "flex_flow": null,
       "grid_area": null,
       "grid_auto_columns": null,
       "grid_auto_flow": null,
       "grid_auto_rows": null,
       "grid_column": null,
       "grid_gap": null,
       "grid_row": null,
       "grid_template_areas": null,
       "grid_template_columns": null,
       "grid_template_rows": null,
       "height": null,
       "justify_content": null,
       "justify_items": null,
       "left": null,
       "margin": null,
       "max_height": null,
       "max_width": null,
       "min_height": null,
       "min_width": null,
       "object_fit": null,
       "object_position": null,
       "order": null,
       "overflow": null,
       "overflow_x": null,
       "overflow_y": null,
       "padding": null,
       "right": null,
       "top": null,
       "visibility": null,
       "width": null
      }
     },
     "aac4cb06ae9f43539ce7a9e641634ee8": {
      "model_module": "@jupyter-widgets/controls",
      "model_module_version": "1.5.0",
      "model_name": "HTMLModel",
      "state": {
       "_dom_classes": [],
       "_model_module": "@jupyter-widgets/controls",
       "_model_module_version": "1.5.0",
       "_model_name": "HTMLModel",
       "_view_count": null,
       "_view_module": "@jupyter-widgets/controls",
       "_view_module_version": "1.5.0",
       "_view_name": "HTMLView",
       "description": "",
       "description_tooltip": null,
       "layout": "IPY_MODEL_e999fcd9eb4e45a39a7d02fee228e765",
       "placeholder": "​",
       "style": "IPY_MODEL_6da4e3d458d745ffb3316ae62b08056b",
       "value": " 446k/446k [00:00&lt;00:00, 654kB/s]"
      }
     },
     "b35a170cf97648aaa98eb2ed471f3c1a": {
      "model_module": "@jupyter-widgets/controls",
      "model_module_version": "1.5.0",
      "model_name": "HTMLModel",
      "state": {
       "_dom_classes": [],
       "_model_module": "@jupyter-widgets/controls",
       "_model_module_version": "1.5.0",
       "_model_name": "HTMLModel",
       "_view_count": null,
       "_view_module": "@jupyter-widgets/controls",
       "_view_module_version": "1.5.0",
       "_view_name": "HTMLView",
       "description": "",
       "description_tooltip": null,
       "layout": "IPY_MODEL_701f0b96107f44e6a95c71dcd3814ab5",
       "placeholder": "​",
       "style": "IPY_MODEL_7eea2e913936495fbf54dc50378ef05b",
       "value": "Downloading: 100%"
      }
     },
     "b4d66e6adf7749b1b319f0514891fc02": {
      "model_module": "@jupyter-widgets/base",
      "model_module_version": "1.2.0",
      "model_name": "LayoutModel",
      "state": {
       "_model_module": "@jupyter-widgets/base",
       "_model_module_version": "1.2.0",
       "_model_name": "LayoutModel",
       "_view_count": null,
       "_view_module": "@jupyter-widgets/base",
       "_view_module_version": "1.2.0",
       "_view_name": "LayoutView",
       "align_content": null,
       "align_items": null,
       "align_self": null,
       "border": null,
       "bottom": null,
       "display": null,
       "flex": null,
       "flex_flow": null,
       "grid_area": null,
       "grid_auto_columns": null,
       "grid_auto_flow": null,
       "grid_auto_rows": null,
       "grid_column": null,
       "grid_gap": null,
       "grid_row": null,
       "grid_template_areas": null,
       "grid_template_columns": null,
       "grid_template_rows": null,
       "height": null,
       "justify_content": null,
       "justify_items": null,
       "left": null,
       "margin": null,
       "max_height": null,
       "max_width": null,
       "min_height": null,
       "min_width": null,
       "object_fit": null,
       "object_position": null,
       "order": null,
       "overflow": null,
       "overflow_x": null,
       "overflow_y": null,
       "padding": null,
       "right": null,
       "top": null,
       "visibility": null,
       "width": null
      }
     },
     "b4f8854417da403b959ee1ac285c238c": {
      "model_module": "@jupyter-widgets/base",
      "model_module_version": "1.2.0",
      "model_name": "LayoutModel",
      "state": {
       "_model_module": "@jupyter-widgets/base",
       "_model_module_version": "1.2.0",
       "_model_name": "LayoutModel",
       "_view_count": null,
       "_view_module": "@jupyter-widgets/base",
       "_view_module_version": "1.2.0",
       "_view_name": "LayoutView",
       "align_content": null,
       "align_items": null,
       "align_self": null,
       "border": null,
       "bottom": null,
       "display": null,
       "flex": null,
       "flex_flow": null,
       "grid_area": null,
       "grid_auto_columns": null,
       "grid_auto_flow": null,
       "grid_auto_rows": null,
       "grid_column": null,
       "grid_gap": null,
       "grid_row": null,
       "grid_template_areas": null,
       "grid_template_columns": null,
       "grid_template_rows": null,
       "height": null,
       "justify_content": null,
       "justify_items": null,
       "left": null,
       "margin": null,
       "max_height": null,
       "max_width": null,
       "min_height": null,
       "min_width": null,
       "object_fit": null,
       "object_position": null,
       "order": null,
       "overflow": null,
       "overflow_x": null,
       "overflow_y": null,
       "padding": null,
       "right": null,
       "top": null,
       "visibility": null,
       "width": null
      }
     },
     "b90853a7e41f4627872434f03424cd6f": {
      "model_module": "@jupyter-widgets/controls",
      "model_module_version": "1.5.0",
      "model_name": "HTMLModel",
      "state": {
       "_dom_classes": [],
       "_model_module": "@jupyter-widgets/controls",
       "_model_module_version": "1.5.0",
       "_model_name": "HTMLModel",
       "_view_count": null,
       "_view_module": "@jupyter-widgets/controls",
       "_view_module_version": "1.5.0",
       "_view_name": "HTMLView",
       "description": "",
       "description_tooltip": null,
       "layout": "IPY_MODEL_33615062097d4d0c909b455728070295",
       "placeholder": "​",
       "style": "IPY_MODEL_c19e9af9a3c9413eabc2985872ff6168",
       "value": "100%"
      }
     },
     "bd66e490580f47f28496b2ca226f9821": {
      "model_module": "@jupyter-widgets/base",
      "model_module_version": "1.2.0",
      "model_name": "LayoutModel",
      "state": {
       "_model_module": "@jupyter-widgets/base",
       "_model_module_version": "1.2.0",
       "_model_name": "LayoutModel",
       "_view_count": null,
       "_view_module": "@jupyter-widgets/base",
       "_view_module_version": "1.2.0",
       "_view_name": "LayoutView",
       "align_content": null,
       "align_items": null,
       "align_self": null,
       "border": null,
       "bottom": null,
       "display": null,
       "flex": null,
       "flex_flow": null,
       "grid_area": null,
       "grid_auto_columns": null,
       "grid_auto_flow": null,
       "grid_auto_rows": null,
       "grid_column": null,
       "grid_gap": null,
       "grid_row": null,
       "grid_template_areas": null,
       "grid_template_columns": null,
       "grid_template_rows": null,
       "height": null,
       "justify_content": null,
       "justify_items": null,
       "left": null,
       "margin": null,
       "max_height": null,
       "max_width": null,
       "min_height": null,
       "min_width": null,
       "object_fit": null,
       "object_position": null,
       "order": null,
       "overflow": null,
       "overflow_x": null,
       "overflow_y": null,
       "padding": null,
       "right": null,
       "top": null,
       "visibility": null,
       "width": null
      }
     },
     "c03cbfbbda76445b9b077c39c0ffa260": {
      "model_module": "@jupyter-widgets/controls",
      "model_module_version": "1.5.0",
      "model_name": "FloatProgressModel",
      "state": {
       "_dom_classes": [],
       "_model_module": "@jupyter-widgets/controls",
       "_model_module_version": "1.5.0",
       "_model_name": "FloatProgressModel",
       "_view_count": null,
       "_view_module": "@jupyter-widgets/controls",
       "_view_module_version": "1.5.0",
       "_view_name": "ProgressView",
       "bar_style": "success",
       "description": "",
       "description_tooltip": null,
       "layout": "IPY_MODEL_cd7f7ef991204a5aae0a3c863d48ab8d",
       "max": 26.0,
       "min": 0.0,
       "orientation": "horizontal",
       "style": "IPY_MODEL_5e9ebcb098284ebc908cf7b062506b7f",
       "value": 26.0
      }
     },
     "c0e35bb43aa24d6a983ec39828bf1d99": {
      "model_module": "@jupyter-widgets/controls",
      "model_module_version": "1.5.0",
      "model_name": "HBoxModel",
      "state": {
       "_dom_classes": [],
       "_model_module": "@jupyter-widgets/controls",
       "_model_module_version": "1.5.0",
       "_model_name": "HBoxModel",
       "_view_count": null,
       "_view_module": "@jupyter-widgets/controls",
       "_view_module_version": "1.5.0",
       "_view_name": "HBoxView",
       "box_style": "",
       "children": [
        "IPY_MODEL_ca040634256345e3b83a16b402d33b14",
        "IPY_MODEL_f86b0f91efa245d7976d24713a8e5277",
        "IPY_MODEL_0021014ed41d4f66aeba852feee69b70"
       ],
       "layout": "IPY_MODEL_9b2e5a983c444bf8a1b4422ee4a3c162"
      }
     },
     "c13f266cfd014cc3b906267781a69a4c": {
      "model_module": "@jupyter-widgets/base",
      "model_module_version": "1.2.0",
      "model_name": "LayoutModel",
      "state": {
       "_model_module": "@jupyter-widgets/base",
       "_model_module_version": "1.2.0",
       "_model_name": "LayoutModel",
       "_view_count": null,
       "_view_module": "@jupyter-widgets/base",
       "_view_module_version": "1.2.0",
       "_view_name": "LayoutView",
       "align_content": null,
       "align_items": null,
       "align_self": null,
       "border": null,
       "bottom": null,
       "display": null,
       "flex": null,
       "flex_flow": null,
       "grid_area": null,
       "grid_auto_columns": null,
       "grid_auto_flow": null,
       "grid_auto_rows": null,
       "grid_column": null,
       "grid_gap": null,
       "grid_row": null,
       "grid_template_areas": null,
       "grid_template_columns": null,
       "grid_template_rows": null,
       "height": null,
       "justify_content": null,
       "justify_items": null,
       "left": null,
       "margin": null,
       "max_height": null,
       "max_width": null,
       "min_height": null,
       "min_width": null,
       "object_fit": null,
       "object_position": null,
       "order": null,
       "overflow": null,
       "overflow_x": null,
       "overflow_y": null,
       "padding": null,
       "right": null,
       "top": null,
       "visibility": null,
       "width": null
      }
     },
     "c19e9af9a3c9413eabc2985872ff6168": {
      "model_module": "@jupyter-widgets/controls",
      "model_module_version": "1.5.0",
      "model_name": "DescriptionStyleModel",
      "state": {
       "_model_module": "@jupyter-widgets/controls",
       "_model_module_version": "1.5.0",
       "_model_name": "DescriptionStyleModel",
       "_view_count": null,
       "_view_module": "@jupyter-widgets/base",
       "_view_module_version": "1.2.0",
       "_view_name": "StyleView",
       "description_width": ""
      }
     },
     "c3b97e3a611e480887df219cedb73d8e": {
      "model_module": "@jupyter-widgets/controls",
      "model_module_version": "1.5.0",
      "model_name": "DescriptionStyleModel",
      "state": {
       "_model_module": "@jupyter-widgets/controls",
       "_model_module_version": "1.5.0",
       "_model_name": "DescriptionStyleModel",
       "_view_count": null,
       "_view_module": "@jupyter-widgets/base",
       "_view_module_version": "1.2.0",
       "_view_name": "StyleView",
       "description_width": ""
      }
     },
     "ca040634256345e3b83a16b402d33b14": {
      "model_module": "@jupyter-widgets/controls",
      "model_module_version": "1.5.0",
      "model_name": "HTMLModel",
      "state": {
       "_dom_classes": [],
       "_model_module": "@jupyter-widgets/controls",
       "_model_module_version": "1.5.0",
       "_model_name": "HTMLModel",
       "_view_count": null,
       "_view_module": "@jupyter-widgets/controls",
       "_view_module_version": "1.5.0",
       "_view_name": "HTMLView",
       "description": "",
       "description_tooltip": null,
       "layout": "IPY_MODEL_d71e858c9b5640c39b735298485e98b0",
       "placeholder": "​",
       "style": "IPY_MODEL_49ac0712a7bc44bba8dac5595feb3390",
       "value": "Downloading: 100%"
      }
     },
     "cd7f7ef991204a5aae0a3c863d48ab8d": {
      "model_module": "@jupyter-widgets/base",
      "model_module_version": "1.2.0",
      "model_name": "LayoutModel",
      "state": {
       "_model_module": "@jupyter-widgets/base",
       "_model_module_version": "1.2.0",
       "_model_name": "LayoutModel",
       "_view_count": null,
       "_view_module": "@jupyter-widgets/base",
       "_view_module_version": "1.2.0",
       "_view_name": "LayoutView",
       "align_content": null,
       "align_items": null,
       "align_self": null,
       "border": null,
       "bottom": null,
       "display": null,
       "flex": null,
       "flex_flow": null,
       "grid_area": null,
       "grid_auto_columns": null,
       "grid_auto_flow": null,
       "grid_auto_rows": null,
       "grid_column": null,
       "grid_gap": null,
       "grid_row": null,
       "grid_template_areas": null,
       "grid_template_columns": null,
       "grid_template_rows": null,
       "height": null,
       "justify_content": null,
       "justify_items": null,
       "left": null,
       "margin": null,
       "max_height": null,
       "max_width": null,
       "min_height": null,
       "min_width": null,
       "object_fit": null,
       "object_position": null,
       "order": null,
       "overflow": null,
       "overflow_x": null,
       "overflow_y": null,
       "padding": null,
       "right": null,
       "top": null,
       "visibility": null,
       "width": null
      }
     },
     "d1a4c6a2ff344b90a255318bb24f0505": {
      "model_module": "@jupyter-widgets/controls",
      "model_module_version": "1.5.0",
      "model_name": "ProgressStyleModel",
      "state": {
       "_model_module": "@jupyter-widgets/controls",
       "_model_module_version": "1.5.0",
       "_model_name": "ProgressStyleModel",
       "_view_count": null,
       "_view_module": "@jupyter-widgets/base",
       "_view_module_version": "1.2.0",
       "_view_name": "StyleView",
       "bar_color": null,
       "description_width": ""
      }
     },
     "d37b01ff8a514365ae328a99bdc6fe68": {
      "model_module": "@jupyter-widgets/controls",
      "model_module_version": "1.5.0",
      "model_name": "ProgressStyleModel",
      "state": {
       "_model_module": "@jupyter-widgets/controls",
       "_model_module_version": "1.5.0",
       "_model_name": "ProgressStyleModel",
       "_view_count": null,
       "_view_module": "@jupyter-widgets/base",
       "_view_module_version": "1.2.0",
       "_view_name": "StyleView",
       "bar_color": null,
       "description_width": ""
      }
     },
     "d71e858c9b5640c39b735298485e98b0": {
      "model_module": "@jupyter-widgets/base",
      "model_module_version": "1.2.0",
      "model_name": "LayoutModel",
      "state": {
       "_model_module": "@jupyter-widgets/base",
       "_model_module_version": "1.2.0",
       "_model_name": "LayoutModel",
       "_view_count": null,
       "_view_module": "@jupyter-widgets/base",
       "_view_module_version": "1.2.0",
       "_view_name": "LayoutView",
       "align_content": null,
       "align_items": null,
       "align_self": null,
       "border": null,
       "bottom": null,
       "display": null,
       "flex": null,
       "flex_flow": null,
       "grid_area": null,
       "grid_auto_columns": null,
       "grid_auto_flow": null,
       "grid_auto_rows": null,
       "grid_column": null,
       "grid_gap": null,
       "grid_row": null,
       "grid_template_areas": null,
       "grid_template_columns": null,
       "grid_template_rows": null,
       "height": null,
       "justify_content": null,
       "justify_items": null,
       "left": null,
       "margin": null,
       "max_height": null,
       "max_width": null,
       "min_height": null,
       "min_width": null,
       "object_fit": null,
       "object_position": null,
       "order": null,
       "overflow": null,
       "overflow_x": null,
       "overflow_y": null,
       "padding": null,
       "right": null,
       "top": null,
       "visibility": null,
       "width": null
      }
     },
     "d772a615e5d44913a354ce6035014a06": {
      "model_module": "@jupyter-widgets/controls",
      "model_module_version": "1.5.0",
      "model_name": "FloatProgressModel",
      "state": {
       "_dom_classes": [],
       "_model_module": "@jupyter-widgets/controls",
       "_model_module_version": "1.5.0",
       "_model_name": "FloatProgressModel",
       "_view_count": null,
       "_view_module": "@jupyter-widgets/controls",
       "_view_module_version": "1.5.0",
       "_view_name": "ProgressView",
       "bar_style": "success",
       "description": "",
       "description_tooltip": null,
       "layout": "IPY_MODEL_2ce89fb43b90462fa293adeb7c70941e",
       "max": 20.0,
       "min": 0.0,
       "orientation": "horizontal",
       "style": "IPY_MODEL_d1a4c6a2ff344b90a255318bb24f0505",
       "value": 20.0
      }
     },
     "d8f6185efc79464f8069722eb4d41404": {
      "model_module": "@jupyter-widgets/base",
      "model_module_version": "1.2.0",
      "model_name": "LayoutModel",
      "state": {
       "_model_module": "@jupyter-widgets/base",
       "_model_module_version": "1.2.0",
       "_model_name": "LayoutModel",
       "_view_count": null,
       "_view_module": "@jupyter-widgets/base",
       "_view_module_version": "1.2.0",
       "_view_name": "LayoutView",
       "align_content": null,
       "align_items": null,
       "align_self": null,
       "border": null,
       "bottom": null,
       "display": null,
       "flex": null,
       "flex_flow": null,
       "grid_area": null,
       "grid_auto_columns": null,
       "grid_auto_flow": null,
       "grid_auto_rows": null,
       "grid_column": null,
       "grid_gap": null,
       "grid_row": null,
       "grid_template_areas": null,
       "grid_template_columns": null,
       "grid_template_rows": null,
       "height": null,
       "justify_content": null,
       "justify_items": null,
       "left": null,
       "margin": null,
       "max_height": null,
       "max_width": null,
       "min_height": null,
       "min_width": null,
       "object_fit": null,
       "object_position": null,
       "order": null,
       "overflow": null,
       "overflow_x": null,
       "overflow_y": null,
       "padding": null,
       "right": null,
       "top": null,
       "visibility": null,
       "width": null
      }
     },
     "d91de45b806e4bdab2c15639e713fed7": {
      "model_module": "@jupyter-widgets/base",
      "model_module_version": "1.2.0",
      "model_name": "LayoutModel",
      "state": {
       "_model_module": "@jupyter-widgets/base",
       "_model_module_version": "1.2.0",
       "_model_name": "LayoutModel",
       "_view_count": null,
       "_view_module": "@jupyter-widgets/base",
       "_view_module_version": "1.2.0",
       "_view_name": "LayoutView",
       "align_content": null,
       "align_items": null,
       "align_self": null,
       "border": null,
       "bottom": null,
       "display": null,
       "flex": null,
       "flex_flow": null,
       "grid_area": null,
       "grid_auto_columns": null,
       "grid_auto_flow": null,
       "grid_auto_rows": null,
       "grid_column": null,
       "grid_gap": null,
       "grid_row": null,
       "grid_template_areas": null,
       "grid_template_columns": null,
       "grid_template_rows": null,
       "height": null,
       "justify_content": null,
       "justify_items": null,
       "left": null,
       "margin": null,
       "max_height": null,
       "max_width": null,
       "min_height": null,
       "min_width": null,
       "object_fit": null,
       "object_position": null,
       "order": null,
       "overflow": null,
       "overflow_x": null,
       "overflow_y": null,
       "padding": null,
       "right": null,
       "top": null,
       "visibility": null,
       "width": null
      }
     },
     "d960606dcbef4cdbb8b39a32e6949bbd": {
      "model_module": "@jupyter-widgets/controls",
      "model_module_version": "1.5.0",
      "model_name": "HTMLModel",
      "state": {
       "_dom_classes": [],
       "_model_module": "@jupyter-widgets/controls",
       "_model_module_version": "1.5.0",
       "_model_name": "HTMLModel",
       "_view_count": null,
       "_view_module": "@jupyter-widgets/controls",
       "_view_module_version": "1.5.0",
       "_view_name": "HTMLView",
       "description": "",
       "description_tooltip": null,
       "layout": "IPY_MODEL_b4f8854417da403b959ee1ac285c238c",
       "placeholder": "​",
       "style": "IPY_MODEL_c3b97e3a611e480887df219cedb73d8e",
       "value": "Downloading: 100%"
      }
     },
     "dbcc793c59d647208333a2d2aaf9bd1b": {
      "model_module": "@jupyter-widgets/controls",
      "model_module_version": "1.5.0",
      "model_name": "HTMLModel",
      "state": {
       "_dom_classes": [],
       "_model_module": "@jupyter-widgets/controls",
       "_model_module_version": "1.5.0",
       "_model_name": "HTMLModel",
       "_view_count": null,
       "_view_module": "@jupyter-widgets/controls",
       "_view_module_version": "1.5.0",
       "_view_name": "HTMLView",
       "description": "",
       "description_tooltip": null,
       "layout": "IPY_MODEL_c13f266cfd014cc3b906267781a69a4c",
       "placeholder": "​",
       "style": "IPY_MODEL_e088a6c7b22e450da91d9103e2221021",
       "value": "Downloading: 100%"
      }
     },
     "de0b865cad554da6bc43f17e9d658409": {
      "model_module": "@jupyter-widgets/base",
      "model_module_version": "1.2.0",
      "model_name": "LayoutModel",
      "state": {
       "_model_module": "@jupyter-widgets/base",
       "_model_module_version": "1.2.0",
       "_model_name": "LayoutModel",
       "_view_count": null,
       "_view_module": "@jupyter-widgets/base",
       "_view_module_version": "1.2.0",
       "_view_name": "LayoutView",
       "align_content": null,
       "align_items": null,
       "align_self": null,
       "border": null,
       "bottom": null,
       "display": null,
       "flex": null,
       "flex_flow": null,
       "grid_area": null,
       "grid_auto_columns": null,
       "grid_auto_flow": null,
       "grid_auto_rows": null,
       "grid_column": null,
       "grid_gap": null,
       "grid_row": null,
       "grid_template_areas": null,
       "grid_template_columns": null,
       "grid_template_rows": null,
       "height": null,
       "justify_content": null,
       "justify_items": null,
       "left": null,
       "margin": null,
       "max_height": null,
       "max_width": null,
       "min_height": null,
       "min_width": null,
       "object_fit": null,
       "object_position": null,
       "order": null,
       "overflow": null,
       "overflow_x": null,
       "overflow_y": null,
       "padding": null,
       "right": null,
       "top": null,
       "visibility": null,
       "width": null
      }
     },
     "e088a6c7b22e450da91d9103e2221021": {
      "model_module": "@jupyter-widgets/controls",
      "model_module_version": "1.5.0",
      "model_name": "DescriptionStyleModel",
      "state": {
       "_model_module": "@jupyter-widgets/controls",
       "_model_module_version": "1.5.0",
       "_model_name": "DescriptionStyleModel",
       "_view_count": null,
       "_view_module": "@jupyter-widgets/base",
       "_view_module_version": "1.2.0",
       "_view_name": "StyleView",
       "description_width": ""
      }
     },
     "e999fcd9eb4e45a39a7d02fee228e765": {
      "model_module": "@jupyter-widgets/base",
      "model_module_version": "1.2.0",
      "model_name": "LayoutModel",
      "state": {
       "_model_module": "@jupyter-widgets/base",
       "_model_module_version": "1.2.0",
       "_model_name": "LayoutModel",
       "_view_count": null,
       "_view_module": "@jupyter-widgets/base",
       "_view_module_version": "1.2.0",
       "_view_name": "LayoutView",
       "align_content": null,
       "align_items": null,
       "align_self": null,
       "border": null,
       "bottom": null,
       "display": null,
       "flex": null,
       "flex_flow": null,
       "grid_area": null,
       "grid_auto_columns": null,
       "grid_auto_flow": null,
       "grid_auto_rows": null,
       "grid_column": null,
       "grid_gap": null,
       "grid_row": null,
       "grid_template_areas": null,
       "grid_template_columns": null,
       "grid_template_rows": null,
       "height": null,
       "justify_content": null,
       "justify_items": null,
       "left": null,
       "margin": null,
       "max_height": null,
       "max_width": null,
       "min_height": null,
       "min_width": null,
       "object_fit": null,
       "object_position": null,
       "order": null,
       "overflow": null,
       "overflow_x": null,
       "overflow_y": null,
       "padding": null,
       "right": null,
       "top": null,
       "visibility": null,
       "width": null
      }
     },
     "e9f0883de91e440d81df8a150f97191d": {
      "model_module": "@jupyter-widgets/base",
      "model_module_version": "1.2.0",
      "model_name": "LayoutModel",
      "state": {
       "_model_module": "@jupyter-widgets/base",
       "_model_module_version": "1.2.0",
       "_model_name": "LayoutModel",
       "_view_count": null,
       "_view_module": "@jupyter-widgets/base",
       "_view_module_version": "1.2.0",
       "_view_name": "LayoutView",
       "align_content": null,
       "align_items": null,
       "align_self": null,
       "border": null,
       "bottom": null,
       "display": null,
       "flex": null,
       "flex_flow": null,
       "grid_area": null,
       "grid_auto_columns": null,
       "grid_auto_flow": null,
       "grid_auto_rows": null,
       "grid_column": null,
       "grid_gap": null,
       "grid_row": null,
       "grid_template_areas": null,
       "grid_template_columns": null,
       "grid_template_rows": null,
       "height": null,
       "justify_content": null,
       "justify_items": null,
       "left": null,
       "margin": null,
       "max_height": null,
       "max_width": null,
       "min_height": null,
       "min_width": null,
       "object_fit": null,
       "object_position": null,
       "order": null,
       "overflow": null,
       "overflow_x": null,
       "overflow_y": null,
       "padding": null,
       "right": null,
       "top": null,
       "visibility": null,
       "width": null
      }
     },
     "eb2a876fed6144c187c05b90d44f9beb": {
      "model_module": "@jupyter-widgets/controls",
      "model_module_version": "1.5.0",
      "model_name": "DescriptionStyleModel",
      "state": {
       "_model_module": "@jupyter-widgets/controls",
       "_model_module_version": "1.5.0",
       "_model_name": "DescriptionStyleModel",
       "_view_count": null,
       "_view_module": "@jupyter-widgets/base",
       "_view_module_version": "1.2.0",
       "_view_name": "StyleView",
       "description_width": ""
      }
     },
     "edc617a4688d4f0a9d0ed3c089205d19": {
      "model_module": "@jupyter-widgets/base",
      "model_module_version": "1.2.0",
      "model_name": "LayoutModel",
      "state": {
       "_model_module": "@jupyter-widgets/base",
       "_model_module_version": "1.2.0",
       "_model_name": "LayoutModel",
       "_view_count": null,
       "_view_module": "@jupyter-widgets/base",
       "_view_module_version": "1.2.0",
       "_view_name": "LayoutView",
       "align_content": null,
       "align_items": null,
       "align_self": null,
       "border": null,
       "bottom": null,
       "display": null,
       "flex": null,
       "flex_flow": null,
       "grid_area": null,
       "grid_auto_columns": null,
       "grid_auto_flow": null,
       "grid_auto_rows": null,
       "grid_column": null,
       "grid_gap": null,
       "grid_row": null,
       "grid_template_areas": null,
       "grid_template_columns": null,
       "grid_template_rows": null,
       "height": null,
       "justify_content": null,
       "justify_items": null,
       "left": null,
       "margin": null,
       "max_height": null,
       "max_width": null,
       "min_height": null,
       "min_width": null,
       "object_fit": null,
       "object_position": null,
       "order": null,
       "overflow": null,
       "overflow_x": null,
       "overflow_y": null,
       "padding": null,
       "right": null,
       "top": null,
       "visibility": null,
       "width": null
      }
     },
     "ee25719a76f848a4950e930655ac57a1": {
      "model_module": "@jupyter-widgets/controls",
      "model_module_version": "1.5.0",
      "model_name": "HTMLModel",
      "state": {
       "_dom_classes": [],
       "_model_module": "@jupyter-widgets/controls",
       "_model_module_version": "1.5.0",
       "_model_name": "HTMLModel",
       "_view_count": null,
       "_view_module": "@jupyter-widgets/controls",
       "_view_module_version": "1.5.0",
       "_view_name": "HTMLView",
       "description": "",
       "description_tooltip": null,
       "layout": "IPY_MODEL_bd66e490580f47f28496b2ca226f9821",
       "placeholder": "​",
       "style": "IPY_MODEL_81b5c8b53fa6472783b5ef580d2dcd62",
       "value": " 878k/878k [00:01&lt;00:00, 1.23MB/s]"
      }
     },
     "f5722c74b18c4075b42be8996b9ac693": {
      "model_module": "@jupyter-widgets/controls",
      "model_module_version": "1.5.0",
      "model_name": "FloatProgressModel",
      "state": {
       "_dom_classes": [],
       "_model_module": "@jupyter-widgets/controls",
       "_model_module_version": "1.5.0",
       "_model_name": "FloatProgressModel",
       "_view_count": null,
       "_view_module": "@jupyter-widgets/controls",
       "_view_module_version": "1.5.0",
       "_view_name": "ProgressView",
       "bar_style": "success",
       "description": "",
       "description_tooltip": null,
       "layout": "IPY_MODEL_b4d66e6adf7749b1b319f0514891fc02",
       "max": 1.0,
       "min": 0.0,
       "orientation": "horizontal",
       "style": "IPY_MODEL_8d6c2d0a5c4c48118438ff94f7c3d4c6",
       "value": 1.0
      }
     },
     "f86b0f91efa245d7976d24713a8e5277": {
      "model_module": "@jupyter-widgets/controls",
      "model_module_version": "1.5.0",
      "model_name": "FloatProgressModel",
      "state": {
       "_dom_classes": [],
       "_model_module": "@jupyter-widgets/controls",
       "_model_module_version": "1.5.0",
       "_model_name": "FloatProgressModel",
       "_view_count": null,
       "_view_module": "@jupyter-widgets/controls",
       "_view_module_version": "1.5.0",
       "_view_name": "ProgressView",
       "bar_style": "success",
       "description": "",
       "description_tooltip": null,
       "layout": "IPY_MODEL_edc617a4688d4f0a9d0ed3c089205d19",
       "max": 535612887.0,
       "min": 0.0,
       "orientation": "horizontal",
       "style": "IPY_MODEL_7b860d5438c44301bd9131b701f43f39",
       "value": 535612887.0
      }
     },
     "fb30302fd7cf468ab15a7bee838d84b0": {
      "model_module": "@jupyter-widgets/controls",
      "model_module_version": "1.5.0",
      "model_name": "DescriptionStyleModel",
      "state": {
       "_model_module": "@jupyter-widgets/controls",
       "_model_module_version": "1.5.0",
       "_model_name": "DescriptionStyleModel",
       "_view_count": null,
       "_view_module": "@jupyter-widgets/base",
       "_view_module_version": "1.2.0",
       "_view_name": "StyleView",
       "description_width": ""
      }
     },
     "fe4ea658f0704b55befda2bab78c0ffa": {
      "model_module": "@jupyter-widgets/controls",
      "model_module_version": "1.5.0",
      "model_name": "HBoxModel",
      "state": {
       "_dom_classes": [],
       "_model_module": "@jupyter-widgets/controls",
       "_model_module_version": "1.5.0",
       "_model_name": "HBoxModel",
       "_view_count": null,
       "_view_module": "@jupyter-widgets/controls",
       "_view_module_version": "1.5.0",
       "_view_name": "HBoxView",
       "box_style": "",
       "children": [
        "IPY_MODEL_d960606dcbef4cdbb8b39a32e6949bbd",
        "IPY_MODEL_c03cbfbbda76445b9b077c39c0ffa260",
        "IPY_MODEL_6a6fe6cf1d49460d94fc2da3a699c935"
       ],
       "layout": "IPY_MODEL_155ea17395a84d5f8add61a5e6f3f489"
      }
     },
     "ff1ba6324d674a5298ac8ce5cf139f6c": {
      "model_module": "@jupyter-widgets/controls",
      "model_module_version": "1.5.0",
      "model_name": "FloatProgressModel",
      "state": {
       "_dom_classes": [],
       "_model_module": "@jupyter-widgets/controls",
       "_model_module_version": "1.5.0",
       "_model_name": "FloatProgressModel",
       "_view_count": null,
       "_view_module": "@jupyter-widgets/controls",
       "_view_module_version": "1.5.0",
       "_view_name": "ProgressView",
       "bar_style": "success",
       "description": "",
       "description_tooltip": null,
       "layout": "IPY_MODEL_16f07ddf999c4a4f877ba8465e7777c3",
       "max": 898822.0,
       "min": 0.0,
       "orientation": "horizontal",
       "style": "IPY_MODEL_33df9cb066d74dd4a394ebaea17e424b",
       "value": 898822.0
      }
     },
     "ffc1caea4c374c228dfc770ecb4aa315": {
      "model_module": "@jupyter-widgets/controls",
      "model_module_version": "1.5.0",
      "model_name": "HTMLModel",
      "state": {
       "_dom_classes": [],
       "_model_module": "@jupyter-widgets/controls",
       "_model_module_version": "1.5.0",
       "_model_name": "HTMLModel",
       "_view_count": null,
       "_view_module": "@jupyter-widgets/controls",
       "_view_module_version": "1.5.0",
       "_view_name": "HTMLView",
       "description": "",
       "description_tooltip": null,
       "layout": "IPY_MODEL_8f895ca8485248b2b8881820c8b9700a",
       "placeholder": "​",
       "style": "IPY_MODEL_95e94c2613de49358528d310919e710b",
       "value": "100%"
      }
     }
    },
    "version_major": 2,
    "version_minor": 0
   }
  }
 },
 "nbformat": 4,
 "nbformat_minor": 5
}
